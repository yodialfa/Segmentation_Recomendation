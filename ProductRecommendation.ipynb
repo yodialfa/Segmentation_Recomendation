{
 "cells": [
  {
   "cell_type": "code",
   "execution_count": 1,
   "id": "9402d5f1",
   "metadata": {
    "id": "9402d5f1"
   },
   "outputs": [],
   "source": [
    "#import library\n",
    "import pandas as pd\n",
    "import seaborn as sns\n",
    "import matplotlib.pyplot as plt\n",
    "import numpy as np\n",
    "import time, warnings\n",
    "import datetime as dt"
   ]
  },
  {
   "cell_type": "markdown",
   "id": "16086653",
   "metadata": {
    "id": "16086653"
   },
   "source": [
    "# Data Understanding"
   ]
  },
  {
   "cell_type": "markdown",
   "id": "d945a895",
   "metadata": {
    "id": "d945a895"
   },
   "source": [
    "Okay, in this time we will built product reccomendation using Colaborative Filtering. First I will tell the data.\n",
    "here I have some data that I found from kaggle.com and here the resources : https://www.kaggle.com/datasets/lakshmi25npathi/online-retail-dataset. But I've cleaning the data before in customer Segmentation. And now the data has add any features.\n",
    "the data has Atribute InvoceeNo, StockCode, Description, Quantity, UnitPrice, CustomerID, and Country.\n",
    "Data Dictionary : <br>\n",
    "- InvoiceNo : number code of the transacation\n",
    "- StockCode : the code of item\n",
    "- Description : dthe description of item\n",
    "- Quantity : count of item buying.\n",
    "- InvoiceDate : date of customers transcation full with the time.\n",
    "- UnitPrice : the price per item.\n",
    "- CustomerID : ID of customers\n",
    "- Country : country of customers live.\n",
    "- TotalTrx : total transcation (quantity x UnitPricce)\n",
    "- invDate : date without time\n",
    "- year : year of transaction\n",
    "- month : month of transaction\n",
    "- day : day of transaction\n",
    "- cluster : cluster of customerID\n",
    "- class : class of customerID (cluster description)"
   ]
  },
  {
   "cell_type": "code",
   "execution_count": 2,
   "id": "6b4b2900",
   "metadata": {
    "id": "6b4b2900"
   },
   "outputs": [],
   "source": [
    "#load dataset\n",
    "df_cleaned = pd.read_csv('cleaned_df.csv')\n",
    "rfmdf = pd.read_csv('cust_seg.csv')"
   ]
  },
  {
   "cell_type": "code",
   "execution_count": 3,
   "id": "c56b5c04",
   "metadata": {
    "colab": {
     "base_uri": "https://localhost:8080/",
     "height": 206
    },
    "id": "c56b5c04",
    "outputId": "544429e2-5a93-4918-ac4b-6892c51e26d6"
   },
   "outputs": [
    {
     "data": {
      "text/html": [
       "<div>\n",
       "<style scoped>\n",
       "    .dataframe tbody tr th:only-of-type {\n",
       "        vertical-align: middle;\n",
       "    }\n",
       "\n",
       "    .dataframe tbody tr th {\n",
       "        vertical-align: top;\n",
       "    }\n",
       "\n",
       "    .dataframe thead th {\n",
       "        text-align: right;\n",
       "    }\n",
       "</style>\n",
       "<table border=\"1\" class=\"dataframe\">\n",
       "  <thead>\n",
       "    <tr style=\"text-align: right;\">\n",
       "      <th></th>\n",
       "      <th>Unnamed: 0</th>\n",
       "      <th>InvoiceNo</th>\n",
       "      <th>StockCode</th>\n",
       "      <th>Description</th>\n",
       "      <th>Quantity</th>\n",
       "      <th>InvoiceDate</th>\n",
       "      <th>UnitPrice</th>\n",
       "      <th>CustomerID</th>\n",
       "      <th>Country</th>\n",
       "      <th>TotalTrx</th>\n",
       "      <th>invDate</th>\n",
       "      <th>year</th>\n",
       "      <th>month</th>\n",
       "      <th>day</th>\n",
       "      <th>hour</th>\n",
       "      <th>cluster</th>\n",
       "      <th>class</th>\n",
       "      <th>encust</th>\n",
       "      <th>encprod</th>\n",
       "      <th>qtylog</th>\n",
       "    </tr>\n",
       "  </thead>\n",
       "  <tbody>\n",
       "    <tr>\n",
       "      <th>0</th>\n",
       "      <td>42481</td>\n",
       "      <td>539993</td>\n",
       "      <td>22386</td>\n",
       "      <td>JUMBO BAG PINK POLKADOT</td>\n",
       "      <td>10</td>\n",
       "      <td>2011-01-04 10:00:00</td>\n",
       "      <td>1.95</td>\n",
       "      <td>13313.0</td>\n",
       "      <td>United Kingdom</td>\n",
       "      <td>19.5</td>\n",
       "      <td>2011-01-04</td>\n",
       "      <td>2011</td>\n",
       "      <td>1</td>\n",
       "      <td>4</td>\n",
       "      <td>10</td>\n",
       "      <td>1</td>\n",
       "      <td>Middle Spending Active customers</td>\n",
       "      <td>708</td>\n",
       "      <td>1608</td>\n",
       "      <td>1.00000</td>\n",
       "    </tr>\n",
       "    <tr>\n",
       "      <th>1</th>\n",
       "      <td>42482</td>\n",
       "      <td>539993</td>\n",
       "      <td>21499</td>\n",
       "      <td>BLUE POLKADOT WRAP</td>\n",
       "      <td>25</td>\n",
       "      <td>2011-01-04 10:00:00</td>\n",
       "      <td>0.42</td>\n",
       "      <td>13313.0</td>\n",
       "      <td>United Kingdom</td>\n",
       "      <td>10.5</td>\n",
       "      <td>2011-01-04</td>\n",
       "      <td>2011</td>\n",
       "      <td>1</td>\n",
       "      <td>4</td>\n",
       "      <td>10</td>\n",
       "      <td>1</td>\n",
       "      <td>Middle Spending Active customers</td>\n",
       "      <td>708</td>\n",
       "      <td>443</td>\n",
       "      <td>1.39794</td>\n",
       "    </tr>\n",
       "  </tbody>\n",
       "</table>\n",
       "</div>"
      ],
      "text/plain": [
       "   Unnamed: 0  InvoiceNo StockCode              Description  Quantity  \\\n",
       "0       42481     539993     22386  JUMBO BAG PINK POLKADOT        10   \n",
       "1       42482     539993     21499       BLUE POLKADOT WRAP        25   \n",
       "\n",
       "           InvoiceDate  UnitPrice  CustomerID         Country  TotalTrx  \\\n",
       "0  2011-01-04 10:00:00       1.95     13313.0  United Kingdom      19.5   \n",
       "1  2011-01-04 10:00:00       0.42     13313.0  United Kingdom      10.5   \n",
       "\n",
       "      invDate  year  month  day  hour  cluster  \\\n",
       "0  2011-01-04  2011      1    4    10        1   \n",
       "1  2011-01-04  2011      1    4    10        1   \n",
       "\n",
       "                               class  encust  encprod   qtylog  \n",
       "0  Middle Spending Active customers      708     1608  1.00000  \n",
       "1  Middle Spending Active customers      708      443  1.39794  "
      ]
     },
     "execution_count": 3,
     "metadata": {},
     "output_type": "execute_result"
    }
   ],
   "source": [
    "df_cleaned.head(2)"
   ]
  },
  {
   "cell_type": "code",
   "execution_count": 4,
   "id": "5de5b46e",
   "metadata": {
    "colab": {
     "base_uri": "https://localhost:8080/"
    },
    "id": "5de5b46e",
    "outputId": "84384051-1d86-4460-c484-ca7a43708c4a"
   },
   "outputs": [
    {
     "name": "stdout",
     "output_type": "stream",
     "text": [
      "<class 'pandas.core.frame.DataFrame'>\n",
      "RangeIndex: 371722 entries, 0 to 371721\n",
      "Data columns (total 20 columns):\n",
      " #   Column       Non-Null Count   Dtype  \n",
      "---  ------       --------------   -----  \n",
      " 0   Unnamed: 0   371722 non-null  int64  \n",
      " 1   InvoiceNo    371722 non-null  int64  \n",
      " 2   StockCode    371722 non-null  object \n",
      " 3   Description  371722 non-null  object \n",
      " 4   Quantity     371722 non-null  int64  \n",
      " 5   InvoiceDate  371722 non-null  object \n",
      " 6   UnitPrice    371722 non-null  float64\n",
      " 7   CustomerID   371722 non-null  float64\n",
      " 8   Country      371722 non-null  object \n",
      " 9   TotalTrx     371722 non-null  float64\n",
      " 10  invDate      371722 non-null  object \n",
      " 11  year         371722 non-null  int64  \n",
      " 12  month        371722 non-null  int64  \n",
      " 13  day          371722 non-null  int64  \n",
      " 14  hour         371722 non-null  int64  \n",
      " 15  cluster      371722 non-null  int64  \n",
      " 16  class        371722 non-null  object \n",
      " 17  encust       371722 non-null  int64  \n",
      " 18  encprod      371722 non-null  int64  \n",
      " 19  qtylog       371722 non-null  float64\n",
      "dtypes: float64(4), int64(10), object(6)\n",
      "memory usage: 56.7+ MB\n"
     ]
    }
   ],
   "source": [
    "#data understanding\n",
    "df_cleaned.info()"
   ]
  },
  {
   "cell_type": "code",
   "execution_count": 5,
   "id": "582666d8",
   "metadata": {},
   "outputs": [
    {
     "data": {
      "text/html": [
       "<div>\n",
       "<style scoped>\n",
       "    .dataframe tbody tr th:only-of-type {\n",
       "        vertical-align: middle;\n",
       "    }\n",
       "\n",
       "    .dataframe tbody tr th {\n",
       "        vertical-align: top;\n",
       "    }\n",
       "\n",
       "    .dataframe thead th {\n",
       "        text-align: right;\n",
       "    }\n",
       "</style>\n",
       "<table border=\"1\" class=\"dataframe\">\n",
       "  <thead>\n",
       "    <tr style=\"text-align: right;\">\n",
       "      <th></th>\n",
       "      <th>Unnamed: 0</th>\n",
       "      <th>CustomerID</th>\n",
       "      <th>recency</th>\n",
       "      <th>frequency</th>\n",
       "      <th>monetary</th>\n",
       "      <th>cluster</th>\n",
       "      <th>class</th>\n",
       "      <th>qtylog</th>\n",
       "    </tr>\n",
       "  </thead>\n",
       "  <tbody>\n",
       "    <tr>\n",
       "      <th>0</th>\n",
       "      <td>0</td>\n",
       "      <td>12346.0</td>\n",
       "      <td>325</td>\n",
       "      <td>0.301030</td>\n",
       "      <td>4.887531</td>\n",
       "      <td>0</td>\n",
       "      <td>Best customers</td>\n",
       "      <td>NaN</td>\n",
       "    </tr>\n",
       "    <tr>\n",
       "      <th>1</th>\n",
       "      <td>1</td>\n",
       "      <td>12347.0</td>\n",
       "      <td>2</td>\n",
       "      <td>2.181844</td>\n",
       "      <td>3.556207</td>\n",
       "      <td>3</td>\n",
       "      <td>New Customers</td>\n",
       "      <td>NaN</td>\n",
       "    </tr>\n",
       "    <tr>\n",
       "      <th>2</th>\n",
       "      <td>2</td>\n",
       "      <td>12348.0</td>\n",
       "      <td>75</td>\n",
       "      <td>1.176091</td>\n",
       "      <td>2.956860</td>\n",
       "      <td>1</td>\n",
       "      <td>Middle Spending Active customers</td>\n",
       "      <td>NaN</td>\n",
       "    </tr>\n",
       "    <tr>\n",
       "      <th>3</th>\n",
       "      <td>3</td>\n",
       "      <td>12349.0</td>\n",
       "      <td>18</td>\n",
       "      <td>1.869232</td>\n",
       "      <td>3.245155</td>\n",
       "      <td>1</td>\n",
       "      <td>Middle Spending Active customers</td>\n",
       "      <td>NaN</td>\n",
       "    </tr>\n",
       "    <tr>\n",
       "      <th>4</th>\n",
       "      <td>4</td>\n",
       "      <td>12350.0</td>\n",
       "      <td>310</td>\n",
       "      <td>1.255273</td>\n",
       "      <td>2.525563</td>\n",
       "      <td>0</td>\n",
       "      <td>Best customers</td>\n",
       "      <td>NaN</td>\n",
       "    </tr>\n",
       "  </tbody>\n",
       "</table>\n",
       "</div>"
      ],
      "text/plain": [
       "   Unnamed: 0  CustomerID  recency  frequency  monetary  cluster  \\\n",
       "0           0     12346.0      325   0.301030  4.887531        0   \n",
       "1           1     12347.0        2   2.181844  3.556207        3   \n",
       "2           2     12348.0       75   1.176091  2.956860        1   \n",
       "3           3     12349.0       18   1.869232  3.245155        1   \n",
       "4           4     12350.0      310   1.255273  2.525563        0   \n",
       "\n",
       "                               class  qtylog  \n",
       "0                     Best customers     NaN  \n",
       "1                      New Customers     NaN  \n",
       "2  Middle Spending Active customers      NaN  \n",
       "3  Middle Spending Active customers      NaN  \n",
       "4                     Best customers     NaN  "
      ]
     },
     "execution_count": 5,
     "metadata": {},
     "output_type": "execute_result"
    }
   ],
   "source": [
    "rfmdf.head()"
   ]
  },
  {
   "cell_type": "code",
   "execution_count": 6,
   "id": "3cbb3410",
   "metadata": {
    "colab": {
     "base_uri": "https://localhost:8080/"
    },
    "id": "3cbb3410",
    "outputId": "36eea68e-cf4b-4b24-8b80-91dc2ad26f8d"
   },
   "outputs": [
    {
     "data": {
      "text/plain": [
       "(371722, 20)"
      ]
     },
     "execution_count": 6,
     "metadata": {},
     "output_type": "execute_result"
    }
   ],
   "source": [
    "#total rows and columns\n",
    "df_cleaned.shape\n"
   ]
  },
  {
   "cell_type": "code",
   "execution_count": 7,
   "id": "b1b4d6e3",
   "metadata": {
    "colab": {
     "base_uri": "https://localhost:8080/"
    },
    "id": "b1b4d6e3",
    "outputId": "4ce593e1-9e38-47d1-cbb5-732888b0ff35"
   },
   "outputs": [
    {
     "data": {
      "text/plain": [
       "Unnamed: 0     371722\n",
       "InvoiceNo       17128\n",
       "StockCode        3595\n",
       "Description      3519\n",
       "Quantity          289\n",
       "InvoiceDate     15985\n",
       "UnitPrice         428\n",
       "CustomerID       4217\n",
       "Country            36\n",
       "TotalTrx         2730\n",
       "invDate           285\n",
       "year                1\n",
       "month              12\n",
       "day                31\n",
       "hour               15\n",
       "cluster             4\n",
       "class               4\n",
       "encust           4217\n",
       "encprod          3519\n",
       "qtylog            289\n",
       "dtype: int64"
      ]
     },
     "execution_count": 7,
     "metadata": {},
     "output_type": "execute_result"
    }
   ],
   "source": [
    "#check unique value for each columns\n",
    "df_cleaned.nunique()"
   ]
  },
  {
   "cell_type": "code",
   "execution_count": 8,
   "id": "53380b01",
   "metadata": {
    "colab": {
     "base_uri": "https://localhost:8080/"
    },
    "id": "53380b01",
    "outputId": "70e1854c-ec9c-4a78-8856-547706003685"
   },
   "outputs": [
    {
     "data": {
      "text/plain": [
       "United Kingdom          330374\n",
       "Germany                   8528\n",
       "France                    7907\n",
       "EIRE                      6903\n",
       "Spain                     2409\n",
       "Netherlands               2287\n",
       "Belgium                   1936\n",
       "Switzerland               1792\n",
       "Portugal                  1346\n",
       "Australia                 1150\n",
       "Norway                     924\n",
       "Channel Islands            731\n",
       "Italy                      718\n",
       "Finland                    668\n",
       "Cyprus                     531\n",
       "Sweden                     425\n",
       "Austria                    390\n",
       "Denmark                    360\n",
       "Poland                     322\n",
       "Japan                      256\n",
       "Israel                     248\n",
       "Unspecified                244\n",
       "Singapore                  222\n",
       "USA                        179\n",
       "Iceland                    151\n",
       "Canada                     151\n",
       "Greece                     145\n",
       "Malta                      112\n",
       "United Arab Emirates        68\n",
       "European Community          60\n",
       "RSA                         57\n",
       "Lebanon                     45\n",
       "Brazil                      32\n",
       "Czech Republic              25\n",
       "Bahrain                     17\n",
       "Saudi Arabia                 9\n",
       "Name: Country, dtype: int64"
      ]
     },
     "execution_count": 8,
     "metadata": {},
     "output_type": "execute_result"
    }
   ],
   "source": [
    "#check value counts in country columns\n",
    "df_cleaned['Country'].value_counts()"
   ]
  },
  {
   "cell_type": "code",
   "execution_count": 9,
   "id": "9b362c63",
   "metadata": {
    "colab": {
     "base_uri": "https://localhost:8080/"
    },
    "id": "9b362c63",
    "outputId": "3ac40b79-b901-4d7e-b5ee-eab64748538f"
   },
   "outputs": [
    {
     "data": {
      "text/plain": [
       "Unnamed: 0     0\n",
       "InvoiceNo      0\n",
       "StockCode      0\n",
       "Description    0\n",
       "Quantity       0\n",
       "InvoiceDate    0\n",
       "UnitPrice      0\n",
       "CustomerID     0\n",
       "Country        0\n",
       "TotalTrx       0\n",
       "invDate        0\n",
       "year           0\n",
       "month          0\n",
       "day            0\n",
       "hour           0\n",
       "cluster        0\n",
       "class          0\n",
       "encust         0\n",
       "encprod        0\n",
       "qtylog         0\n",
       "dtype: int64"
      ]
     },
     "execution_count": 9,
     "metadata": {},
     "output_type": "execute_result"
    }
   ],
   "source": [
    "#check total of missing value\n",
    "df_cleaned.isna().sum()"
   ]
  },
  {
   "cell_type": "code",
   "execution_count": 10,
   "id": "fad06e9f",
   "metadata": {
    "id": "fad06e9f"
   },
   "outputs": [
    {
     "data": {
      "image/png": "[encoded data removed]",
      "text/plain": [
       "<Figure size 720x432 with 3 Axes>"
      ]
     },
     "metadata": {
      "needs_background": "light"
     },
     "output_type": "display_data"
    }
   ],
   "source": [
    "#define variable of column to figure out visualization\n",
    "val = ['recency','frequency','monetary']\n",
    "# adjust the figure size for better readability\n",
    "plt.figure(figsize=(10,6))\n",
    "# plotting\n",
    "for i in range(0, len(val)):\n",
    "    plt.subplot(1, len(val), i+1)\n",
    "    sns.boxplot(y=rfmdf[val[i]], color='yellow')\n",
    "    plt.tight_layout()\n"
   ]
  },
  {
   "cell_type": "markdown",
   "id": "ac747836",
   "metadata": {},
   "source": [
    "the data has outlers, but we'll keep it, because that's data transaction."
   ]
  },
  {
   "cell_type": "code",
   "execution_count": 11,
   "id": "13b1b791",
   "metadata": {
    "id": "13b1b791"
   },
   "outputs": [],
   "source": [
    "# # def check_outlier(data, column):\n",
    "# def check_outlier(data, column):\n",
    "#     q1 = data[column].quantile(0.25)\n",
    "#     q3 = data[column].quantile(0.75)\n",
    "#     iqr = q3 - q1\n",
    "    \n",
    "#     return ['outlier' if (x<q1-1.5*iqr or x>q3+1.5*iqr) \n",
    "#                                  else 'not-outlier' for x in data[column].values]\n"
   ]
  },
  {
   "cell_type": "code",
   "execution_count": 12,
   "id": "8db26dd0",
   "metadata": {
    "id": "8db26dd0"
   },
   "outputs": [
    {
     "data": {
      "image/png": "[encoded data removed]",
      "text/plain": [
       "<Figure size 720x360 with 3 Axes>"
      ]
     },
     "metadata": {
      "needs_background": "light"
     },
     "output_type": "display_data"
    }
   ],
   "source": [
    "#scatter of data \n",
    "fig, axes = plt.subplots(1,3, figsize=(10,5))\n",
    "sns.scatterplot(ax=axes[0],data=rfmdf,x='recency', y='monetary')\n",
    "sns.scatterplot(ax=axes[1],data=rfmdf,x='frequency', y='monetary')\n",
    "sns.scatterplot(ax=axes[2],data=rfmdf,y='recency', x='monetary')\n",
    "plt.tight_layout()"
   ]
  },
  {
   "cell_type": "code",
   "execution_count": 13,
   "id": "06af5b07",
   "metadata": {},
   "outputs": [],
   "source": [
    "\n",
    "# df['rating'] = [0.5 if (x>0 and x < 3 and y > 0 and y <=1) else\n",
    "#                 1 if (x>=3 and x<=5 and y > 0 and y <= 1) else\n",
    "#                 1.5 if (x>5 and  x<=7 and y >0 and y <= 1) else\n",
    "#                 2 if (x>0 and x < 3 and y > 1 and y <= 3) else\n",
    "#                 2.5 if (x>0 and x < 3 and y > 3 and y <= 5) else\n",
    "#                 3 if (x>5 and x<=7 and y > 3 and y <= 5) else\n",
    "#                 3.5 if (x>0 and x <= 10  and y >0 ) else\n",
    "#                 4 if (x>10 and x <= 20 and y > 0 and y <= 10) else \n",
    "#                 4.5 if (x>10 and x<=20 and y >10 )else\n",
    "#                 5 if (x>20  and y > 0) else 'none' for x,y in zip(df['Quantity'], df['UnitPrice'])]"
   ]
  },
  {
   "cell_type": "code",
   "execution_count": 14,
   "id": "dd0ff309",
   "metadata": {},
   "outputs": [],
   "source": [
    "# df.rating.value_counts()"
   ]
  },
  {
   "cell_type": "code",
   "execution_count": 15,
   "id": "0f4fddb3",
   "metadata": {},
   "outputs": [],
   "source": [
    "# af = np.arange(0.5,5.5,0.5)\n",
    "\n",
    "# for z in af:\n",
    "#     dd = df[df['rating']==z]\n",
    "#     print('Min Transaction in Rating',z,'is',dd.TotalTrx.min())\n",
    "#     print('Max Transaction in Rating',z,'is',dd.TotalTrx.max(),'\\n')"
   ]
  },
  {
   "cell_type": "code",
   "execution_count": 16,
   "id": "5f3a5016",
   "metadata": {},
   "outputs": [],
   "source": [
    "# #grouping StockCode \n",
    "# product_code = df.groupby(['StockCode','Description']).agg(number_of_ratings = ('rating', 'sum')).reset_index()\n",
    "# #sorted by counts \n",
    "# product_code = product_code.sort_values(by=['number_of_ratings'],ascending=False)\n",
    "\n",
    "# product_code.head()"
   ]
  },
  {
   "cell_type": "code",
   "execution_count": 17,
   "id": "8aa40517",
   "metadata": {},
   "outputs": [],
   "source": [
    "# product_code.sort_values(by='number_of_ratings',ascending=False)"
   ]
  },
  {
   "cell_type": "code",
   "execution_count": 18,
   "id": "cd5a1117",
   "metadata": {},
   "outputs": [
    {
     "data": {
      "text/html": [
       "<div>\n",
       "<style scoped>\n",
       "    .dataframe tbody tr th:only-of-type {\n",
       "        vertical-align: middle;\n",
       "    }\n",
       "\n",
       "    .dataframe tbody tr th {\n",
       "        vertical-align: top;\n",
       "    }\n",
       "\n",
       "    .dataframe thead th {\n",
       "        text-align: right;\n",
       "    }\n",
       "</style>\n",
       "<table border=\"1\" class=\"dataframe\">\n",
       "  <thead>\n",
       "    <tr style=\"text-align: right;\">\n",
       "      <th></th>\n",
       "      <th>InvoiceNo</th>\n",
       "      <th>StockCode</th>\n",
       "      <th>Description</th>\n",
       "      <th>Quantity</th>\n",
       "    </tr>\n",
       "  </thead>\n",
       "  <tbody>\n",
       "    <tr>\n",
       "      <th>0</th>\n",
       "      <td>539993</td>\n",
       "      <td>22386</td>\n",
       "      <td>JUMBO BAG PINK POLKADOT</td>\n",
       "      <td>10</td>\n",
       "    </tr>\n",
       "    <tr>\n",
       "      <th>1</th>\n",
       "      <td>539993</td>\n",
       "      <td>21499</td>\n",
       "      <td>BLUE POLKADOT WRAP</td>\n",
       "      <td>25</td>\n",
       "    </tr>\n",
       "    <tr>\n",
       "      <th>2</th>\n",
       "      <td>539993</td>\n",
       "      <td>21498</td>\n",
       "      <td>RED RETROSPOT WRAP</td>\n",
       "      <td>25</td>\n",
       "    </tr>\n",
       "    <tr>\n",
       "      <th>3</th>\n",
       "      <td>539993</td>\n",
       "      <td>22379</td>\n",
       "      <td>RECYCLING BAG RETROSPOT</td>\n",
       "      <td>5</td>\n",
       "    </tr>\n",
       "    <tr>\n",
       "      <th>4</th>\n",
       "      <td>539993</td>\n",
       "      <td>20718</td>\n",
       "      <td>RED RETROSPOT SHOPPER BAG</td>\n",
       "      <td>10</td>\n",
       "    </tr>\n",
       "  </tbody>\n",
       "</table>\n",
       "</div>"
      ],
      "text/plain": [
       "   InvoiceNo StockCode                Description  Quantity\n",
       "0     539993     22386    JUMBO BAG PINK POLKADOT        10\n",
       "1     539993     21499         BLUE POLKADOT WRAP        25\n",
       "2     539993     21498        RED RETROSPOT WRAP         25\n",
       "3     539993     22379   RECYCLING BAG RETROSPOT          5\n",
       "4     539993     20718  RED RETROSPOT SHOPPER BAG        10"
      ]
     },
     "execution_count": 18,
     "metadata": {},
     "output_type": "execute_result"
    }
   ],
   "source": [
    "df_baskets = df_cleaned[['InvoiceNo', 'StockCode', 'Description', 'Quantity']]\n",
    "df_baskets.head()"
   ]
  },
  {
   "cell_type": "code",
   "execution_count": 19,
   "id": "1f626e9f",
   "metadata": {},
   "outputs": [
    {
     "data": {
      "text/html": [
       "<div>\n",
       "<style scoped>\n",
       "    .dataframe tbody tr th:only-of-type {\n",
       "        vertical-align: middle;\n",
       "    }\n",
       "\n",
       "    .dataframe tbody tr th {\n",
       "        vertical-align: top;\n",
       "    }\n",
       "\n",
       "    .dataframe thead th {\n",
       "        text-align: right;\n",
       "    }\n",
       "</style>\n",
       "<table border=\"1\" class=\"dataframe\">\n",
       "  <thead>\n",
       "    <tr style=\"text-align: right;\">\n",
       "      <th></th>\n",
       "      <th>orders</th>\n",
       "      <th>quantity</th>\n",
       "    </tr>\n",
       "    <tr>\n",
       "      <th>Description</th>\n",
       "      <th></th>\n",
       "      <th></th>\n",
       "    </tr>\n",
       "  </thead>\n",
       "  <tbody>\n",
       "    <tr>\n",
       "      <th>MAILOUT</th>\n",
       "      <td>1945</td>\n",
       "      <td>43236</td>\n",
       "    </tr>\n",
       "    <tr>\n",
       "      <th>WHITE HANGING HEART T-LIGHT HOLDER</th>\n",
       "      <td>1777</td>\n",
       "      <td>33171</td>\n",
       "    </tr>\n",
       "    <tr>\n",
       "      <th>REGENCY CAKESTAND 3 TIER</th>\n",
       "      <td>1566</td>\n",
       "      <td>10832</td>\n",
       "    </tr>\n",
       "    <tr>\n",
       "      <th>JUMBO BAG RED RETROSPOT</th>\n",
       "      <td>1517</td>\n",
       "      <td>44125</td>\n",
       "    </tr>\n",
       "    <tr>\n",
       "      <th>PARTY BUNTING</th>\n",
       "      <td>1356</td>\n",
       "      <td>15101</td>\n",
       "    </tr>\n",
       "    <tr>\n",
       "      <th>ASSORTED COLOUR BIRD ORNAMENT</th>\n",
       "      <td>1284</td>\n",
       "      <td>33095</td>\n",
       "    </tr>\n",
       "    <tr>\n",
       "      <th>LUNCH BAG RED RETROSPOT</th>\n",
       "      <td>1235</td>\n",
       "      <td>17249</td>\n",
       "    </tr>\n",
       "    <tr>\n",
       "      <th>SET OF 3 CAKE TINS PANTRY DESIGN</th>\n",
       "      <td>1099</td>\n",
       "      <td>6808</td>\n",
       "    </tr>\n",
       "    <tr>\n",
       "      <th>POSTAGE</th>\n",
       "      <td>1035</td>\n",
       "      <td>2900</td>\n",
       "    </tr>\n",
       "    <tr>\n",
       "      <th>SPOTTY BUNTING</th>\n",
       "      <td>1009</td>\n",
       "      <td>7785</td>\n",
       "    </tr>\n",
       "  </tbody>\n",
       "</table>\n",
       "</div>"
      ],
      "text/plain": [
       "                                    orders  quantity\n",
       "Description                                         \n",
       "MAILOUT                               1945     43236\n",
       "WHITE HANGING HEART T-LIGHT HOLDER    1777     33171\n",
       "REGENCY CAKESTAND 3 TIER              1566     10832\n",
       "JUMBO BAG RED RETROSPOT               1517     44125\n",
       "PARTY BUNTING                         1356     15101\n",
       "ASSORTED COLOUR BIRD ORNAMENT         1284     33095\n",
       "LUNCH BAG RED RETROSPOT               1235     17249\n",
       "SET OF 3 CAKE TINS PANTRY DESIGN      1099      6808\n",
       "POSTAGE                               1035      2900\n",
       "SPOTTY BUNTING                        1009      7785"
      ]
     },
     "execution_count": 19,
     "metadata": {},
     "output_type": "execute_result"
    }
   ],
   "source": [
    "df_cleaned.groupby('Description').agg(\n",
    "    orders=('InvoiceNo', 'nunique'),\n",
    "    quantity=('Quantity', 'sum')\n",
    ").sort_values(by='orders', ascending=False).head(10)"
   ]
  },
  {
   "cell_type": "code",
   "execution_count": 20,
   "id": "28d149fc",
   "metadata": {},
   "outputs": [
    {
     "data": {
      "text/html": [
       "<div>\n",
       "<style scoped>\n",
       "    .dataframe tbody tr th:only-of-type {\n",
       "        vertical-align: middle;\n",
       "    }\n",
       "\n",
       "    .dataframe tbody tr th {\n",
       "        vertical-align: top;\n",
       "    }\n",
       "\n",
       "    .dataframe thead th {\n",
       "        text-align: right;\n",
       "    }\n",
       "</style>\n",
       "<table border=\"1\" class=\"dataframe\">\n",
       "  <thead>\n",
       "    <tr style=\"text-align: right;\">\n",
       "      <th>Description</th>\n",
       "      <th>4 PURPLE FLOCK DINNER CANDLES</th>\n",
       "      <th>50'S CHRISTMAS GIFT BAG LARGE</th>\n",
       "      <th>DOLLY GIRL BEAKER</th>\n",
       "      <th>I LOVE LONDON MINI BACKPACK</th>\n",
       "      <th>NINE DRAWER OFFICE TIDY</th>\n",
       "      <th>OVAL WALL MIRROR DIAMANTE</th>\n",
       "      <th>RED SPOT GIFT BAG LARGE</th>\n",
       "      <th>SET 2 TEA TOWELS I LOVE LONDON</th>\n",
       "      <th>SPACEBOY BABY GIFT SET</th>\n",
       "      <th>TRELLIS COAT RACK</th>\n",
       "      <th>...</th>\n",
       "      <th>ZINC HEARTS PLANT POT HOLDER</th>\n",
       "      <th>ZINC HERB GARDEN CONTAINER</th>\n",
       "      <th>ZINC METAL HEART DECORATION</th>\n",
       "      <th>ZINC SWEETHEART SOAP DISH</th>\n",
       "      <th>ZINC SWEETHEART WIRE LETTER RACK</th>\n",
       "      <th>ZINC T-LIGHT HOLDER STAR LARGE</th>\n",
       "      <th>ZINC T-LIGHT HOLDER STARS SMALL</th>\n",
       "      <th>ZINC WILLIE WINKIE  CANDLE STICK</th>\n",
       "      <th>ZINC WIRE KITCHEN ORGANISER</th>\n",
       "      <th>ZINC WIRE SWEETHEART LETTER TRAY</th>\n",
       "    </tr>\n",
       "    <tr>\n",
       "      <th>InvoiceNo</th>\n",
       "      <th></th>\n",
       "      <th></th>\n",
       "      <th></th>\n",
       "      <th></th>\n",
       "      <th></th>\n",
       "      <th></th>\n",
       "      <th></th>\n",
       "      <th></th>\n",
       "      <th></th>\n",
       "      <th></th>\n",
       "      <th></th>\n",
       "      <th></th>\n",
       "      <th></th>\n",
       "      <th></th>\n",
       "      <th></th>\n",
       "      <th></th>\n",
       "      <th></th>\n",
       "      <th></th>\n",
       "      <th></th>\n",
       "      <th></th>\n",
       "      <th></th>\n",
       "    </tr>\n",
       "  </thead>\n",
       "  <tbody>\n",
       "    <tr>\n",
       "      <th>539993</th>\n",
       "      <td>0.0</td>\n",
       "      <td>0.0</td>\n",
       "      <td>0.0</td>\n",
       "      <td>0.0</td>\n",
       "      <td>0.0</td>\n",
       "      <td>0.0</td>\n",
       "      <td>0.0</td>\n",
       "      <td>0.0</td>\n",
       "      <td>0.0</td>\n",
       "      <td>0.0</td>\n",
       "      <td>...</td>\n",
       "      <td>0.0</td>\n",
       "      <td>0.0</td>\n",
       "      <td>0.0</td>\n",
       "      <td>0.0</td>\n",
       "      <td>0.0</td>\n",
       "      <td>0.0</td>\n",
       "      <td>0.0</td>\n",
       "      <td>0.0</td>\n",
       "      <td>0.0</td>\n",
       "      <td>0.0</td>\n",
       "    </tr>\n",
       "    <tr>\n",
       "      <th>540001</th>\n",
       "      <td>0.0</td>\n",
       "      <td>0.0</td>\n",
       "      <td>0.0</td>\n",
       "      <td>0.0</td>\n",
       "      <td>0.0</td>\n",
       "      <td>0.0</td>\n",
       "      <td>0.0</td>\n",
       "      <td>0.0</td>\n",
       "      <td>0.0</td>\n",
       "      <td>0.0</td>\n",
       "      <td>...</td>\n",
       "      <td>0.0</td>\n",
       "      <td>0.0</td>\n",
       "      <td>0.0</td>\n",
       "      <td>0.0</td>\n",
       "      <td>0.0</td>\n",
       "      <td>0.0</td>\n",
       "      <td>0.0</td>\n",
       "      <td>0.0</td>\n",
       "      <td>0.0</td>\n",
       "      <td>0.0</td>\n",
       "    </tr>\n",
       "    <tr>\n",
       "      <th>540002</th>\n",
       "      <td>0.0</td>\n",
       "      <td>0.0</td>\n",
       "      <td>0.0</td>\n",
       "      <td>0.0</td>\n",
       "      <td>0.0</td>\n",
       "      <td>0.0</td>\n",
       "      <td>0.0</td>\n",
       "      <td>0.0</td>\n",
       "      <td>0.0</td>\n",
       "      <td>0.0</td>\n",
       "      <td>...</td>\n",
       "      <td>0.0</td>\n",
       "      <td>0.0</td>\n",
       "      <td>0.0</td>\n",
       "      <td>0.0</td>\n",
       "      <td>0.0</td>\n",
       "      <td>0.0</td>\n",
       "      <td>0.0</td>\n",
       "      <td>0.0</td>\n",
       "      <td>0.0</td>\n",
       "      <td>0.0</td>\n",
       "    </tr>\n",
       "    <tr>\n",
       "      <th>540003</th>\n",
       "      <td>0.0</td>\n",
       "      <td>0.0</td>\n",
       "      <td>0.0</td>\n",
       "      <td>0.0</td>\n",
       "      <td>0.0</td>\n",
       "      <td>0.0</td>\n",
       "      <td>0.0</td>\n",
       "      <td>0.0</td>\n",
       "      <td>0.0</td>\n",
       "      <td>0.0</td>\n",
       "      <td>...</td>\n",
       "      <td>0.0</td>\n",
       "      <td>0.0</td>\n",
       "      <td>0.0</td>\n",
       "      <td>0.0</td>\n",
       "      <td>0.0</td>\n",
       "      <td>0.0</td>\n",
       "      <td>0.0</td>\n",
       "      <td>0.0</td>\n",
       "      <td>0.0</td>\n",
       "      <td>0.0</td>\n",
       "    </tr>\n",
       "    <tr>\n",
       "      <th>540004</th>\n",
       "      <td>0.0</td>\n",
       "      <td>0.0</td>\n",
       "      <td>0.0</td>\n",
       "      <td>0.0</td>\n",
       "      <td>0.0</td>\n",
       "      <td>0.0</td>\n",
       "      <td>0.0</td>\n",
       "      <td>0.0</td>\n",
       "      <td>0.0</td>\n",
       "      <td>0.0</td>\n",
       "      <td>...</td>\n",
       "      <td>0.0</td>\n",
       "      <td>0.0</td>\n",
       "      <td>0.0</td>\n",
       "      <td>0.0</td>\n",
       "      <td>0.0</td>\n",
       "      <td>0.0</td>\n",
       "      <td>0.0</td>\n",
       "      <td>0.0</td>\n",
       "      <td>0.0</td>\n",
       "      <td>0.0</td>\n",
       "    </tr>\n",
       "  </tbody>\n",
       "</table>\n",
       "<p>5 rows × 3519 columns</p>\n",
       "</div>"
      ],
      "text/plain": [
       "Description   4 PURPLE FLOCK DINNER CANDLES   50'S CHRISTMAS GIFT BAG LARGE  \\\n",
       "InvoiceNo                                                                     \n",
       "539993                                  0.0                             0.0   \n",
       "540001                                  0.0                             0.0   \n",
       "540002                                  0.0                             0.0   \n",
       "540003                                  0.0                             0.0   \n",
       "540004                                  0.0                             0.0   \n",
       "\n",
       "Description   DOLLY GIRL BEAKER   I LOVE LONDON MINI BACKPACK  \\\n",
       "InvoiceNo                                                       \n",
       "539993                      0.0                           0.0   \n",
       "540001                      0.0                           0.0   \n",
       "540002                      0.0                           0.0   \n",
       "540003                      0.0                           0.0   \n",
       "540004                      0.0                           0.0   \n",
       "\n",
       "Description   NINE DRAWER OFFICE TIDY   OVAL WALL MIRROR DIAMANTE   \\\n",
       "InvoiceNo                                                            \n",
       "539993                            0.0                          0.0   \n",
       "540001                            0.0                          0.0   \n",
       "540002                            0.0                          0.0   \n",
       "540003                            0.0                          0.0   \n",
       "540004                            0.0                          0.0   \n",
       "\n",
       "Description   RED SPOT GIFT BAG LARGE   SET 2 TEA TOWELS I LOVE LONDON   \\\n",
       "InvoiceNo                                                                 \n",
       "539993                            0.0                               0.0   \n",
       "540001                            0.0                               0.0   \n",
       "540002                            0.0                               0.0   \n",
       "540003                            0.0                               0.0   \n",
       "540004                            0.0                               0.0   \n",
       "\n",
       "Description   SPACEBOY BABY GIFT SET   TRELLIS COAT RACK  ...  \\\n",
       "InvoiceNo                                                 ...   \n",
       "539993                           0.0                 0.0  ...   \n",
       "540001                           0.0                 0.0  ...   \n",
       "540002                           0.0                 0.0  ...   \n",
       "540003                           0.0                 0.0  ...   \n",
       "540004                           0.0                 0.0  ...   \n",
       "\n",
       "Description  ZINC HEARTS PLANT POT HOLDER  ZINC HERB GARDEN CONTAINER  \\\n",
       "InvoiceNo                                                               \n",
       "539993                                0.0                         0.0   \n",
       "540001                                0.0                         0.0   \n",
       "540002                                0.0                         0.0   \n",
       "540003                                0.0                         0.0   \n",
       "540004                                0.0                         0.0   \n",
       "\n",
       "Description  ZINC METAL HEART DECORATION  ZINC SWEETHEART SOAP DISH  \\\n",
       "InvoiceNo                                                             \n",
       "539993                               0.0                        0.0   \n",
       "540001                               0.0                        0.0   \n",
       "540002                               0.0                        0.0   \n",
       "540003                               0.0                        0.0   \n",
       "540004                               0.0                        0.0   \n",
       "\n",
       "Description  ZINC SWEETHEART WIRE LETTER RACK  ZINC T-LIGHT HOLDER STAR LARGE  \\\n",
       "InvoiceNo                                                                       \n",
       "539993                                    0.0                             0.0   \n",
       "540001                                    0.0                             0.0   \n",
       "540002                                    0.0                             0.0   \n",
       "540003                                    0.0                             0.0   \n",
       "540004                                    0.0                             0.0   \n",
       "\n",
       "Description  ZINC T-LIGHT HOLDER STARS SMALL  \\\n",
       "InvoiceNo                                      \n",
       "539993                                   0.0   \n",
       "540001                                   0.0   \n",
       "540002                                   0.0   \n",
       "540003                                   0.0   \n",
       "540004                                   0.0   \n",
       "\n",
       "Description  ZINC WILLIE WINKIE  CANDLE STICK  ZINC WIRE KITCHEN ORGANISER  \\\n",
       "InvoiceNo                                                                    \n",
       "539993                                    0.0                          0.0   \n",
       "540001                                    0.0                          0.0   \n",
       "540002                                    0.0                          0.0   \n",
       "540003                                    0.0                          0.0   \n",
       "540004                                    0.0                          0.0   \n",
       "\n",
       "Description  ZINC WIRE SWEETHEART LETTER TRAY  \n",
       "InvoiceNo                                      \n",
       "539993                                    0.0  \n",
       "540001                                    0.0  \n",
       "540002                                    0.0  \n",
       "540003                                    0.0  \n",
       "540004                                    0.0  \n",
       "\n",
       "[5 rows x 3519 columns]"
      ]
     },
     "execution_count": 20,
     "metadata": {},
     "output_type": "execute_result"
    }
   ],
   "source": [
    "df_items = df_cleaned.pivot_table(index='InvoiceNo', columns=['Description'], values='Quantity').fillna(0)\n",
    "df_items.head()"
   ]
  },
  {
   "cell_type": "code",
   "execution_count": 21,
   "id": "5ceba915",
   "metadata": {},
   "outputs": [
    {
     "name": "stdout",
     "output_type": "stream",
     "text": [
      "<class 'pandas.core.frame.DataFrame'>\n",
      "Int64Index: 17128 entries, 539993 to 581587\n",
      "Columns: 3519 entries,  4 PURPLE FLOCK DINNER CANDLES to ZINC WIRE SWEETHEART LETTER TRAY\n",
      "dtypes: float64(3519)\n",
      "memory usage: 460.0 MB\n"
     ]
    }
   ],
   "source": [
    "df_items.info()"
   ]
  },
  {
   "cell_type": "code",
   "execution_count": 22,
   "id": "028e3b4e",
   "metadata": {},
   "outputs": [],
   "source": [
    "def get_recommendations(df, item):\n",
    "    \"\"\"Generate a set of product recommendations using item-based collaborative filtering.\n",
    "    \n",
    "    Args:\n",
    "        df (dataframe): Pandas dataframe containing matrix of items purchased.\n",
    "        item (string): Column name for target item. \n",
    "        \n",
    "    Returns: \n",
    "        recommendations (dataframe): Pandas dataframe containing product recommendations. \n",
    "    \"\"\"\n",
    "    \n",
    "    recommendations = df.corrwith(df[item])\n",
    "    recommendations.dropna(inplace=True)\n",
    "    recommendations = pd.DataFrame(recommendations).reset_index()\n",
    "    recommendations = recommendations.sort_values(by='correlation', ascending=False)\n",
    "    recommendations = recommendations.iloc[1:]\n",
    "    \n",
    "    return recommendations"
   ]
  },
  {
   "cell_type": "code",
   "execution_count": 23,
   "id": "c4f67f57",
   "metadata": {},
   "outputs": [],
   "source": [
    "# recommendations = get_recommendations(df_items, 'ZINC WIRE SWEETHEART LETTER TRAY')\n",
    "# recommendations.head()"
   ]
  },
  {
   "cell_type": "code",
   "execution_count": 24,
   "id": "85486436",
   "metadata": {},
   "outputs": [],
   "source": [
    "# recommendations = df_items.corrwith(df_items['OVAL WALL MIRROR DIAMANTE'])\n",
    "# recommendations.dropna(inplace=True)\n",
    "# recommendations = pd.DataFrame(recommendations, columns=['correlation']).reset_index()\n",
    "# recommendations"
   ]
  },
  {
   "cell_type": "code",
   "execution_count": 25,
   "id": "39a69187",
   "metadata": {},
   "outputs": [],
   "source": [
    "# recommendations = recommendations.sort_values(by='correlation', ascending=False)\n",
    "# recommendations"
   ]
  },
  {
   "cell_type": "code",
   "execution_count": 26,
   "id": "210b099b",
   "metadata": {},
   "outputs": [],
   "source": [
    "# recommendations = recommendations[1:]\n",
    "# recommendations.head()"
   ]
  },
  {
   "cell_type": "code",
   "execution_count": null,
   "id": "67fef968",
   "metadata": {},
   "outputs": [],
   "source": [
    "df"
   ]
  },
  {
   "cell_type": "code",
   "execution_count": 4,
   "id": "9c4637d2",
   "metadata": {},
   "outputs": [],
   "source": [
    "import os\n",
    "import time\n",
    "\n",
    "# spark imports\n",
    "from pyspark.sql import SparkSession\n",
    "from pyspark.sql.functions import UserDefinedFunction, explode, desc\n",
    "from pyspark.sql.types import StringType, ArrayType\n",
    "from pyspark.mllib.recommendation import ALS\n",
    "\n",
    "# data science imports\n",
    "import math\n",
    "import numpy as np\n",
    "import pandas as pd\n",
    "\n",
    "# visualization imports\n",
    "import seaborn as sns\n",
    "import matplotlib.pyplot as plt\n",
    "\n",
    "# matplotlib inlineimport os\n",
    "import time\n",
    "\n",
    "# spark imports\n",
    "from pyspark.sql import SparkSession\n",
    "from pyspark.sql.functions import UserDefinedFunction, explode, desc\n",
    "from pyspark.sql.types import StringType, ArrayType\n",
    "from pyspark.mllib.recommendation import ALS\n",
    "from pyspark.sql.functions import *\n",
    "\n",
    "# data science imports\n",
    "import math\n",
    "import numpy as np\n",
    "import pandas as pd\n",
    "\n",
    "# visualization imports\n",
    "import seaborn as sns\n",
    "import matplotlib.pyplot as plt\n",
    "\n",
    "%matplotlib inline\n",
    "# get spark context\n",
    "sc = spark.sparkContext"
   ]
  },
  {
   "cell_type": "code",
   "execution_count": 5,
   "id": "48e5a91b",
   "metadata": {},
   "outputs": [],
   "source": [
    "import findspark\n",
    "findspark.init()"
   ]
  },
  {
   "cell_type": "code",
   "execution_count": 6,
   "id": "5b69846f",
   "metadata": {},
   "outputs": [],
   "source": [
    "from pyspark.sql import SparkSession\n",
    "\n",
    "spark = SparkSession.builder.config(\"spark.driver.host\",\"localhost\").appName('RecomendationSystem').getOrCreate()"
   ]
  },
  {
   "cell_type": "code",
   "execution_count": 7,
   "id": "18bc2f22",
   "metadata": {},
   "outputs": [
    {
     "name": "stdout",
     "output_type": "stream",
     "text": [
      "+-----+---------+---------+--------------------+--------+-------------------+---------+----------+--------------+--------+-------------------+----+-----+---+----+-------+--------------------+------+-------+------------------+\n",
      "|  _c0|InvoiceNo|StockCode|         Description|Quantity|        InvoiceDate|UnitPrice|CustomerID|       Country|TotalTrx|            invDate|year|month|day|hour|cluster|               class|encust|encprod|            qtylog|\n",
      "+-----+---------+---------+--------------------+--------+-------------------+---------+----------+--------------+--------+-------------------+----+-----+---+----+-------+--------------------+------+-------+------------------+\n",
      "|42481|   539993|    22386|JUMBO BAG PINK PO...|      10|2011-01-04 10:00:00|     1.95|   13313.0|United Kingdom|    19.5|2011-01-04 00:00:00|2011|    1|  4|  10|      1|Middle Spending A...|   708|   1608|               1.0|\n",
      "|42482|   539993|    21499|  BLUE POLKADOT WRAP|      25|2011-01-04 10:00:00|     0.42|   13313.0|United Kingdom|    10.5|2011-01-04 00:00:00|2011|    1|  4|  10|      1|Middle Spending A...|   708|    443|1.3979400086720377|\n",
      "|42483|   539993|    21498| RED RETROSPOT WRAP |      25|2011-01-04 10:00:00|     0.42|   13313.0|United Kingdom|    10.5|2011-01-04 00:00:00|2011|    1|  4|  10|      1|Middle Spending A...|   708|   2521|1.3979400086720377|\n",
      "+-----+---------+---------+--------------------+--------+-------------------+---------+----------+--------------+--------+-------------------+----+-----+---+----+-------+--------------------+------+-------+------------------+\n",
      "only showing top 3 rows\n",
      "\n"
     ]
    }
   ],
   "source": [
    "# path = \"/C:/Yodi/REKAP/Modul Data Science/Final Project/Segmentation_Recomendation/Segmentation_Recomendation/cleaned_df.csv\"\n",
    "\n",
    "df = spark.read.csv('cleaned_df.csv',header='true', \n",
    "                      inferSchema='true')\n",
    "# df = spark.read.csv('cleaned_df.csv')\n",
    "df.show(3)"
   ]
  },
  {
   "cell_type": "code",
   "execution_count": 8,
   "id": "e98ffbe9",
   "metadata": {},
   "outputs": [
    {
     "name": "stdout",
     "output_type": "stream",
     "text": [
      "+-------+----------------------------------+\n",
      "|encprod|Description                       |\n",
      "+-------+----------------------------------+\n",
      "|2638   |ROUND SNACK BOXES SET OF 4 SKULLS |\n",
      "|2497   |RED RETROSPOT CHARLOTTE BAG       |\n",
      "|3075   |STRAWBERRY LUNCH BOX WITH CUTLERY |\n",
      "|1544   |INFLATABLE POLITICAL GLOBE        |\n",
      "|686    |CHRISTMAS GINGHAM HEART           |\n",
      "|2872   |SET/6 COLLAGE PAPER PLATES        |\n",
      "|556    |CANDY SPOT EGG WARMER RABBIT      |\n",
      "|1673   |LARGE CHINESE STYLE SCISSOR       |\n",
      "|1321   |GLITTER HEART GARLAND WITH BELLS  |\n",
      "|426    |BLUE PAISLEY TISSUE BOX           |\n",
      "|504    |BROWN  PIRATE TREASURE CHEST      |\n",
      "|511    |BULL DOG BOTTLE TOP WALL CLOCK    |\n",
      "|1770   |LUNCH BAG ALPHABET DESIGN         |\n",
      "|1569   |IVORY SWEETHEART WIRE LETTER RACK |\n",
      "|2745   |SET OF 3 CAKE TINS PANTRY DESIGN  |\n",
      "|3474   |WRAP RED APPLES                   |\n",
      "|691    |CHRISTMAS HANGING STAR WITH BELL  |\n",
      "|1203   |FRENCH BLUE METAL DOOR SIGN 6     |\n",
      "|498    |BREAD BIN DINER STYLE PINK        |\n",
      "|1103   |FELTCRAFT CUSHION BUTTERFLY       |\n",
      "+-------+----------------------------------+\n",
      "only showing top 20 rows\n",
      "\n",
      "(3519, 2)\n"
     ]
    }
   ],
   "source": [
    "# getting column encprod and description\n",
    "prd = df.select(df['encprod'],df['Description'])\n",
    "# Select distinct rows\n",
    "prod_df = prd.distinct()\n",
    "#show data\n",
    "prod_df.show(truncate=False)\n",
    "#getiing length row and column of data\n",
    "print((prod_df.count(), len(prod_df.columns)))"
   ]
  },
  {
   "cell_type": "code",
   "execution_count": 64,
   "id": "9ebc1389",
   "metadata": {},
   "outputs": [],
   "source": [
    "# from pyspark.sql.functions import sum,avg,max\n",
    "import pyspark.sql.functions as sf\n",
    "#define rating data\n",
    "# nd = df.select(df['encprod'],df['encprod'],df['qtylog'])\n",
    "\n",
    "nd = df.groupBy(\"encust\",\"encprod\")\\\n",
    "   .agg(sf.sum('Quantity').alias('qty'),\\\n",
    "        sf.sum('TotalTrx').alias('grand')\n",
    "        )\n",
    "\n"
   ]
  },
  {
   "cell_type": "code",
   "execution_count": 65,
   "id": "4da05b9a",
   "metadata": {},
   "outputs": [
    {
     "name": "stdout",
     "output_type": "stream",
     "text": [
      "+------+-------+---+-----------------+\n",
      "|encust|encprod|qty|            grand|\n",
      "+------+-------+---+-----------------+\n",
      "|  4005|   1473|  6|9.899999999999999|\n",
      "|   966|   2155|  5|             4.25|\n",
      "+------+-------+---+-----------------+\n",
      "only showing top 2 rows\n",
      "\n"
     ]
    }
   ],
   "source": [
    "nd.show(2)"
   ]
  },
  {
   "cell_type": "code",
   "execution_count": 72,
   "id": "cf7a12ab",
   "metadata": {},
   "outputs": [
    {
     "data": {
      "image/png": "[encoded data removed]",
      "text/plain": [
       "<Figure size 720x360 with 2 Axes>"
      ]
     },
     "metadata": {
      "needs_background": "light"
     },
     "output_type": "display_data"
    }
   ],
   "source": [
    "arr_qty = np.array(nd.select('qty').collect())\n",
    "arr_grand = np.array(nd.select('grand').collect())\n",
    "# arrencprod = nd.select('encprod')\n",
    "# arrqtylog = arrqtylog.tolist()\n",
    "# plot\n",
    "# plt.figure(figsize=(12, 6))\n",
    "# fig1, ax1 = plt.subplots()\n",
    "# ax1.set_title('Qty BoxPlot')\n",
    "# ax1.boxplot(arrqtylog)\n",
    "# sns.boxplot(y=arrqty)\n",
    "\n",
    "\n",
    "fig, axes = plt.subplots(1,2, figsize=(10,5))\n",
    "sns.boxplot(ax=axes[0],y = arr_qty).set(title='Total Quatity')\n",
    "sns.boxplot(ax=axes[1],y = arr_grand).set(title='Total Transaction')\n",
    "plt.tight_layout()"
   ]
  },
  {
   "cell_type": "code",
   "execution_count": 78,
   "id": "1614acf9",
   "metadata": {},
   "outputs": [],
   "source": [
    "#logtransform to reduce outlier\n",
    "from pyspark.sql.functions import col\n",
    "nd = nd.withColumn(\"logqty\", log10(col(\"qty\")))\n",
    "nd = nd.withColumn(\"logtrx\", log10(col(\"grand\")))"
   ]
  },
  {
   "cell_type": "code",
   "execution_count": 81,
   "id": "480dafeb",
   "metadata": {},
   "outputs": [
    {
     "data": {
      "image/png": "[encoded data removed]",
      "text/plain": [
       "<Figure size 720x360 with 2 Axes>"
      ]
     },
     "metadata": {
      "needs_background": "light"
     },
     "output_type": "display_data"
    }
   ],
   "source": [
    "arr_logqty = np.array(nd.select(\"logqty\").collect())\n",
    "arr_logtrx = np.array(nd.select(\"logtrx\").collect())\n",
    "fig, axes = plt.subplots(1,2, figsize=(10,5))\n",
    "sns.boxplot(ax=axes[0],y = arr_logqty).set(title='Log Transformation Quatity')\n",
    "sns.boxplot(ax=axes[1],y = arr_logtrx).set(title='Log Transformation Transaction')\n",
    "plt.tight_layout()"
   ]
  },
  {
   "cell_type": "code",
   "execution_count": 83,
   "id": "9ff49eae",
   "metadata": {},
   "outputs": [
    {
     "name": "stdout",
     "output_type": "stream",
     "text": [
      "+------------------+------------------+\n",
      "|            logqty|            logtrx|\n",
      "+------------------+------------------+\n",
      "|0.7781512503836436|0.9956351945975499|\n",
      "|0.6989700043360189|0.6283889300503115|\n",
      "+------------------+------------------+\n",
      "only showing top 2 rows\n",
      "\n"
     ]
    }
   ],
   "source": [
    "data_scale_output = nd.select(nd['logqty'],nd['logtrx'])\n",
    "data_scale_output.show(2)"
   ]
  },
  {
   "cell_type": "code",
   "execution_count": 85,
   "id": "500aebb5",
   "metadata": {},
   "outputs": [],
   "source": [
    "from pyspark.ml.linalg import Vectors\n",
    "from pyspark.ml.feature import VectorAssembler\n"
   ]
  },
  {
   "cell_type": "code",
   "execution_count": 89,
   "id": "73aa9dcc",
   "metadata": {},
   "outputs": [
    {
     "data": {
      "text/plain": [
       "['logqty', 'logtrx']"
      ]
     },
     "execution_count": 89,
     "metadata": {},
     "output_type": "execute_result"
    }
   ],
   "source": [
    "#format the data\n",
    "data_scale_output.columns"
   ]
  },
  {
   "cell_type": "code",
   "execution_count": 90,
   "id": "94d5fd5c",
   "metadata": {},
   "outputs": [],
   "source": [
    "vec_assembler = VectorAssembler(inputCols = data_scale_output.columns, outputCol='features')"
   ]
  },
  {
   "cell_type": "code",
   "execution_count": 91,
   "id": "c4dd11db",
   "metadata": {},
   "outputs": [],
   "source": [
    "final_data = vec_assembler.transform(data_scale_output)"
   ]
  },
  {
   "cell_type": "code",
   "execution_count": 92,
   "id": "dfd77efb",
   "metadata": {},
   "outputs": [],
   "source": [
    "from pyspark.ml.feature import StandardScaler\n",
    "scaler = StandardScaler(inputCol=\"features\", outputCol=\"scaledFeatures\", withStd=True, withMean=False)"
   ]
  },
  {
   "cell_type": "code",
   "execution_count": 93,
   "id": "9b1b098c",
   "metadata": {},
   "outputs": [],
   "source": [
    "# Compute summary statistics by fitting the StandardScaler\n",
    "scalerModel = scaler.fit(final_data)"
   ]
  },
  {
   "cell_type": "code",
   "execution_count": 94,
   "id": "c1373d90",
   "metadata": {},
   "outputs": [],
   "source": [
    "# Normalize each feature to have unit standard deviation.\n",
    "final_data = scalerModel.transform(final_data)"
   ]
  },
  {
   "cell_type": "markdown",
   "id": "5ad2b234",
   "metadata": {},
   "source": [
    "# Training Data Kmeans"
   ]
  },
  {
   "cell_type": "code",
   "execution_count": 95,
   "id": "66fb5135",
   "metadata": {},
   "outputs": [],
   "source": [
    "from pyspark.ml.clustering import KMeans\n",
    "\n",
    "# Training a k-means model.\n",
    "kmeans = KMeans(featuresCol='scaledFeatures',k=3)\n",
    "model = kmeans.fit(final_data)"
   ]
  },
  {
   "cell_type": "code",
   "execution_count": 97,
   "id": "0c2eb3b2",
   "metadata": {},
   "outputs": [
    {
     "name": "stdout",
     "output_type": "stream",
     "text": [
      "Silhouette Score: 0.6084575585424361\n",
      "Silhouette Score: 0.6119004074365654\n",
      "Silhouette Score: 0.5461262719286445\n",
      "Silhouette Score: 0.5361427758438556\n",
      "Silhouette Score: 0.5233767915486024\n",
      "Silhouette Score: 0.535811914807398\n",
      "Silhouette Score: 0.5144107702665449\n",
      "Silhouette Score: 0.4982173991268521\n"
     ]
    }
   ],
   "source": [
    "from pyspark.ml.clustering import KMeans\n",
    "from pyspark.ml.evaluation import ClusteringEvaluator\n",
    "silhouette_score=[]\n",
    "evaluator = ClusteringEvaluator(predictionCol='prediction', featuresCol='scaledFeatures', \\\n",
    "                                metricName='silhouette', distanceMeasure='squaredEuclidean')\n",
    "for i in range(2,10):\n",
    "    \n",
    "    KMeans_algo=KMeans(featuresCol='scaledFeatures', k=i)\n",
    "    \n",
    "    KMeans_fit=KMeans_algo.fit(final_data)\n",
    "    \n",
    "    output=KMeans_fit.transform(final_data)\n",
    "    \n",
    "    \n",
    "    \n",
    "    score=evaluator.evaluate(output)\n",
    "    \n",
    "    silhouette_score.append(score)\n",
    "    \n",
    "    print(\"Silhouette Score:\",score)"
   ]
  },
  {
   "cell_type": "code",
   "execution_count": 99,
   "id": "3da7b03e",
   "metadata": {},
   "outputs": [
    {
     "data": {
      "image/png": "[encoded data removed]",
      "text/plain": [
       "<Figure size 432x288 with 1 Axes>"
      ]
     },
     "metadata": {
      "needs_background": "light"
     },
     "output_type": "display_data"
    }
   ],
   "source": [
    "# Calculate cost and plot\n",
    "cost = np.zeros(10)\n",
    "\n",
    "for k in range(2,10):\n",
    "    kmeans = KMeans().setK(k).setSeed(1).setFeaturesCol('scaledFeatures')\n",
    "    model = kmeans.fit(final_data)\n",
    "    cost[k] = model.summary.trainingCost\n",
    "\n",
    "# Plot the cost\n",
    "df_cost = pd.DataFrame(cost[2:])\n",
    "df_cost.columns = [\"cost\"]\n",
    "new_col = [2,3,4,5,6,7,8, 9]\n",
    "df_cost.insert(0, 'cluster', new_col)\n",
    "\n",
    "import pylab as pl\n",
    "pl.plot(df_cost.cluster, df_cost.cost)\n",
    "pl.xlabel('Number of Clusters')\n",
    "pl.ylabel('Score')\n",
    "pl.title('Elbow Curve')\n",
    "pl.show()"
   ]
  },
  {
   "cell_type": "code",
   "execution_count": 100,
   "id": "bb1d2ee7",
   "metadata": {},
   "outputs": [
    {
     "data": {
      "text/html": [
       "<div>\n",
       "<style scoped>\n",
       "    .dataframe tbody tr th:only-of-type {\n",
       "        vertical-align: middle;\n",
       "    }\n",
       "\n",
       "    .dataframe tbody tr th {\n",
       "        vertical-align: top;\n",
       "    }\n",
       "\n",
       "    .dataframe thead th {\n",
       "        text-align: right;\n",
       "    }\n",
       "</style>\n",
       "<table border=\"1\" class=\"dataframe\">\n",
       "  <thead>\n",
       "    <tr style=\"text-align: right;\">\n",
       "      <th></th>\n",
       "      <th>cluster</th>\n",
       "      <th>cost</th>\n",
       "    </tr>\n",
       "  </thead>\n",
       "  <tbody>\n",
       "    <tr>\n",
       "      <th>0</th>\n",
       "      <td>2</td>\n",
       "      <td>248609.580450</td>\n",
       "    </tr>\n",
       "    <tr>\n",
       "      <th>1</th>\n",
       "      <td>3</td>\n",
       "      <td>158672.041095</td>\n",
       "    </tr>\n",
       "    <tr>\n",
       "      <th>2</th>\n",
       "      <td>4</td>\n",
       "      <td>119793.288376</td>\n",
       "    </tr>\n",
       "    <tr>\n",
       "      <th>3</th>\n",
       "      <td>5</td>\n",
       "      <td>103397.694460</td>\n",
       "    </tr>\n",
       "    <tr>\n",
       "      <th>4</th>\n",
       "      <td>6</td>\n",
       "      <td>84507.108218</td>\n",
       "    </tr>\n",
       "    <tr>\n",
       "      <th>5</th>\n",
       "      <td>7</td>\n",
       "      <td>74504.609901</td>\n",
       "    </tr>\n",
       "    <tr>\n",
       "      <th>6</th>\n",
       "      <td>8</td>\n",
       "      <td>65838.113519</td>\n",
       "    </tr>\n",
       "    <tr>\n",
       "      <th>7</th>\n",
       "      <td>9</td>\n",
       "      <td>58041.962710</td>\n",
       "    </tr>\n",
       "  </tbody>\n",
       "</table>\n",
       "</div>"
      ],
      "text/plain": [
       "   cluster           cost\n",
       "0        2  248609.580450\n",
       "1        3  158672.041095\n",
       "2        4  119793.288376\n",
       "3        5  103397.694460\n",
       "4        6   84507.108218\n",
       "5        7   74504.609901\n",
       "6        8   65838.113519\n",
       "7        9   58041.962710"
      ]
     },
     "execution_count": 100,
     "metadata": {},
     "output_type": "execute_result"
    }
   ],
   "source": [
    "df_cost"
   ]
  },
  {
   "cell_type": "code",
   "execution_count": 67,
   "id": "1eb72a4c",
   "metadata": {},
   "outputs": [
    {
     "data": {
      "text/plain": [
       "[(4005, 1473, 0.7781512503836436),\n",
       " (966, 2155, 0.6989700043360189),\n",
       " (966, 677, 1.8573324964312685),\n",
       " (3194, 454, 5.7480887483494865),\n",
       " (667, 76, 1.0791812460476249),\n",
       " (3677, 942, 5.0),\n",
       " (1930, 1426, 2.760422483423212),\n",
       " (1920, 754, 1.255272505103306),\n",
       " (319, 631, 0.0),\n",
       " (554, 3236, 0.6020599913279624),\n",
       " (3092, 1554, 0.3010299956639812),\n",
       " (4217, 3070, 1.2041199826559248),\n",
       " (551, 2160, 1.6812412373755872),\n",
       " (951, 1841, 0.3010299956639812),\n",
       " (1552, 3360, 2.079181246047625),\n",
       " (543, 2521, 5.591760034688151),\n",
       " (543, 82, 1.0791812460476249),\n",
       " (3213, 2193, 1.806179973983887),\n",
       " (3007, 59, 1.0791812460476249),\n",
       " (3244, 2440, 1.0791812460476249),\n",
       " (3244, 2537, 1.0791812460476249),\n",
       " (186, 2530, 3.5385737338068557),\n",
       " (122, 485, 1.3979400086720377),\n",
       " (111, 2382, 0.47712125471966244),\n",
       " (3392, 597, 0.7781512503836436),\n",
       " (1758, 134, 0.6020599913279624),\n",
       " (1419, 1473, 1.0791812460476249),\n",
       " (2827, 1283, 0.9030899869919435),\n",
       " (2167, 187, 1.0),\n",
       " (3571, 2382, 0.9030899869919435),\n",
       " (1671, 2032, 0.3010299956639812),\n",
       " (1716, 2118, 1.6020599913279623),\n",
       " (3549, 2473, 0.7781512503836436),\n",
       " (3549, 3159, 1.0791812460476249),\n",
       " (1221, 935, 0.3010299956639812),\n",
       " (1559, 2847, 0.3010299956639812),\n",
       " (181, 662, 1.0791812460476249),\n",
       " (1089, 985, 0.9030899869919435),\n",
       " (1040, 2459, 0.0),\n",
       " (979, 1273, 1.0791812460476249),\n",
       " (3370, 2613, 0.3010299956639812),\n",
       " (3519, 2997, 2.936513742478893),\n",
       " (1661, 600, 0.9542425094393249),\n",
       " (85, 2501, 0.3010299956639812),\n",
       " (85, 2511, 4.380211241711606),\n",
       " (2898, 1104, 0.9542425094393249),\n",
       " (2282, 422, 0.3010299956639812),\n",
       " (1703, 629, 2.1583624920952498),\n",
       " (1653, 3216, 5.594631181007343),\n",
       " (3944, 989, 0.47712125471966244)]"
      ]
     },
     "execution_count": 67,
     "metadata": {},
     "output_type": "execute_result"
    }
   ],
   "source": [
    "# convert dataframe to rdd\n",
    "rdd = nd.rdd\n",
    "  \n",
    "# convert rdd to tuple\n",
    "data = rdd.map(tuple)\n",
    "  \n",
    "# display data\n",
    "data.take(50)"
   ]
  },
  {
   "cell_type": "code",
   "execution_count": 68,
   "id": "206473bd",
   "metadata": {},
   "outputs": [
    {
     "data": {
      "text/plain": [
       "PythonRDD[4257] at RDD at PythonRDD.scala:53"
      ]
     },
     "execution_count": 68,
     "metadata": {},
     "output_type": "execute_result"
    }
   ],
   "source": [
    "train, validation, test = data.randomSplit([6, 2, 2], seed=99)\n",
    "# cache data\n",
    "train.cache()\n",
    "validation.cache()\n",
    "test.cache()"
   ]
  },
  {
   "cell_type": "code",
   "execution_count": 69,
   "id": "d5e8392d",
   "metadata": {},
   "outputs": [],
   "source": []
  },
  {
   "cell_type": "code",
   "execution_count": 70,
   "id": "88f354b6",
   "metadata": {},
   "outputs": [],
   "source": [
    "def train_ALS(train_data, validation_data, num_iters, reg_param, ranks):\n",
    "    \"\"\"\n",
    "    Grid Search Function to select the best model based on RMSE of hold-out data\n",
    "    \"\"\"\n",
    "    # initial\n",
    "    min_error = float('inf')\n",
    "    best_rank = -1\n",
    "    best_regularization = 0\n",
    "    best_model = None\n",
    "    for rank in ranks:\n",
    "        for reg in reg_param:\n",
    "            # train ALS model\n",
    "            model = ALS.train(\n",
    "                ratings=train_data,    # (encust, enctprod, qtylog) tuple\n",
    "                iterations=num_iters,\n",
    "                rank=rank,\n",
    "                lambda_=reg,           # regularization param\n",
    "                seed=99)\n",
    "            # make prediction\n",
    "            valid_data = validation_data.map(lambda p: (p[0], p[1]))\n",
    "            predictions = model.predictAll(valid_data).map(lambda r: ((r[0], r[1]), r[2]))\n",
    "            # get the rating result\n",
    "            ratesAndPreds = validation_data.map(lambda r: ((r[0], r[1]), r[2])).join(predictions)\n",
    "            # get the RMSE\n",
    "            MSE = ratesAndPreds.map(lambda r: (r[1][0] - r[1][1])**2).mean()\n",
    "            error = math.sqrt(MSE)\n",
    "            print('{} latent factors and regularization = {}: validation RMSE is {}'.format(rank, reg, error))\n",
    "            if error < min_error:\n",
    "                min_error = error\n",
    "                best_rank = rank\n",
    "                best_regularization = reg\n",
    "                best_model = model\n",
    "    print('\\nThe best model has {} latent factors and regularization = {}'.format(best_rank, best_regularization))\n",
    "    return best_model"
   ]
  },
  {
   "cell_type": "code",
   "execution_count": 73,
   "id": "6808f01a",
   "metadata": {},
   "outputs": [
    {
     "name": "stdout",
     "output_type": "stream",
     "text": [
      "150 latent factors and regularization = 0.01: validation RMSE is 1.1088415621376138\n",
      "150 latent factors and regularization = 0.05: validation RMSE is 1.0348172841494996\n",
      "150 latent factors and regularization = 0.1: validation RMSE is 1.0253239066896171\n",
      "150 latent factors and regularization = 0.2: validation RMSE is 1.0454436290169151\n",
      "200 latent factors and regularization = 0.01: validation RMSE is 1.1157086277848864\n",
      "200 latent factors and regularization = 0.05: validation RMSE is 1.0343705871879487\n",
      "200 latent factors and regularization = 0.1: validation RMSE is 1.0255014024735356\n",
      "200 latent factors and regularization = 0.2: validation RMSE is 1.0455120744522046\n",
      "\n",
      "The best model has 150 latent factors and regularization = 0.1\n",
      "Total Runtime: 1233.70 seconds\n"
     ]
    }
   ],
   "source": [
    "# hyper-param config\n",
    "num_iterations = 10\n",
    "ranks = [150,200]\n",
    "reg_params = [ 0.01, 0.05, 0.1, 0.2]\n",
    "\n",
    "# grid search and select best model\n",
    "start_time = time.time()\n",
    "final_model = train_ALS(train, validation, num_iterations, reg_params, ranks)\n",
    "\n",
    "print ('Total Runtime: {:.2f} seconds'.format(time.time() - start_time))"
   ]
  },
  {
   "cell_type": "code",
   "execution_count": 39,
   "id": "b149fea3",
   "metadata": {},
   "outputs": [],
   "source": [
    "def plot_learning_curve(arr_iters, train_data, validation_data, reg, rank):\n",
    "    \"\"\"\n",
    "    Plot function to show learning curve of ALS\n",
    "    \"\"\"\n",
    "    errors = []\n",
    "    for num_iters in arr_iters:\n",
    "        # train ALS model\n",
    "        model = ALS.train(\n",
    "            ratings=train_data,    # (userID, productID, rating) tuple\n",
    "            iterations=num_iters,\n",
    "            rank=rank,\n",
    "            lambda_=reg,           # regularization param\n",
    "            seed=99)\n",
    "        # make prediction\n",
    "        valid_data = validation_data.map(lambda p: (p[0], p[1]))\n",
    "        predictions = model.predictAll(valid_data).map(lambda r: ((r[0], r[1]), r[2]))\n",
    "        # get the rating result\n",
    "        ratesAndPreds = validation_data.map(lambda r: ((r[0], r[1]), r[2])).join(predictions)\n",
    "        # get the RMSE\n",
    "        MSE = ratesAndPreds.map(lambda r: (r[1][0] - r[1][1])**2).mean()\n",
    "        error = math.sqrt(MSE)\n",
    "        # add to errors\n",
    "        errors.append(error)\n",
    "\n",
    "    # plot\n",
    "    plt.figure(figsize=(12, 6))\n",
    "    plt.plot(arr_iters, errors)\n",
    "    plt.xlabel('number of iterations')\n",
    "    plt.ylabel('RMSE')\n",
    "    plt.title('ALS Learning Curve')\n",
    "    plt.grid(True)\n",
    "    plt.show()"
   ]
  },
  {
   "cell_type": "code",
   "execution_count": 40,
   "id": "666e68be",
   "metadata": {},
   "outputs": [
    {
     "data": {
      "image/png": "[encoded data removed]",
      "text/plain": [
       "<Figure size 864x432 with 1 Axes>"
      ]
     },
     "metadata": {
      "needs_background": "light"
     },
     "output_type": "display_data"
    }
   ],
   "source": [
    "# create an array of num_iters\n",
    "iter_array = list(range(1, 11))\n",
    "# create learning curve plot\n",
    "plot_learning_curve(iter_array, train, validation, 0.01, 150)"
   ]
  },
  {
   "cell_type": "code",
   "execution_count": 43,
   "id": "760b5069",
   "metadata": {},
   "outputs": [
    {
     "name": "stdout",
     "output_type": "stream",
     "text": [
      "The out-of-sample RMSE of rating predictions is 0.46819408964039333\n"
     ]
    }
   ],
   "source": [
    "# make prediction using test data\n",
    "test_data = test.map(lambda p: (p[0], p[1]))\n",
    "predictions = final_model.predictAll(test_data).map(lambda r: ((r[0], r[1]), r[2]))\n",
    "# get the rating result\n",
    "ratesAndPreds = test.map(lambda r: ((r[0], r[1]), r[2])).join(predictions)\n",
    "# get the RMSE\n",
    "MSE = ratesAndPreds.map(lambda r: (r[1][0] - r[1][1])**2).mean()\n",
    "error = math.sqrt(MSE)\n",
    "print('The out-of-sample RMSE of rating predictions is', error)"
   ]
  },
  {
   "cell_type": "code",
   "execution_count": 44,
   "id": "e04c0aec",
   "metadata": {},
   "outputs": [
    {
     "data": {
      "text/plain": [
       "[(648, 648, 0.9030899869919435), (2175, 2175, 0.7781512503836436)]"
      ]
     },
     "execution_count": 44,
     "metadata": {},
     "output_type": "execute_result"
    }
   ],
   "source": [
    "test.take(2)"
   ]
  },
  {
   "cell_type": "code",
   "execution_count": 63,
   "id": "f946a062",
   "metadata": {},
   "outputs": [],
   "source": [
    "def get_prod(prod_df, fav_prod_list):\n",
    "    \"\"\"\n",
    "    return all product(encprod)(s) of user's favorite product\n",
    "    \n",
    "    Parameters\n",
    "    ----------\n",
    "    prod_df: spark Dataframe, product data\n",
    "    \n",
    "    fav_movie_list: list, user's list of favorite movies\n",
    "    \n",
    "    Return\n",
    "    ------\n",
    "    prod_list: list of productid(encprod)(s)\n",
    "    \"\"\"\n",
    "    prod_list = []\n",
    "    for prod in fav_prod_list:\n",
    "        prodIds = prod_df \\\n",
    "            .filter(prod_df.Description.like('%{}%'.format(prod))) \\\n",
    "            .select('encprod') \\\n",
    "            .rdd \\\n",
    "            .map(lambda r: r[0]) \\\n",
    "            .collect()\n",
    "        prod_list.extend(prodIds)\n",
    "    return list(set(prod_list))\n",
    "\n",
    "\n",
    "def add_new_user_to_data(train_data, prod_list, spark_context):\n",
    "    \"\"\"\n",
    "    add new rows with new user, user's product and ratings(qtylog) to\n",
    "    existing train data\n",
    "\n",
    "    Parameters\n",
    "    ----------\n",
    "    train_data: spark RDD, ratings data\n",
    "    \n",
    "    prod_list: list, list of product id(encprod)(s)\n",
    "\n",
    "    spark_context: Spark Context object\n",
    "    \n",
    "    Return\n",
    "    ------\n",
    "    new train data with the new user's rows\n",
    "    \"\"\"\n",
    "    # get new customer id\n",
    "    new_id = train_data.map(lambda r: r[0]).max() + 1\n",
    "    # get max rating\n",
    "    max_rating = train_data.map(lambda r: r[2]).max()\n",
    "    # create new customer rdd\n",
    "    user_rows = [(new_id, encprod, max_rating) for encprod in prod_list]\n",
    "    new_rdd = spark_context.parallelize(user_rows)\n",
    "    # return new train data\n",
    "    return train_data.union(new_rdd)\n",
    "\n",
    "\n",
    "def get_inference_data(train_data, prod_df, prod_list):\n",
    "    \"\"\"\n",
    "    return a rdd with the encust and all product(except ones in prod_list)\n",
    "\n",
    "    Parameters\n",
    "    ----------\n",
    "    train_data: spark RDD, ratings data\n",
    "\n",
    "    prod_df: spark Dataframe, product data\n",
    "    \n",
    "    prod_list: list, list of product(s)\n",
    "\n",
    "    Return\n",
    "    ------\n",
    "    inference data: Spark RDD\n",
    "    \"\"\"\n",
    "    # get new user id\n",
    "    new_id = train_data.map(lambda r: r[0]).max() + 1\n",
    "    # return inference rdd\n",
    "    return prod_df.rdd \\\n",
    "        .map(lambda r: r[0]) \\\n",
    "        .distinct() \\\n",
    "        .filter(lambda x: x not in prod_list) \\\n",
    "        .map(lambda x: (new_id, x))\n",
    "\n",
    "\n",
    "def make_recommendation(best_model_params, ratings_data, prod_df, \n",
    "                        fav_prod_list, n_recommendations, spark_context):\n",
    "    \"\"\"\n",
    "    return top n product recommendation based on user's input list of product\n",
    "\n",
    "\n",
    "    Parameters\n",
    "    ----------\n",
    "    best_model_params: dict, {'iterations': iter, 'rank': rank, 'lambda_': reg}\n",
    "\n",
    "    ratings_data: spark RDD, ratings data\n",
    "\n",
    "    prod_df: spark Dataframe, product data\n",
    "\n",
    "    fav_prod_list: list, user's list of product\n",
    "\n",
    "    n_recommendations: int, top n recommendations\n",
    "\n",
    "    spark_context: Spark Context object\n",
    "\n",
    "    Return\n",
    "    ------\n",
    "    list of top n product recommendations\n",
    "    \"\"\"\n",
    "    # modify train data by adding new user's rows\n",
    "    prod_list = get_prod(prod_df, fav_prod_list)\n",
    "    train_data = add_new_user_to_data(ratings_data, prod_list, spark_context)\n",
    "    \n",
    "    # train best ALS\n",
    "    model = ALS.train(\n",
    "        ratings=train_data,\n",
    "        iterations=best_model_params.get('iterations', None),\n",
    "        rank=best_model_params.get('rank', None),\n",
    "        lambda_=best_model_params.get('lambda_', None),\n",
    "        seed=99)\n",
    "    \n",
    "    # get inference rdd\n",
    "    inference_rdd = get_inference_data(ratings_data, prod_df, prod_list\n",
    "                                      \n",
    "                                      \n",
    "                                      )\n",
    "    \n",
    "    # inference\n",
    "    predictions = model.predictAll(inference_rdd).map(lambda r: (r[1], r[2]))\n",
    "    \n",
    "    # get top n product(encprod)\n",
    "    topn_rows = predictions.sortBy(lambda r: r[1], ascending=False).take(n_recommendations)\n",
    "    topn_ids = [r[0] for r in topn_rows]\n",
    "    \n",
    "    # return prodcut description\n",
    "    return prod_df.filter(prod_df.encprod.isin(topn_ids)) \\\n",
    "                    .select('Description') \\\n",
    "                    .rdd \\\n",
    "                    .map(lambda r: r[0]) \\\n",
    "                    .collect()"
   ]
  },
  {
   "cell_type": "code",
   "execution_count": 74,
   "id": "e13b0314",
   "metadata": {},
   "outputs": [
    {
     "name": "stdout",
     "output_type": "stream",
     "text": [
      "Recommendations for ZINC WIRE SWEETHEART LETTER TRAY:\n",
      "1: VICTORIAN SEWING BOX SMALL \n",
      "2: \"RECORD FRAME 7\"\" SINGLE SIZE \"\n",
      "3: CREAM SWEETHEART MINI CHEST\n",
      "4: BLACK RECORD COVER FRAME\n",
      "5: LAUNDRY 15C METAL SIGN\n",
      "6: SET/6 RED SPOTTY PAPER CUPS\n",
      "7: AREA PATROLLED METAL SIGN\n",
      "8: SET/6 RED SPOTTY PAPER PLATES\n",
      "9: LUNCH BOX I LOVE LONDON\n",
      "10: PLACE SETTING WHITE HEART\n"
     ]
    }
   ],
   "source": [
    "# my product\n",
    "my_prod = ['ZINC WIRE SWEETHEART LETTER TRAY']\n",
    "\n",
    "# get recommends\n",
    "recommends = make_recommendation(\n",
    "    best_model_params={'iterations': 10, 'rank': 150, 'lambda_': 0.1}, \n",
    "    ratings_data=data, \n",
    "    prod_df=prod_df, \n",
    "    fav_prod_list=my_prod, \n",
    "    n_recommendations=10, \n",
    "    spark_context=sc)\n",
    "\n",
    "print('Recommendations for {}:'.format(my_prod[0]))\n",
    "for i, Description in enumerate(recommends):\n",
    "    print('{0}: {1}'.format(i+1, Description))"
   ]
  },
  {
   "cell_type": "code",
   "execution_count": null,
   "id": "6c41d07e",
   "metadata": {},
   "outputs": [],
   "source": []
  },
  {
   "cell_type": "code",
   "execution_count": null,
   "id": "32751b80",
   "metadata": {},
   "outputs": [],
   "source": []
  },
  {
   "cell_type": "code",
   "execution_count": null,
   "id": "25a1a26b",
   "metadata": {},
   "outputs": [],
   "source": []
  }
 ],
 "metadata": {
  "colab": {
   "collapsed_sections": [],
   "provenance": []
  },
  "kernelspec": {
   "display_name": "Python 3 (ipykernel)",
   "language": "python",
   "name": "python3"
  },
  "language_info": {
   "codemirror_mode": {
    "name": "ipython",
    "version": 3
   },
   "file_extension": ".py",
   "mimetype": "text/x-python",
   "name": "python",
   "nbconvert_exporter": "python",
   "pygments_lexer": "ipython3",
   "version": "3.10.5"
  }
 },
 "nbformat": 4,
 "nbformat_minor": 5
}
