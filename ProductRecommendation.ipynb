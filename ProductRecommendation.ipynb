{
  "cells": [
    {
      "cell_type": "code",
      "execution_count": 1,
      "id": "9402d5f1",
      "metadata": {
        "id": "9402d5f1"
      },
      "outputs": [],
      "source": [
        "#import library\n",
        "import pandas as pd\n",
        "import seaborn as sns\n",
        "import matplotlib.pyplot as plt\n",
        "import numpy as np\n",
        "import time, warnings\n",
        "import datetime as dt"
      ]
    },
    {
      "cell_type": "code",
      "source": [
        "!git clone https://github.com/yodialfa/Segmentation_Recomendation\n"
      ],
      "metadata": {
        "colab": {
          "base_uri": "https://localhost:8080/"
        },
        "id": "Zisl7_ZNVu0K",
        "outputId": "e526ff53-3c2a-4ae9-a352-9d76ce879383"
      },
      "id": "Zisl7_ZNVu0K",
      "execution_count": 2,
      "outputs": [
        {
          "output_type": "stream",
          "name": "stdout",
          "text": [
            "Cloning into 'Segmentation_Recomendation'...\n",
            "remote: Enumerating objects: 134, done.\u001b[K\n",
            "remote: Counting objects: 100% (56/56), done.\u001b[K\n",
            "remote: Compressing objects: 100% (32/32), done.\u001b[K\n",
            "remote: Total 134 (delta 30), reused 45 (delta 24), pack-reused 78\u001b[K\n",
            "Receiving objects: 100% (134/134), 91.04 MiB | 28.69 MiB/s, done.\n",
            "Resolving deltas: 100% (51/51), done.\n"
          ]
        }
      ]
    },
    {
      "cell_type": "code",
      "source": [
        "!pip install pyspark"
      ],
      "metadata": {
        "colab": {
          "base_uri": "https://localhost:8080/"
        },
        "id": "mAFWe5FbV9Er",
        "outputId": "3f3cab84-f54e-461e-8469-ed6702b1b9e5"
      },
      "id": "mAFWe5FbV9Er",
      "execution_count": 3,
      "outputs": [
        {
          "output_type": "stream",
          "name": "stdout",
          "text": [
            "Looking in indexes: https://pypi.org/simple, https://us-python.pkg.dev/colab-wheels/public/simple/\n",
            "Collecting pyspark\n",
            "  Downloading pyspark-3.3.1.tar.gz (281.4 MB)\n",
            "\u001b[K     |████████████████████████████████| 281.4 MB 37 kB/s \n",
            "\u001b[?25hCollecting py4j==0.10.9.5\n",
            "  Downloading py4j-0.10.9.5-py2.py3-none-any.whl (199 kB)\n",
            "\u001b[K     |████████████████████████████████| 199 kB 45.4 MB/s \n",
            "\u001b[?25hBuilding wheels for collected packages: pyspark\n",
            "  Building wheel for pyspark (setup.py) ... \u001b[?25l\u001b[?25hdone\n",
            "  Created wheel for pyspark: filename=pyspark-3.3.1-py2.py3-none-any.whl size=281845514 sha256=7724ad26f38bcaeec17682ba72447d4a0732cf7a5309efcaf28373a599f8d2e1\n",
            "  Stored in directory: /root/.cache/pip/wheels/42/59/f5/79a5bf931714dcd201b26025347785f087370a10a3329a899c\n",
            "Successfully built pyspark\n",
            "Installing collected packages: py4j, pyspark\n",
            "Successfully installed py4j-0.10.9.5 pyspark-3.3.1\n"
          ]
        }
      ]
    },
    {
      "cell_type": "markdown",
      "id": "16086653",
      "metadata": {
        "id": "16086653"
      },
      "source": [
        "# Data Understanding"
      ]
    },
    {
      "cell_type": "markdown",
      "id": "d945a895",
      "metadata": {
        "id": "d945a895"
      },
      "source": [
        "Okay, in this time we will built product reccomendation using Colaborative Filtering. First I will tell the data.\n",
        "here I have some data that I found from kaggle.com and here the resources : https://www.kaggle.com/datasets/lakshmi25npathi/online-retail-dataset. But I've cleaning the data before in customer Segmentation. And now the data has add any features.\n",
        "the data has Atribute InvoceeNo, StockCode, Description, Quantity, UnitPrice, CustomerID, and Country.\n",
        "Data Dictionary : <br>\n",
        "- InvoiceNo : number code of the transacation\n",
        "- StockCode : the code of item\n",
        "- Description : dthe description of item\n",
        "- Quantity : count of item buying.\n",
        "- InvoiceDate : date of customers transcation full with the time.\n",
        "- UnitPrice : the price per item.\n",
        "- CustomerID : ID of customers\n",
        "- Country : country of customers live.\n",
        "- TotalTrx : total transcation (quantity x UnitPricce)\n",
        "- invDate : date without time\n",
        "- year : year of transaction\n",
        "- month : month of transaction\n",
        "- day : day of transaction\n",
        "- cluster : cluster of customerID\n",
        "- class : class of customerID (cluster description)"
      ]
    },
    {
      "cell_type": "code",
      "execution_count": null,
      "id": "6b4b2900",
      "metadata": {
        "id": "6b4b2900"
      },
      "outputs": [],
      "source": [
        "#load dataset\n",
        "df_cleaned = pd.read_csv('cleaned_df.csv')\n",
        "rfmdf = pd.read_csv('cust_seg.csv')"
      ]
    },
    {
      "cell_type": "code",
      "execution_count": null,
      "id": "c56b5c04",
      "metadata": {
        "colab": {
          "base_uri": "https://localhost:8080/",
          "height": 206
        },
        "id": "c56b5c04",
        "outputId": "544429e2-5a93-4918-ac4b-6892c51e26d6"
      },
      "outputs": [
        {
          "data": {
            "text/html": [
              "<div>\n",
              "<style scoped>\n",
              "    .dataframe tbody tr th:only-of-type {\n",
              "        vertical-align: middle;\n",
              "    }\n",
              "\n",
              "    .dataframe tbody tr th {\n",
              "        vertical-align: top;\n",
              "    }\n",
              "\n",
              "    .dataframe thead th {\n",
              "        text-align: right;\n",
              "    }\n",
              "</style>\n",
              "<table border=\"1\" class=\"dataframe\">\n",
              "  <thead>\n",
              "    <tr style=\"text-align: right;\">\n",
              "      <th></th>\n",
              "      <th>Unnamed: 0</th>\n",
              "      <th>InvoiceNo</th>\n",
              "      <th>StockCode</th>\n",
              "      <th>Description</th>\n",
              "      <th>Quantity</th>\n",
              "      <th>InvoiceDate</th>\n",
              "      <th>UnitPrice</th>\n",
              "      <th>CustomerID</th>\n",
              "      <th>Country</th>\n",
              "      <th>TotalTrx</th>\n",
              "      <th>invDate</th>\n",
              "      <th>year</th>\n",
              "      <th>month</th>\n",
              "      <th>day</th>\n",
              "      <th>hour</th>\n",
              "      <th>cluster</th>\n",
              "      <th>class</th>\n",
              "      <th>encust</th>\n",
              "      <th>encprod</th>\n",
              "      <th>qtylog</th>\n",
              "    </tr>\n",
              "  </thead>\n",
              "  <tbody>\n",
              "    <tr>\n",
              "      <th>0</th>\n",
              "      <td>42481</td>\n",
              "      <td>539993</td>\n",
              "      <td>22386</td>\n",
              "      <td>JUMBO BAG PINK POLKADOT</td>\n",
              "      <td>10</td>\n",
              "      <td>2011-01-04 10:00:00</td>\n",
              "      <td>1.95</td>\n",
              "      <td>13313.0</td>\n",
              "      <td>United Kingdom</td>\n",
              "      <td>19.5</td>\n",
              "      <td>2011-01-04</td>\n",
              "      <td>2011</td>\n",
              "      <td>1</td>\n",
              "      <td>4</td>\n",
              "      <td>10</td>\n",
              "      <td>1</td>\n",
              "      <td>Middle Spending Active customers</td>\n",
              "      <td>708</td>\n",
              "      <td>1608</td>\n",
              "      <td>1.00000</td>\n",
              "    </tr>\n",
              "    <tr>\n",
              "      <th>1</th>\n",
              "      <td>42482</td>\n",
              "      <td>539993</td>\n",
              "      <td>21499</td>\n",
              "      <td>BLUE POLKADOT WRAP</td>\n",
              "      <td>25</td>\n",
              "      <td>2011-01-04 10:00:00</td>\n",
              "      <td>0.42</td>\n",
              "      <td>13313.0</td>\n",
              "      <td>United Kingdom</td>\n",
              "      <td>10.5</td>\n",
              "      <td>2011-01-04</td>\n",
              "      <td>2011</td>\n",
              "      <td>1</td>\n",
              "      <td>4</td>\n",
              "      <td>10</td>\n",
              "      <td>1</td>\n",
              "      <td>Middle Spending Active customers</td>\n",
              "      <td>708</td>\n",
              "      <td>443</td>\n",
              "      <td>1.39794</td>\n",
              "    </tr>\n",
              "  </tbody>\n",
              "</table>\n",
              "</div>"
            ],
            "text/plain": [
              "   Unnamed: 0  InvoiceNo StockCode              Description  Quantity  \\\n",
              "0       42481     539993     22386  JUMBO BAG PINK POLKADOT        10   \n",
              "1       42482     539993     21499       BLUE POLKADOT WRAP        25   \n",
              "\n",
              "           InvoiceDate  UnitPrice  CustomerID         Country  TotalTrx  \\\n",
              "0  2011-01-04 10:00:00       1.95     13313.0  United Kingdom      19.5   \n",
              "1  2011-01-04 10:00:00       0.42     13313.0  United Kingdom      10.5   \n",
              "\n",
              "      invDate  year  month  day  hour  cluster  \\\n",
              "0  2011-01-04  2011      1    4    10        1   \n",
              "1  2011-01-04  2011      1    4    10        1   \n",
              "\n",
              "                               class  encust  encprod   qtylog  \n",
              "0  Middle Spending Active customers      708     1608  1.00000  \n",
              "1  Middle Spending Active customers      708      443  1.39794  "
            ]
          },
          "execution_count": 3,
          "metadata": {},
          "output_type": "execute_result"
        }
      ],
      "source": [
        "df_cleaned.head(2)"
      ]
    },
    {
      "cell_type": "code",
      "execution_count": null,
      "id": "5de5b46e",
      "metadata": {
        "colab": {
          "base_uri": "https://localhost:8080/"
        },
        "id": "5de5b46e",
        "outputId": "84384051-1d86-4460-c484-ca7a43708c4a"
      },
      "outputs": [
        {
          "name": "stdout",
          "output_type": "stream",
          "text": [
            "<class 'pandas.core.frame.DataFrame'>\n",
            "RangeIndex: 371722 entries, 0 to 371721\n",
            "Data columns (total 20 columns):\n",
            " #   Column       Non-Null Count   Dtype  \n",
            "---  ------       --------------   -----  \n",
            " 0   Unnamed: 0   371722 non-null  int64  \n",
            " 1   InvoiceNo    371722 non-null  int64  \n",
            " 2   StockCode    371722 non-null  object \n",
            " 3   Description  371722 non-null  object \n",
            " 4   Quantity     371722 non-null  int64  \n",
            " 5   InvoiceDate  371722 non-null  object \n",
            " 6   UnitPrice    371722 non-null  float64\n",
            " 7   CustomerID   371722 non-null  float64\n",
            " 8   Country      371722 non-null  object \n",
            " 9   TotalTrx     371722 non-null  float64\n",
            " 10  invDate      371722 non-null  object \n",
            " 11  year         371722 non-null  int64  \n",
            " 12  month        371722 non-null  int64  \n",
            " 13  day          371722 non-null  int64  \n",
            " 14  hour         371722 non-null  int64  \n",
            " 15  cluster      371722 non-null  int64  \n",
            " 16  class        371722 non-null  object \n",
            " 17  encust       371722 non-null  int64  \n",
            " 18  encprod      371722 non-null  int64  \n",
            " 19  qtylog       371722 non-null  float64\n",
            "dtypes: float64(4), int64(10), object(6)\n",
            "memory usage: 56.7+ MB\n"
          ]
        }
      ],
      "source": [
        "#data understanding\n",
        "df_cleaned.info()"
      ]
    },
    {
      "cell_type": "code",
      "execution_count": null,
      "id": "582666d8",
      "metadata": {
        "id": "582666d8",
        "outputId": "f17b1667-6e95-4b27-a9c4-90aca9933d4b"
      },
      "outputs": [
        {
          "data": {
            "text/html": [
              "<div>\n",
              "<style scoped>\n",
              "    .dataframe tbody tr th:only-of-type {\n",
              "        vertical-align: middle;\n",
              "    }\n",
              "\n",
              "    .dataframe tbody tr th {\n",
              "        vertical-align: top;\n",
              "    }\n",
              "\n",
              "    .dataframe thead th {\n",
              "        text-align: right;\n",
              "    }\n",
              "</style>\n",
              "<table border=\"1\" class=\"dataframe\">\n",
              "  <thead>\n",
              "    <tr style=\"text-align: right;\">\n",
              "      <th></th>\n",
              "      <th>Unnamed: 0</th>\n",
              "      <th>CustomerID</th>\n",
              "      <th>recency</th>\n",
              "      <th>frequency</th>\n",
              "      <th>monetary</th>\n",
              "      <th>cluster</th>\n",
              "      <th>class</th>\n",
              "      <th>qtylog</th>\n",
              "    </tr>\n",
              "  </thead>\n",
              "  <tbody>\n",
              "    <tr>\n",
              "      <th>0</th>\n",
              "      <td>0</td>\n",
              "      <td>12346.0</td>\n",
              "      <td>325</td>\n",
              "      <td>0.301030</td>\n",
              "      <td>4.887531</td>\n",
              "      <td>0</td>\n",
              "      <td>Best customers</td>\n",
              "      <td>NaN</td>\n",
              "    </tr>\n",
              "    <tr>\n",
              "      <th>1</th>\n",
              "      <td>1</td>\n",
              "      <td>12347.0</td>\n",
              "      <td>2</td>\n",
              "      <td>2.181844</td>\n",
              "      <td>3.556207</td>\n",
              "      <td>3</td>\n",
              "      <td>New Customers</td>\n",
              "      <td>NaN</td>\n",
              "    </tr>\n",
              "    <tr>\n",
              "      <th>2</th>\n",
              "      <td>2</td>\n",
              "      <td>12348.0</td>\n",
              "      <td>75</td>\n",
              "      <td>1.176091</td>\n",
              "      <td>2.956860</td>\n",
              "      <td>1</td>\n",
              "      <td>Middle Spending Active customers</td>\n",
              "      <td>NaN</td>\n",
              "    </tr>\n",
              "    <tr>\n",
              "      <th>3</th>\n",
              "      <td>3</td>\n",
              "      <td>12349.0</td>\n",
              "      <td>18</td>\n",
              "      <td>1.869232</td>\n",
              "      <td>3.245155</td>\n",
              "      <td>1</td>\n",
              "      <td>Middle Spending Active customers</td>\n",
              "      <td>NaN</td>\n",
              "    </tr>\n",
              "    <tr>\n",
              "      <th>4</th>\n",
              "      <td>4</td>\n",
              "      <td>12350.0</td>\n",
              "      <td>310</td>\n",
              "      <td>1.255273</td>\n",
              "      <td>2.525563</td>\n",
              "      <td>0</td>\n",
              "      <td>Best customers</td>\n",
              "      <td>NaN</td>\n",
              "    </tr>\n",
              "  </tbody>\n",
              "</table>\n",
              "</div>"
            ],
            "text/plain": [
              "   Unnamed: 0  CustomerID  recency  frequency  monetary  cluster  \\\n",
              "0           0     12346.0      325   0.301030  4.887531        0   \n",
              "1           1     12347.0        2   2.181844  3.556207        3   \n",
              "2           2     12348.0       75   1.176091  2.956860        1   \n",
              "3           3     12349.0       18   1.869232  3.245155        1   \n",
              "4           4     12350.0      310   1.255273  2.525563        0   \n",
              "\n",
              "                               class  qtylog  \n",
              "0                     Best customers     NaN  \n",
              "1                      New Customers     NaN  \n",
              "2  Middle Spending Active customers      NaN  \n",
              "3  Middle Spending Active customers      NaN  \n",
              "4                     Best customers     NaN  "
            ]
          },
          "execution_count": 5,
          "metadata": {},
          "output_type": "execute_result"
        }
      ],
      "source": [
        "rfmdf.head()"
      ]
    },
    {
      "cell_type": "code",
      "execution_count": null,
      "id": "3cbb3410",
      "metadata": {
        "colab": {
          "base_uri": "https://localhost:8080/"
        },
        "id": "3cbb3410",
        "outputId": "36eea68e-cf4b-4b24-8b80-91dc2ad26f8d"
      },
      "outputs": [
        {
          "data": {
            "text/plain": [
              "(371722, 20)"
            ]
          },
          "execution_count": 6,
          "metadata": {},
          "output_type": "execute_result"
        }
      ],
      "source": [
        "#total rows and columns\n",
        "df_cleaned.shape\n"
      ]
    },
    {
      "cell_type": "code",
      "execution_count": null,
      "id": "b1b4d6e3",
      "metadata": {
        "colab": {
          "base_uri": "https://localhost:8080/"
        },
        "id": "b1b4d6e3",
        "outputId": "4ce593e1-9e38-47d1-cbb5-732888b0ff35"
      },
      "outputs": [
        {
          "data": {
            "text/plain": [
              "Unnamed: 0     371722\n",
              "InvoiceNo       17128\n",
              "StockCode        3595\n",
              "Description      3519\n",
              "Quantity          289\n",
              "InvoiceDate     15985\n",
              "UnitPrice         428\n",
              "CustomerID       4217\n",
              "Country            36\n",
              "TotalTrx         2730\n",
              "invDate           285\n",
              "year                1\n",
              "month              12\n",
              "day                31\n",
              "hour               15\n",
              "cluster             4\n",
              "class               4\n",
              "encust           4217\n",
              "encprod          3519\n",
              "qtylog            289\n",
              "dtype: int64"
            ]
          },
          "execution_count": 7,
          "metadata": {},
          "output_type": "execute_result"
        }
      ],
      "source": [
        "#check unique value for each columns\n",
        "df_cleaned.nunique()"
      ]
    },
    {
      "cell_type": "code",
      "execution_count": null,
      "id": "53380b01",
      "metadata": {
        "colab": {
          "base_uri": "https://localhost:8080/"
        },
        "id": "53380b01",
        "outputId": "70e1854c-ec9c-4a78-8856-547706003685"
      },
      "outputs": [
        {
          "data": {
            "text/plain": [
              "United Kingdom          330374\n",
              "Germany                   8528\n",
              "France                    7907\n",
              "EIRE                      6903\n",
              "Spain                     2409\n",
              "Netherlands               2287\n",
              "Belgium                   1936\n",
              "Switzerland               1792\n",
              "Portugal                  1346\n",
              "Australia                 1150\n",
              "Norway                     924\n",
              "Channel Islands            731\n",
              "Italy                      718\n",
              "Finland                    668\n",
              "Cyprus                     531\n",
              "Sweden                     425\n",
              "Austria                    390\n",
              "Denmark                    360\n",
              "Poland                     322\n",
              "Japan                      256\n",
              "Israel                     248\n",
              "Unspecified                244\n",
              "Singapore                  222\n",
              "USA                        179\n",
              "Iceland                    151\n",
              "Canada                     151\n",
              "Greece                     145\n",
              "Malta                      112\n",
              "United Arab Emirates        68\n",
              "European Community          60\n",
              "RSA                         57\n",
              "Lebanon                     45\n",
              "Brazil                      32\n",
              "Czech Republic              25\n",
              "Bahrain                     17\n",
              "Saudi Arabia                 9\n",
              "Name: Country, dtype: int64"
            ]
          },
          "execution_count": 8,
          "metadata": {},
          "output_type": "execute_result"
        }
      ],
      "source": [
        "#check value counts in country columns\n",
        "df_cleaned['Country'].value_counts()"
      ]
    },
    {
      "cell_type": "code",
      "execution_count": null,
      "id": "9b362c63",
      "metadata": {
        "colab": {
          "base_uri": "https://localhost:8080/"
        },
        "id": "9b362c63",
        "outputId": "3ac40b79-b901-4d7e-b5ee-eab64748538f"
      },
      "outputs": [
        {
          "data": {
            "text/plain": [
              "Unnamed: 0     0\n",
              "InvoiceNo      0\n",
              "StockCode      0\n",
              "Description    0\n",
              "Quantity       0\n",
              "InvoiceDate    0\n",
              "UnitPrice      0\n",
              "CustomerID     0\n",
              "Country        0\n",
              "TotalTrx       0\n",
              "invDate        0\n",
              "year           0\n",
              "month          0\n",
              "day            0\n",
              "hour           0\n",
              "cluster        0\n",
              "class          0\n",
              "encust         0\n",
              "encprod        0\n",
              "qtylog         0\n",
              "dtype: int64"
            ]
          },
          "execution_count": 9,
          "metadata": {},
          "output_type": "execute_result"
        }
      ],
      "source": [
        "#check total of missing value\n",
        "df_cleaned.isna().sum()"
      ]
    },
    {
      "cell_type": "code",
      "execution_count": null,
      "id": "fad06e9f",
      "metadata": {
        "id": "fad06e9f",
        "outputId": "8d24d5cc-34b3-4131-ba09-0218aa2528dd"
      },
      "outputs": [
        {
          "data": {
            "image/png": "[encoded data removed]",
            "text/plain": [
              "<Figure size 720x432 with 3 Axes>"
            ]
          },
          "metadata": {
            "needs_background": "light"
          },
          "output_type": "display_data"
        }
      ],
      "source": [
        "#define variable of column to figure out visualization\n",
        "val = ['recency','frequency','monetary']\n",
        "# adjust the figure size for better readability\n",
        "plt.figure(figsize=(10,6))\n",
        "# plotting\n",
        "for i in range(0, len(val)):\n",
        "    plt.subplot(1, len(val), i+1)\n",
        "    sns.boxplot(y=rfmdf[val[i]], color='yellow')\n",
        "    plt.tight_layout()\n"
      ]
    },
    {
      "cell_type": "markdown",
      "id": "ac747836",
      "metadata": {
        "id": "ac747836"
      },
      "source": [
        "the data has outlers, but we'll keep it, because that's data transaction."
      ]
    },
    {
      "cell_type": "code",
      "execution_count": null,
      "id": "13b1b791",
      "metadata": {
        "id": "13b1b791"
      },
      "outputs": [],
      "source": [
        "# # def check_outlier(data, column):\n",
        "# def check_outlier(data, column):\n",
        "#     q1 = data[column].quantile(0.25)\n",
        "#     q3 = data[column].quantile(0.75)\n",
        "#     iqr = q3 - q1\n",
        "    \n",
        "#     return ['outlier' if (x<q1-1.5*iqr or x>q3+1.5*iqr) \n",
        "#                                  else 'not-outlier' for x in data[column].values]\n"
      ]
    },
    {
      "cell_type": "code",
      "execution_count": null,
      "id": "8db26dd0",
      "metadata": {
        "id": "8db26dd0",
        "outputId": "ada4837c-d503-4aee-c39d-3c45fd975927"
      },
      "outputs": [
        {
          "data": {
            "image/png": "[encoded data removed]",
            "text/plain": [
              "<Figure size 720x360 with 3 Axes>"
            ]
          },
          "metadata": {
            "needs_background": "light"
          },
          "output_type": "display_data"
        }
      ],
      "source": [
        "#scatter of data \n",
        "fig, axes = plt.subplots(1,3, figsize=(10,5))\n",
        "sns.scatterplot(ax=axes[0],data=rfmdf,x='recency', y='monetary')\n",
        "sns.scatterplot(ax=axes[1],data=rfmdf,x='frequency', y='monetary')\n",
        "sns.scatterplot(ax=axes[2],data=rfmdf,y='recency', x='monetary')\n",
        "plt.tight_layout()"
      ]
    },
    {
      "cell_type": "code",
      "execution_count": null,
      "id": "06af5b07",
      "metadata": {
        "id": "06af5b07"
      },
      "outputs": [],
      "source": [
        "\n",
        "# df['rating'] = [0.5 if (x>0 and x < 3 and y > 0 and y <=1) else\n",
        "#                 1 if (x>=3 and x<=5 and y > 0 and y <= 1) else\n",
        "#                 1.5 if (x>5 and  x<=7 and y >0 and y <= 1) else\n",
        "#                 2 if (x>0 and x < 3 and y > 1 and y <= 3) else\n",
        "#                 2.5 if (x>0 and x < 3 and y > 3 and y <= 5) else\n",
        "#                 3 if (x>5 and x<=7 and y > 3 and y <= 5) else\n",
        "#                 3.5 if (x>0 and x <= 10  and y >0 ) else\n",
        "#                 4 if (x>10 and x <= 20 and y > 0 and y <= 10) else \n",
        "#                 4.5 if (x>10 and x<=20 and y >10 )else\n",
        "#                 5 if (x>20  and y > 0) else 'none' for x,y in zip(df['Quantity'], df['UnitPrice'])]"
      ]
    },
    {
      "cell_type": "code",
      "execution_count": null,
      "id": "dd0ff309",
      "metadata": {
        "id": "dd0ff309"
      },
      "outputs": [],
      "source": [
        "# df.rating.value_counts()"
      ]
    },
    {
      "cell_type": "code",
      "execution_count": null,
      "id": "0f4fddb3",
      "metadata": {
        "id": "0f4fddb3"
      },
      "outputs": [],
      "source": [
        "# af = np.arange(0.5,5.5,0.5)\n",
        "\n",
        "# for z in af:\n",
        "#     dd = df[df['rating']==z]\n",
        "#     print('Min Transaction in Rating',z,'is',dd.TotalTrx.min())\n",
        "#     print('Max Transaction in Rating',z,'is',dd.TotalTrx.max(),'\\n')"
      ]
    },
    {
      "cell_type": "code",
      "execution_count": null,
      "id": "5f3a5016",
      "metadata": {
        "id": "5f3a5016"
      },
      "outputs": [],
      "source": [
        "# #grouping StockCode \n",
        "# product_code = df.groupby(['StockCode','Description']).agg(number_of_ratings = ('rating', 'sum')).reset_index()\n",
        "# #sorted by counts \n",
        "# product_code = product_code.sort_values(by=['number_of_ratings'],ascending=False)\n",
        "\n",
        "# product_code.head()"
      ]
    },
    {
      "cell_type": "code",
      "execution_count": null,
      "id": "8aa40517",
      "metadata": {
        "id": "8aa40517"
      },
      "outputs": [],
      "source": [
        "# product_code.sort_values(by='number_of_ratings',ascending=False)"
      ]
    },
    {
      "cell_type": "code",
      "execution_count": null,
      "id": "cd5a1117",
      "metadata": {
        "id": "cd5a1117",
        "outputId": "b75d0249-ed18-4309-bde1-7a79924e6450"
      },
      "outputs": [
        {
          "data": {
            "text/html": [
              "<div>\n",
              "<style scoped>\n",
              "    .dataframe tbody tr th:only-of-type {\n",
              "        vertical-align: middle;\n",
              "    }\n",
              "\n",
              "    .dataframe tbody tr th {\n",
              "        vertical-align: top;\n",
              "    }\n",
              "\n",
              "    .dataframe thead th {\n",
              "        text-align: right;\n",
              "    }\n",
              "</style>\n",
              "<table border=\"1\" class=\"dataframe\">\n",
              "  <thead>\n",
              "    <tr style=\"text-align: right;\">\n",
              "      <th></th>\n",
              "      <th>InvoiceNo</th>\n",
              "      <th>StockCode</th>\n",
              "      <th>Description</th>\n",
              "      <th>Quantity</th>\n",
              "    </tr>\n",
              "  </thead>\n",
              "  <tbody>\n",
              "    <tr>\n",
              "      <th>0</th>\n",
              "      <td>539993</td>\n",
              "      <td>22386</td>\n",
              "      <td>JUMBO BAG PINK POLKADOT</td>\n",
              "      <td>10</td>\n",
              "    </tr>\n",
              "    <tr>\n",
              "      <th>1</th>\n",
              "      <td>539993</td>\n",
              "      <td>21499</td>\n",
              "      <td>BLUE POLKADOT WRAP</td>\n",
              "      <td>25</td>\n",
              "    </tr>\n",
              "    <tr>\n",
              "      <th>2</th>\n",
              "      <td>539993</td>\n",
              "      <td>21498</td>\n",
              "      <td>RED RETROSPOT WRAP</td>\n",
              "      <td>25</td>\n",
              "    </tr>\n",
              "    <tr>\n",
              "      <th>3</th>\n",
              "      <td>539993</td>\n",
              "      <td>22379</td>\n",
              "      <td>RECYCLING BAG RETROSPOT</td>\n",
              "      <td>5</td>\n",
              "    </tr>\n",
              "    <tr>\n",
              "      <th>4</th>\n",
              "      <td>539993</td>\n",
              "      <td>20718</td>\n",
              "      <td>RED RETROSPOT SHOPPER BAG</td>\n",
              "      <td>10</td>\n",
              "    </tr>\n",
              "  </tbody>\n",
              "</table>\n",
              "</div>"
            ],
            "text/plain": [
              "   InvoiceNo StockCode                Description  Quantity\n",
              "0     539993     22386    JUMBO BAG PINK POLKADOT        10\n",
              "1     539993     21499         BLUE POLKADOT WRAP        25\n",
              "2     539993     21498        RED RETROSPOT WRAP         25\n",
              "3     539993     22379   RECYCLING BAG RETROSPOT          5\n",
              "4     539993     20718  RED RETROSPOT SHOPPER BAG        10"
            ]
          },
          "execution_count": 18,
          "metadata": {},
          "output_type": "execute_result"
        }
      ],
      "source": [
        "df_baskets = df_cleaned[['InvoiceNo', 'StockCode', 'Description', 'Quantity']]\n",
        "df_baskets.head()"
      ]
    },
    {
      "cell_type": "code",
      "execution_count": null,
      "id": "1f626e9f",
      "metadata": {
        "id": "1f626e9f",
        "outputId": "ce5d4d29-341c-4ca5-ac52-87caa28f2ca7"
      },
      "outputs": [
        {
          "data": {
            "text/html": [
              "<div>\n",
              "<style scoped>\n",
              "    .dataframe tbody tr th:only-of-type {\n",
              "        vertical-align: middle;\n",
              "    }\n",
              "\n",
              "    .dataframe tbody tr th {\n",
              "        vertical-align: top;\n",
              "    }\n",
              "\n",
              "    .dataframe thead th {\n",
              "        text-align: right;\n",
              "    }\n",
              "</style>\n",
              "<table border=\"1\" class=\"dataframe\">\n",
              "  <thead>\n",
              "    <tr style=\"text-align: right;\">\n",
              "      <th></th>\n",
              "      <th>orders</th>\n",
              "      <th>quantity</th>\n",
              "    </tr>\n",
              "    <tr>\n",
              "      <th>Description</th>\n",
              "      <th></th>\n",
              "      <th></th>\n",
              "    </tr>\n",
              "  </thead>\n",
              "  <tbody>\n",
              "    <tr>\n",
              "      <th>MAILOUT</th>\n",
              "      <td>1945</td>\n",
              "      <td>43236</td>\n",
              "    </tr>\n",
              "    <tr>\n",
              "      <th>WHITE HANGING HEART T-LIGHT HOLDER</th>\n",
              "      <td>1777</td>\n",
              "      <td>33171</td>\n",
              "    </tr>\n",
              "    <tr>\n",
              "      <th>REGENCY CAKESTAND 3 TIER</th>\n",
              "      <td>1566</td>\n",
              "      <td>10832</td>\n",
              "    </tr>\n",
              "    <tr>\n",
              "      <th>JUMBO BAG RED RETROSPOT</th>\n",
              "      <td>1517</td>\n",
              "      <td>44125</td>\n",
              "    </tr>\n",
              "    <tr>\n",
              "      <th>PARTY BUNTING</th>\n",
              "      <td>1356</td>\n",
              "      <td>15101</td>\n",
              "    </tr>\n",
              "    <tr>\n",
              "      <th>ASSORTED COLOUR BIRD ORNAMENT</th>\n",
              "      <td>1284</td>\n",
              "      <td>33095</td>\n",
              "    </tr>\n",
              "    <tr>\n",
              "      <th>LUNCH BAG RED RETROSPOT</th>\n",
              "      <td>1235</td>\n",
              "      <td>17249</td>\n",
              "    </tr>\n",
              "    <tr>\n",
              "      <th>SET OF 3 CAKE TINS PANTRY DESIGN</th>\n",
              "      <td>1099</td>\n",
              "      <td>6808</td>\n",
              "    </tr>\n",
              "    <tr>\n",
              "      <th>POSTAGE</th>\n",
              "      <td>1035</td>\n",
              "      <td>2900</td>\n",
              "    </tr>\n",
              "    <tr>\n",
              "      <th>SPOTTY BUNTING</th>\n",
              "      <td>1009</td>\n",
              "      <td>7785</td>\n",
              "    </tr>\n",
              "  </tbody>\n",
              "</table>\n",
              "</div>"
            ],
            "text/plain": [
              "                                    orders  quantity\n",
              "Description                                         \n",
              "MAILOUT                               1945     43236\n",
              "WHITE HANGING HEART T-LIGHT HOLDER    1777     33171\n",
              "REGENCY CAKESTAND 3 TIER              1566     10832\n",
              "JUMBO BAG RED RETROSPOT               1517     44125\n",
              "PARTY BUNTING                         1356     15101\n",
              "ASSORTED COLOUR BIRD ORNAMENT         1284     33095\n",
              "LUNCH BAG RED RETROSPOT               1235     17249\n",
              "SET OF 3 CAKE TINS PANTRY DESIGN      1099      6808\n",
              "POSTAGE                               1035      2900\n",
              "SPOTTY BUNTING                        1009      7785"
            ]
          },
          "execution_count": 19,
          "metadata": {},
          "output_type": "execute_result"
        }
      ],
      "source": [
        "df_cleaned.groupby('Description').agg(\n",
        "    orders=('InvoiceNo', 'nunique'),\n",
        "    quantity=('Quantity', 'sum')\n",
        ").sort_values(by='orders', ascending=False).head(10)"
      ]
    },
    {
      "cell_type": "code",
      "execution_count": null,
      "id": "28d149fc",
      "metadata": {
        "id": "28d149fc",
        "outputId": "6da1cceb-16de-4f6d-cff3-4052a38b77e9"
      },
      "outputs": [
        {
          "data": {
            "text/html": [
              "<div>\n",
              "<style scoped>\n",
              "    .dataframe tbody tr th:only-of-type {\n",
              "        vertical-align: middle;\n",
              "    }\n",
              "\n",
              "    .dataframe tbody tr th {\n",
              "        vertical-align: top;\n",
              "    }\n",
              "\n",
              "    .dataframe thead th {\n",
              "        text-align: right;\n",
              "    }\n",
              "</style>\n",
              "<table border=\"1\" class=\"dataframe\">\n",
              "  <thead>\n",
              "    <tr style=\"text-align: right;\">\n",
              "      <th>Description</th>\n",
              "      <th>4 PURPLE FLOCK DINNER CANDLES</th>\n",
              "      <th>50'S CHRISTMAS GIFT BAG LARGE</th>\n",
              "      <th>DOLLY GIRL BEAKER</th>\n",
              "      <th>I LOVE LONDON MINI BACKPACK</th>\n",
              "      <th>NINE DRAWER OFFICE TIDY</th>\n",
              "      <th>OVAL WALL MIRROR DIAMANTE</th>\n",
              "      <th>RED SPOT GIFT BAG LARGE</th>\n",
              "      <th>SET 2 TEA TOWELS I LOVE LONDON</th>\n",
              "      <th>SPACEBOY BABY GIFT SET</th>\n",
              "      <th>TRELLIS COAT RACK</th>\n",
              "      <th>...</th>\n",
              "      <th>ZINC HEARTS PLANT POT HOLDER</th>\n",
              "      <th>ZINC HERB GARDEN CONTAINER</th>\n",
              "      <th>ZINC METAL HEART DECORATION</th>\n",
              "      <th>ZINC SWEETHEART SOAP DISH</th>\n",
              "      <th>ZINC SWEETHEART WIRE LETTER RACK</th>\n",
              "      <th>ZINC T-LIGHT HOLDER STAR LARGE</th>\n",
              "      <th>ZINC T-LIGHT HOLDER STARS SMALL</th>\n",
              "      <th>ZINC WILLIE WINKIE  CANDLE STICK</th>\n",
              "      <th>ZINC WIRE KITCHEN ORGANISER</th>\n",
              "      <th>ZINC WIRE SWEETHEART LETTER TRAY</th>\n",
              "    </tr>\n",
              "    <tr>\n",
              "      <th>InvoiceNo</th>\n",
              "      <th></th>\n",
              "      <th></th>\n",
              "      <th></th>\n",
              "      <th></th>\n",
              "      <th></th>\n",
              "      <th></th>\n",
              "      <th></th>\n",
              "      <th></th>\n",
              "      <th></th>\n",
              "      <th></th>\n",
              "      <th></th>\n",
              "      <th></th>\n",
              "      <th></th>\n",
              "      <th></th>\n",
              "      <th></th>\n",
              "      <th></th>\n",
              "      <th></th>\n",
              "      <th></th>\n",
              "      <th></th>\n",
              "      <th></th>\n",
              "      <th></th>\n",
              "    </tr>\n",
              "  </thead>\n",
              "  <tbody>\n",
              "    <tr>\n",
              "      <th>539993</th>\n",
              "      <td>0.0</td>\n",
              "      <td>0.0</td>\n",
              "      <td>0.0</td>\n",
              "      <td>0.0</td>\n",
              "      <td>0.0</td>\n",
              "      <td>0.0</td>\n",
              "      <td>0.0</td>\n",
              "      <td>0.0</td>\n",
              "      <td>0.0</td>\n",
              "      <td>0.0</td>\n",
              "      <td>...</td>\n",
              "      <td>0.0</td>\n",
              "      <td>0.0</td>\n",
              "      <td>0.0</td>\n",
              "      <td>0.0</td>\n",
              "      <td>0.0</td>\n",
              "      <td>0.0</td>\n",
              "      <td>0.0</td>\n",
              "      <td>0.0</td>\n",
              "      <td>0.0</td>\n",
              "      <td>0.0</td>\n",
              "    </tr>\n",
              "    <tr>\n",
              "      <th>540001</th>\n",
              "      <td>0.0</td>\n",
              "      <td>0.0</td>\n",
              "      <td>0.0</td>\n",
              "      <td>0.0</td>\n",
              "      <td>0.0</td>\n",
              "      <td>0.0</td>\n",
              "      <td>0.0</td>\n",
              "      <td>0.0</td>\n",
              "      <td>0.0</td>\n",
              "      <td>0.0</td>\n",
              "      <td>...</td>\n",
              "      <td>0.0</td>\n",
              "      <td>0.0</td>\n",
              "      <td>0.0</td>\n",
              "      <td>0.0</td>\n",
              "      <td>0.0</td>\n",
              "      <td>0.0</td>\n",
              "      <td>0.0</td>\n",
              "      <td>0.0</td>\n",
              "      <td>0.0</td>\n",
              "      <td>0.0</td>\n",
              "    </tr>\n",
              "    <tr>\n",
              "      <th>540002</th>\n",
              "      <td>0.0</td>\n",
              "      <td>0.0</td>\n",
              "      <td>0.0</td>\n",
              "      <td>0.0</td>\n",
              "      <td>0.0</td>\n",
              "      <td>0.0</td>\n",
              "      <td>0.0</td>\n",
              "      <td>0.0</td>\n",
              "      <td>0.0</td>\n",
              "      <td>0.0</td>\n",
              "      <td>...</td>\n",
              "      <td>0.0</td>\n",
              "      <td>0.0</td>\n",
              "      <td>0.0</td>\n",
              "      <td>0.0</td>\n",
              "      <td>0.0</td>\n",
              "      <td>0.0</td>\n",
              "      <td>0.0</td>\n",
              "      <td>0.0</td>\n",
              "      <td>0.0</td>\n",
              "      <td>0.0</td>\n",
              "    </tr>\n",
              "    <tr>\n",
              "      <th>540003</th>\n",
              "      <td>0.0</td>\n",
              "      <td>0.0</td>\n",
              "      <td>0.0</td>\n",
              "      <td>0.0</td>\n",
              "      <td>0.0</td>\n",
              "      <td>0.0</td>\n",
              "      <td>0.0</td>\n",
              "      <td>0.0</td>\n",
              "      <td>0.0</td>\n",
              "      <td>0.0</td>\n",
              "      <td>...</td>\n",
              "      <td>0.0</td>\n",
              "      <td>0.0</td>\n",
              "      <td>0.0</td>\n",
              "      <td>0.0</td>\n",
              "      <td>0.0</td>\n",
              "      <td>0.0</td>\n",
              "      <td>0.0</td>\n",
              "      <td>0.0</td>\n",
              "      <td>0.0</td>\n",
              "      <td>0.0</td>\n",
              "    </tr>\n",
              "    <tr>\n",
              "      <th>540004</th>\n",
              "      <td>0.0</td>\n",
              "      <td>0.0</td>\n",
              "      <td>0.0</td>\n",
              "      <td>0.0</td>\n",
              "      <td>0.0</td>\n",
              "      <td>0.0</td>\n",
              "      <td>0.0</td>\n",
              "      <td>0.0</td>\n",
              "      <td>0.0</td>\n",
              "      <td>0.0</td>\n",
              "      <td>...</td>\n",
              "      <td>0.0</td>\n",
              "      <td>0.0</td>\n",
              "      <td>0.0</td>\n",
              "      <td>0.0</td>\n",
              "      <td>0.0</td>\n",
              "      <td>0.0</td>\n",
              "      <td>0.0</td>\n",
              "      <td>0.0</td>\n",
              "      <td>0.0</td>\n",
              "      <td>0.0</td>\n",
              "    </tr>\n",
              "  </tbody>\n",
              "</table>\n",
              "<p>5 rows × 3519 columns</p>\n",
              "</div>"
            ],
            "text/plain": [
              "Description   4 PURPLE FLOCK DINNER CANDLES   50'S CHRISTMAS GIFT BAG LARGE  \\\n",
              "InvoiceNo                                                                     \n",
              "539993                                  0.0                             0.0   \n",
              "540001                                  0.0                             0.0   \n",
              "540002                                  0.0                             0.0   \n",
              "540003                                  0.0                             0.0   \n",
              "540004                                  0.0                             0.0   \n",
              "\n",
              "Description   DOLLY GIRL BEAKER   I LOVE LONDON MINI BACKPACK  \\\n",
              "InvoiceNo                                                       \n",
              "539993                      0.0                           0.0   \n",
              "540001                      0.0                           0.0   \n",
              "540002                      0.0                           0.0   \n",
              "540003                      0.0                           0.0   \n",
              "540004                      0.0                           0.0   \n",
              "\n",
              "Description   NINE DRAWER OFFICE TIDY   OVAL WALL MIRROR DIAMANTE   \\\n",
              "InvoiceNo                                                            \n",
              "539993                            0.0                          0.0   \n",
              "540001                            0.0                          0.0   \n",
              "540002                            0.0                          0.0   \n",
              "540003                            0.0                          0.0   \n",
              "540004                            0.0                          0.0   \n",
              "\n",
              "Description   RED SPOT GIFT BAG LARGE   SET 2 TEA TOWELS I LOVE LONDON   \\\n",
              "InvoiceNo                                                                 \n",
              "539993                            0.0                               0.0   \n",
              "540001                            0.0                               0.0   \n",
              "540002                            0.0                               0.0   \n",
              "540003                            0.0                               0.0   \n",
              "540004                            0.0                               0.0   \n",
              "\n",
              "Description   SPACEBOY BABY GIFT SET   TRELLIS COAT RACK  ...  \\\n",
              "InvoiceNo                                                 ...   \n",
              "539993                           0.0                 0.0  ...   \n",
              "540001                           0.0                 0.0  ...   \n",
              "540002                           0.0                 0.0  ...   \n",
              "540003                           0.0                 0.0  ...   \n",
              "540004                           0.0                 0.0  ...   \n",
              "\n",
              "Description  ZINC HEARTS PLANT POT HOLDER  ZINC HERB GARDEN CONTAINER  \\\n",
              "InvoiceNo                                                               \n",
              "539993                                0.0                         0.0   \n",
              "540001                                0.0                         0.0   \n",
              "540002                                0.0                         0.0   \n",
              "540003                                0.0                         0.0   \n",
              "540004                                0.0                         0.0   \n",
              "\n",
              "Description  ZINC METAL HEART DECORATION  ZINC SWEETHEART SOAP DISH  \\\n",
              "InvoiceNo                                                             \n",
              "539993                               0.0                        0.0   \n",
              "540001                               0.0                        0.0   \n",
              "540002                               0.0                        0.0   \n",
              "540003                               0.0                        0.0   \n",
              "540004                               0.0                        0.0   \n",
              "\n",
              "Description  ZINC SWEETHEART WIRE LETTER RACK  ZINC T-LIGHT HOLDER STAR LARGE  \\\n",
              "InvoiceNo                                                                       \n",
              "539993                                    0.0                             0.0   \n",
              "540001                                    0.0                             0.0   \n",
              "540002                                    0.0                             0.0   \n",
              "540003                                    0.0                             0.0   \n",
              "540004                                    0.0                             0.0   \n",
              "\n",
              "Description  ZINC T-LIGHT HOLDER STARS SMALL  \\\n",
              "InvoiceNo                                      \n",
              "539993                                   0.0   \n",
              "540001                                   0.0   \n",
              "540002                                   0.0   \n",
              "540003                                   0.0   \n",
              "540004                                   0.0   \n",
              "\n",
              "Description  ZINC WILLIE WINKIE  CANDLE STICK  ZINC WIRE KITCHEN ORGANISER  \\\n",
              "InvoiceNo                                                                    \n",
              "539993                                    0.0                          0.0   \n",
              "540001                                    0.0                          0.0   \n",
              "540002                                    0.0                          0.0   \n",
              "540003                                    0.0                          0.0   \n",
              "540004                                    0.0                          0.0   \n",
              "\n",
              "Description  ZINC WIRE SWEETHEART LETTER TRAY  \n",
              "InvoiceNo                                      \n",
              "539993                                    0.0  \n",
              "540001                                    0.0  \n",
              "540002                                    0.0  \n",
              "540003                                    0.0  \n",
              "540004                                    0.0  \n",
              "\n",
              "[5 rows x 3519 columns]"
            ]
          },
          "execution_count": 20,
          "metadata": {},
          "output_type": "execute_result"
        }
      ],
      "source": [
        "df_items = df_cleaned.pivot_table(index='InvoiceNo', columns=['Description'], values='Quantity').fillna(0)\n",
        "df_items.head()"
      ]
    },
    {
      "cell_type": "code",
      "execution_count": null,
      "id": "5ceba915",
      "metadata": {
        "id": "5ceba915",
        "outputId": "5f5c3848-e2a2-4dff-935f-c168e25e6457"
      },
      "outputs": [
        {
          "name": "stdout",
          "output_type": "stream",
          "text": [
            "<class 'pandas.core.frame.DataFrame'>\n",
            "Int64Index: 17128 entries, 539993 to 581587\n",
            "Columns: 3519 entries,  4 PURPLE FLOCK DINNER CANDLES to ZINC WIRE SWEETHEART LETTER TRAY\n",
            "dtypes: float64(3519)\n",
            "memory usage: 460.0 MB\n"
          ]
        }
      ],
      "source": [
        "df_items.info()"
      ]
    },
    {
      "cell_type": "code",
      "execution_count": null,
      "id": "028e3b4e",
      "metadata": {
        "id": "028e3b4e"
      },
      "outputs": [],
      "source": [
        "def get_recommendations(df, item):\n",
        "    \"\"\"Generate a set of product recommendations using item-based collaborative filtering.\n",
        "    \n",
        "    Args:\n",
        "        df (dataframe): Pandas dataframe containing matrix of items purchased.\n",
        "        item (string): Column name for target item. \n",
        "        \n",
        "    Returns: \n",
        "        recommendations (dataframe): Pandas dataframe containing product recommendations. \n",
        "    \"\"\"\n",
        "    \n",
        "    recommendations = df.corrwith(df[item])\n",
        "    recommendations.dropna(inplace=True)\n",
        "    recommendations = pd.DataFrame(recommendations).reset_index()\n",
        "    recommendations = recommendations.sort_values(by='correlation', ascending=False)\n",
        "    recommendations = recommendations.iloc[1:]\n",
        "    \n",
        "    return recommendations"
      ]
    },
    {
      "cell_type": "code",
      "execution_count": null,
      "id": "c4f67f57",
      "metadata": {
        "id": "c4f67f57"
      },
      "outputs": [],
      "source": [
        "# recommendations = get_recommendations(df_items, 'ZINC WIRE SWEETHEART LETTER TRAY')\n",
        "# recommendations.head()"
      ]
    },
    {
      "cell_type": "code",
      "execution_count": null,
      "id": "85486436",
      "metadata": {
        "id": "85486436"
      },
      "outputs": [],
      "source": [
        "# recommendations = df_items.corrwith(df_items['OVAL WALL MIRROR DIAMANTE'])\n",
        "# recommendations.dropna(inplace=True)\n",
        "# recommendations = pd.DataFrame(recommendations, columns=['correlation']).reset_index()\n",
        "# recommendations"
      ]
    },
    {
      "cell_type": "code",
      "execution_count": null,
      "id": "39a69187",
      "metadata": {
        "id": "39a69187"
      },
      "outputs": [],
      "source": [
        "# recommendations = recommendations.sort_values(by='correlation', ascending=False)\n",
        "# recommendations"
      ]
    },
    {
      "cell_type": "code",
      "execution_count": null,
      "id": "210b099b",
      "metadata": {
        "id": "210b099b"
      },
      "outputs": [],
      "source": [
        "# recommendations = recommendations[1:]\n",
        "# recommendations.head()"
      ]
    },
    {
      "cell_type": "code",
      "execution_count": 4,
      "id": "9c4637d2",
      "metadata": {
        "id": "9c4637d2"
      },
      "outputs": [],
      "source": [
        "import os\n",
        "import time\n",
        "\n",
        "# spark imports\n",
        "from pyspark.sql import SparkSession\n",
        "from pyspark.sql.functions import UserDefinedFunction, explode, desc\n",
        "from pyspark.sql.types import StringType, ArrayType\n",
        "from pyspark.mllib.recommendation import ALS\n",
        "\n",
        "# data science imports\n",
        "import math\n",
        "import numpy as np\n",
        "import pandas as pd\n",
        "\n",
        "# visualization imports\n",
        "import seaborn as sns\n",
        "import matplotlib.pyplot as plt\n",
        "\n",
        "# matplotlib inlineimport os\n",
        "import time\n",
        "\n",
        "# spark imports\n",
        "from pyspark.sql import SparkSession\n",
        "from pyspark.sql.functions import UserDefinedFunction, explode, desc\n",
        "from pyspark.sql.types import StringType, ArrayType\n",
        "from pyspark.mllib.recommendation import ALS\n",
        "from pyspark.sql.functions import *\n",
        "from pyspark import SparkContext\n",
        "\n",
        "from pyspark import  SparkConf , SparkContext\n",
        "from pyspark.context import  SparkContext\n",
        "\n",
        "# data science imports\n",
        "import math\n",
        "import numpy as np\n",
        "import pandas as pd\n",
        "\n",
        "# visualization imports\n",
        "import seaborn as sns\n",
        "import matplotlib.pyplot as plt\n",
        "\n",
        "%matplotlib inline\n",
        "# conf = SparkConf().setAppName(appName).setMaster(master)\n",
        "\n",
        "spark = SparkSession.builder.config(\"spark.driver.host\",\"localhost\").appName('RecomendationSystem').getOrCreate()\n",
        "# # get spark context\n",
        "# sc = spark.sparkContext()\n",
        "# sc = SparkContext(master = \"local\" , appName = \"sparkdemo\")\n",
        "# spark = SparkSession(sc)"
      ]
    },
    {
      "cell_type": "code",
      "source": [
        "from pyspark import SparkConf \n",
        "from pyspark.context import SparkContext \n",
        "\n",
        "sc = SparkContext.getOrCreate(SparkConf().setMaster(\"local[*]\"))"
      ],
      "metadata": {
        "id": "6y_E44IZgMFA"
      },
      "id": "6y_E44IZgMFA",
      "execution_count": 5,
      "outputs": []
    },
    {
      "cell_type": "code",
      "execution_count": 6,
      "id": "48e5a91b",
      "metadata": {
        "id": "48e5a91b"
      },
      "outputs": [],
      "source": [
        "# import findspark\n",
        "# findspark.init()"
      ]
    },
    {
      "cell_type": "code",
      "execution_count": 6,
      "id": "5b69846f",
      "metadata": {
        "id": "5b69846f"
      },
      "outputs": [],
      "source": []
    },
    {
      "cell_type": "code",
      "execution_count": 7,
      "id": "18bc2f22",
      "metadata": {
        "colab": {
          "base_uri": "https://localhost:8080/"
        },
        "id": "18bc2f22",
        "outputId": "39e6a729-8a0d-483b-d780-6e42680b6474"
      },
      "outputs": [
        {
          "output_type": "stream",
          "name": "stdout",
          "text": [
            "+-----+---------+---------+--------------------+--------+-------------------+---------+----------+--------------+--------+-------------------+----+-----+---+----+-------+--------------------+------+-------+------------------+\n",
            "|  _c0|InvoiceNo|StockCode|         Description|Quantity|        InvoiceDate|UnitPrice|CustomerID|       Country|TotalTrx|            invDate|year|month|day|hour|cluster|               class|encust|encprod|            qtylog|\n",
            "+-----+---------+---------+--------------------+--------+-------------------+---------+----------+--------------+--------+-------------------+----+-----+---+----+-------+--------------------+------+-------+------------------+\n",
            "|42481|   539993|    22386|JUMBO BAG PINK PO...|      10|2011-01-04 10:00:00|     1.95|   13313.0|United Kingdom|    19.5|2011-01-04 00:00:00|2011|    1|  4|  10|      1|Middle Spending A...|   708|   1608|               1.0|\n",
            "|42482|   539993|    21499|  BLUE POLKADOT WRAP|      25|2011-01-04 10:00:00|     0.42|   13313.0|United Kingdom|    10.5|2011-01-04 00:00:00|2011|    1|  4|  10|      1|Middle Spending A...|   708|    443|1.3979400086720377|\n",
            "|42483|   539993|    21498| RED RETROSPOT WRAP |      25|2011-01-04 10:00:00|     0.42|   13313.0|United Kingdom|    10.5|2011-01-04 00:00:00|2011|    1|  4|  10|      1|Middle Spending A...|   708|   2521|1.3979400086720377|\n",
            "+-----+---------+---------+--------------------+--------+-------------------+---------+----------+--------------+--------+-------------------+----+-----+---+----+-------+--------------------+------+-------+------------------+\n",
            "only showing top 3 rows\n",
            "\n"
          ]
        }
      ],
      "source": [
        "# path = \"/C:/Yodi/REKAP/Modul Data Science/Final Project/Segmentation_Recomendation/Segmentation_Recomendation/cleaned_df.csv\"\n",
        "\n",
        "df = spark.read.csv('Segmentation_Recomendation/cleaned_df.csv',header='true', \n",
        "                      inferSchema='true')\n",
        "# df = spark.read.csv('cleaned_df.csv')\n",
        "df.show(3)"
      ]
    },
    {
      "cell_type": "code",
      "execution_count": 8,
      "id": "e98ffbe9",
      "metadata": {
        "colab": {
          "base_uri": "https://localhost:8080/"
        },
        "id": "e98ffbe9",
        "outputId": "9cb7a315-9e03-41c5-a0c2-0addf5749b46"
      },
      "outputs": [
        {
          "output_type": "stream",
          "name": "stdout",
          "text": [
            "+-------+----------------------------------+\n",
            "|encprod|Description                       |\n",
            "+-------+----------------------------------+\n",
            "|2638   |ROUND SNACK BOXES SET OF 4 SKULLS |\n",
            "|2497   |RED RETROSPOT CHARLOTTE BAG       |\n",
            "|3075   |STRAWBERRY LUNCH BOX WITH CUTLERY |\n",
            "|1544   |INFLATABLE POLITICAL GLOBE        |\n",
            "|686    |CHRISTMAS GINGHAM HEART           |\n",
            "|2872   |SET/6 COLLAGE PAPER PLATES        |\n",
            "|556    |CANDY SPOT EGG WARMER RABBIT      |\n",
            "|1673   |LARGE CHINESE STYLE SCISSOR       |\n",
            "|1321   |GLITTER HEART GARLAND WITH BELLS  |\n",
            "|426    |BLUE PAISLEY TISSUE BOX           |\n",
            "|504    |BROWN  PIRATE TREASURE CHEST      |\n",
            "|511    |BULL DOG BOTTLE TOP WALL CLOCK    |\n",
            "|1770   |LUNCH BAG ALPHABET DESIGN         |\n",
            "|1569   |IVORY SWEETHEART WIRE LETTER RACK |\n",
            "|1662   |LARGE ANTIQUE WHITE PHOTO FRAME   |\n",
            "|2745   |SET OF 3 CAKE TINS PANTRY DESIGN  |\n",
            "|3474   |WRAP RED APPLES                   |\n",
            "|691    |CHRISTMAS HANGING STAR WITH BELL  |\n",
            "|1203   |FRENCH BLUE METAL DOOR SIGN 6     |\n",
            "|498    |BREAD BIN DINER STYLE PINK        |\n",
            "+-------+----------------------------------+\n",
            "only showing top 20 rows\n",
            "\n",
            "(3519, 2)\n"
          ]
        }
      ],
      "source": [
        "# getting column encprod and description\n",
        "prd = df.select(df['encprod'],df['Description'])\n",
        "# Select distinct rows\n",
        "prod_df = prd.distinct()\n",
        "#show data\n",
        "prod_df.show(truncate=False)\n",
        "#getiing length row and column of data\n",
        "print((prod_df.count(), len(prod_df.columns)))"
      ]
    },
    {
      "cell_type": "code",
      "execution_count": 9,
      "id": "9ebc1389",
      "metadata": {
        "id": "9ebc1389"
      },
      "outputs": [],
      "source": [
        "# from pyspark.sql.functions import sum,avg,max\n",
        "import pyspark.sql.functions as sf\n",
        "#define rating data\n",
        "# nd = df.select(df['encprod'],df['encprod'],df['qtylog'])\n",
        "\n",
        "nd = df.groupBy(\"encust\",\"encprod\")\\\n",
        "   .agg(sf.sum('Quantity').alias('qty'),\\\n",
        "        sf.sum('TotalTrx').alias('grand')\n",
        "        )\n",
        "\n"
      ]
    },
    {
      "cell_type": "code",
      "execution_count": 10,
      "id": "33a5ac97",
      "metadata": {
        "colab": {
          "base_uri": "https://localhost:8080/"
        },
        "id": "33a5ac97",
        "outputId": "52f5fa87-2a55-4855-c47b-f061cb3c3b46"
      },
      "outputs": [
        {
          "output_type": "stream",
          "name": "stdout",
          "text": [
            "+------+-------+---+-----------------+\n",
            "|encust|encprod|qty|            grand|\n",
            "+------+-------+---+-----------------+\n",
            "|  4005|   1473|  6|9.899999999999999|\n",
            "|   966|   2155|  5|             4.25|\n",
            "+------+-------+---+-----------------+\n",
            "only showing top 2 rows\n",
            "\n"
          ]
        }
      ],
      "source": [
        "nd.show(2)"
      ]
    },
    {
      "cell_type": "code",
      "execution_count": 11,
      "id": "cf7a12ab",
      "metadata": {
        "colab": {
          "base_uri": "https://localhost:8080/",
          "height": 369
        },
        "id": "cf7a12ab",
        "outputId": "034b59d2-122f-420f-a924-64e365c0d745"
      },
      "outputs": [
        {
          "output_type": "display_data",
          "data": {
            "text/plain": [
              "<Figure size 720x360 with 2 Axes>"
            ],
            "image/png": "[encoded data removed]"
          },
          "metadata": {
            "needs_background": "light"
          }
        }
      ],
      "source": [
        "arr_qty = np.array(nd.select('qty').collect())\n",
        "arr_grand = np.array(nd.select('grand').collect())\n",
        "# arrencprod = nd.select('encprod')\n",
        "# arrqtylog = arrqtylog.tolist()\n",
        "# plot\n",
        "# plt.figure(figsize=(12, 6))\n",
        "# fig1, ax1 = plt.subplots()\n",
        "# ax1.set_title('Qty BoxPlot')\n",
        "# ax1.boxplot(arrqtylog)\n",
        "# sns.boxplot(y=arrqty)\n",
        "\n",
        "\n",
        "fig, axes = plt.subplots(1,2, figsize=(10,5))\n",
        "sns.boxplot(ax=axes[0],y = arr_qty).set(title='Total Quatity')\n",
        "sns.boxplot(ax=axes[1],y = arr_grand).set(title='Total Transaction')\n",
        "plt.tight_layout()"
      ]
    },
    {
      "cell_type": "code",
      "execution_count": 12,
      "id": "2ef00185",
      "metadata": {
        "id": "2ef00185"
      },
      "outputs": [],
      "source": [
        "#logtransform to reduce outlier\n",
        "from pyspark.sql.functions import col\n",
        "nd = nd.withColumn(\"logqty\", log10(col(\"qty\")))\n",
        "nd = nd.withColumn(\"logtrx\", log10(col(\"grand\")))"
      ]
    },
    {
      "cell_type": "code",
      "execution_count": 13,
      "id": "5a8c6486",
      "metadata": {
        "colab": {
          "base_uri": "https://localhost:8080/",
          "height": 369
        },
        "id": "5a8c6486",
        "outputId": "86c86346-433f-4b75-8d66-8f5077daa524"
      },
      "outputs": [
        {
          "output_type": "display_data",
          "data": {
            "text/plain": [
              "<Figure size 720x360 with 2 Axes>"
            ],
            "image/png": "[encoded data removed]"
          },
          "metadata": {
            "needs_background": "light"
          }
        }
      ],
      "source": [
        "arr_logqty = np.array(nd.select(\"logqty\").collect())\n",
        "arr_logtrx = np.array(nd.select(\"logtrx\").collect())\n",
        "fig, axes = plt.subplots(1,2, figsize=(10,5))\n",
        "sns.boxplot(ax=axes[0],y = arr_logqty).set(title='Log Transformation Quatity')\n",
        "sns.boxplot(ax=axes[1],y = arr_logtrx).set(title='Log Transformation Transaction')\n",
        "plt.tight_layout()"
      ]
    },
    {
      "cell_type": "code",
      "execution_count": 14,
      "id": "060a4ca5",
      "metadata": {
        "colab": {
          "base_uri": "https://localhost:8080/"
        },
        "id": "060a4ca5",
        "outputId": "bf0608fe-6496-4444-a890-945746c00589"
      },
      "outputs": [
        {
          "output_type": "stream",
          "name": "stdout",
          "text": [
            "+------+-------+------------------+------------------+\n",
            "|encust|encprod|            logqty|            logtrx|\n",
            "+------+-------+------------------+------------------+\n",
            "|  4005|   1473|0.7781512503836436|0.9956351945975499|\n",
            "|   966|   2155|0.6989700043360189|0.6283889300503115|\n",
            "+------+-------+------------------+------------------+\n",
            "only showing top 2 rows\n",
            "\n"
          ]
        }
      ],
      "source": [
        "data_scale_output = nd.select(nd['encust'],nd['encprod'],nd['logqty'],nd['logtrx'])\n",
        "data_scale_output.show(2)"
      ]
    },
    {
      "cell_type": "code",
      "execution_count": 15,
      "id": "32c6fc4f",
      "metadata": {
        "id": "32c6fc4f"
      },
      "outputs": [],
      "source": [
        "from pyspark.ml.linalg import Vectors\n",
        "from pyspark.ml.feature import VectorAssembler\n"
      ]
    },
    {
      "cell_type": "code",
      "execution_count": 16,
      "id": "73aa9dcc",
      "metadata": {
        "colab": {
          "base_uri": "https://localhost:8080/"
        },
        "id": "73aa9dcc",
        "outputId": "27eedea1-cea4-4695-ca15-a66aa99d0280"
      },
      "outputs": [
        {
          "output_type": "execute_result",
          "data": {
            "text/plain": [
              "['encust', 'encprod', 'logqty', 'logtrx']"
            ]
          },
          "metadata": {},
          "execution_count": 16
        }
      ],
      "source": [
        "#format the data\n",
        "data_scale_output.columns"
      ]
    },
    {
      "cell_type": "code",
      "execution_count": 17,
      "id": "671a328e",
      "metadata": {
        "id": "671a328e"
      },
      "outputs": [],
      "source": [
        "vec_assembler = VectorAssembler(inputCols=[\"logqty\", \"logtrx\"], outputCol=\"features\")"
      ]
    },
    {
      "cell_type": "code",
      "execution_count": 18,
      "id": "41ce4e54",
      "metadata": {
        "id": "41ce4e54"
      },
      "outputs": [],
      "source": [
        "# vec_assembler = VectorAssembler(inputCols = data_scale_output.columns, outputCol='features')"
      ]
    },
    {
      "cell_type": "code",
      "execution_count": 19,
      "id": "dc0568e6",
      "metadata": {
        "id": "dc0568e6"
      },
      "outputs": [],
      "source": [
        "final_data = vec_assembler.transform(data_scale_output)"
      ]
    },
    {
      "cell_type": "code",
      "execution_count": 20,
      "id": "b99001c4",
      "metadata": {
        "id": "b99001c4"
      },
      "outputs": [],
      "source": [
        "# from pyspark.ml.feature import StandardScaler\n",
        "# scaler = StandardScaler(inputCol=\"features\", outputCol=\"scaledFeatures\", withStd=True, withMean=False)"
      ]
    },
    {
      "cell_type": "code",
      "execution_count": 21,
      "id": "de2666f3",
      "metadata": {
        "colab": {
          "base_uri": "https://localhost:8080/"
        },
        "id": "de2666f3",
        "outputId": "6b8aa39c-bbaa-4488-dae1-5ac08a480283"
      },
      "outputs": [
        {
          "output_type": "stream",
          "name": "stdout",
          "text": [
            "+------+-------+------------------+------------------+--------------------+\n",
            "|encust|encprod|            logqty|            logtrx|            features|\n",
            "+------+-------+------------------+------------------+--------------------+\n",
            "|  4005|   1473|0.7781512503836436|0.9956351945975499|[0.77815125038364...|\n",
            "|   966|   2155|0.6989700043360189|0.6283889300503115|[0.69897000433601...|\n",
            "+------+-------+------------------+------------------+--------------------+\n",
            "only showing top 2 rows\n",
            "\n"
          ]
        }
      ],
      "source": [
        "final_data.show(2)"
      ]
    },
    {
      "cell_type": "code",
      "execution_count": 22,
      "id": "4405c9aa",
      "metadata": {
        "id": "4405c9aa"
      },
      "outputs": [],
      "source": [
        "# Compute summary statistics by fitting the StandardScaler\n",
        "# scalerModel = scaler.fit(final_data)"
      ]
    },
    {
      "cell_type": "code",
      "execution_count": 23,
      "id": "6a8dafa5",
      "metadata": {
        "id": "6a8dafa5"
      },
      "outputs": [],
      "source": [
        "# Normalize each feature to have unit standard deviation.\n",
        "# final_data = scalerModel.transform(final_data)"
      ]
    },
    {
      "cell_type": "markdown",
      "id": "79336f2d",
      "metadata": {
        "id": "79336f2d"
      },
      "source": [
        "# Training Data Kmeans"
      ]
    },
    {
      "cell_type": "code",
      "execution_count": 24,
      "id": "669dc89b",
      "metadata": {
        "id": "669dc89b"
      },
      "outputs": [],
      "source": [
        "from pyspark.ml.clustering import KMeans\n",
        "\n",
        "# Training a k-means model.\n",
        "# kmeans = KMeans(featuresCol='scaledFeatures',k=3)\n",
        "# model = kmeans.fit(final_data)"
      ]
    },
    {
      "cell_type": "code",
      "execution_count": 25,
      "id": "a47a002e",
      "metadata": {
        "colab": {
          "base_uri": "https://localhost:8080/"
        },
        "id": "a47a002e",
        "outputId": "f1f5a479-7b6d-4e29-b86e-71f271cca555"
      },
      "outputs": [
        {
          "output_type": "stream",
          "name": "stdout",
          "text": [
            "Silhouette Score: 0.6062167513804508\n",
            "Silhouette Score: 0.6102063114676449\n",
            "Silhouette Score: 0.5501809627182896\n",
            "Silhouette Score: 0.5146735798774673\n",
            "Silhouette Score: 0.5142315280474207\n",
            "Silhouette Score: 0.4743767705985992\n",
            "Silhouette Score: 0.5009300465018786\n",
            "Silhouette Score: 0.4990159071625255\n"
          ]
        }
      ],
      "source": [
        "from pyspark.ml.clustering import KMeans\n",
        "from pyspark.ml.evaluation import ClusteringEvaluator\n",
        "silhouette_score=[]\n",
        "evaluator = ClusteringEvaluator(predictionCol='prediction', featuresCol='features', \\\n",
        "                                metricName='silhouette', distanceMeasure='squaredEuclidean')\n",
        "for i in range(2,10):\n",
        "    \n",
        "    KMeans_algo=KMeans(featuresCol='features', k=i)\n",
        "    \n",
        "    KMeans_fit=KMeans_algo.fit(final_data)\n",
        "    \n",
        "    output=KMeans_fit.transform(final_data)\n",
        "    \n",
        "    \n",
        "    \n",
        "    score=evaluator.evaluate(output)\n",
        "    \n",
        "    silhouette_score.append(score)\n",
        "    \n",
        "    print(\"Silhouette Score:\",score)"
      ]
    },
    {
      "cell_type": "code",
      "source": [],
      "metadata": {
        "id": "9fawL7ZtA_-W"
      },
      "id": "9fawL7ZtA_-W",
      "execution_count": 49,
      "outputs": []
    },
    {
      "cell_type": "code",
      "execution_count": 26,
      "id": "3f74a355",
      "metadata": {
        "colab": {
          "base_uri": "https://localhost:8080/",
          "height": 295
        },
        "id": "3f74a355",
        "outputId": "7d61e2cc-0b4f-4b29-9b42-3c3585e03386"
      },
      "outputs": [
        {
          "output_type": "display_data",
          "data": {
            "text/plain": [
              "<Figure size 432x288 with 1 Axes>"
            ],
            "image/png": "[encoded data removed]"
          },
          "metadata": {
            "needs_background": "light"
          }
        }
      ],
      "source": [
        "# Calculate cost and plot\n",
        "cost = np.zeros(10)\n",
        "\n",
        "for k in range(2,10):\n",
        "    kmeans = KMeans().setK(k).setSeed(1).setFeaturesCol('features')\n",
        "    model = kmeans.fit(final_data)\n",
        "    cost[k] = model.summary.trainingCost\n",
        "\n",
        "# Plot the cost\n",
        "df_cost = pd.DataFrame(cost[2:])\n",
        "df_cost.columns = [\"cost\"]\n",
        "new_col = [2,3,4,5,6,7,8, 9]\n",
        "df_cost.insert(0, 'cluster', new_col)\n",
        "\n",
        "import pylab as pl\n",
        "pl.plot(df_cost.cluster, df_cost.cost)\n",
        "pl.xlabel('Number of Clusters')\n",
        "pl.ylabel('Score')\n",
        "pl.title('Elbow Curve')\n",
        "pl.show()"
      ]
    },
    {
      "cell_type": "code",
      "source": [
        "final_data.show(2)"
      ],
      "metadata": {
        "colab": {
          "base_uri": "https://localhost:8080/"
        },
        "id": "hak6uaDVBMPk",
        "outputId": "d3ee6511-ba69-4875-be83-c4986aa5e661"
      },
      "id": "hak6uaDVBMPk",
      "execution_count": 50,
      "outputs": [
        {
          "output_type": "stream",
          "name": "stdout",
          "text": [
            "+------+-------+------------------+------------------+--------------------+\n",
            "|encust|encprod|            logqty|            logtrx|            features|\n",
            "+------+-------+------------------+------------------+--------------------+\n",
            "|  4005|   1473|0.7781512503836436|0.9956351945975499|[0.77815125038364...|\n",
            "|   966|   2155|0.6989700043360189|0.6283889300503115|[0.69897000433601...|\n",
            "+------+-------+------------------+------------------+--------------------+\n",
            "only showing top 2 rows\n",
            "\n"
          ]
        }
      ]
    },
    {
      "cell_type": "code",
      "source": [
        "from yellowbrick.cluster import KElbowVisualizer\n",
        "from sklearn.cluster import KMeans\n",
        "\n",
        "import warnings\n",
        "warnings.filterwarnings(\"ignore\")"
      ],
      "metadata": {
        "id": "CtWBUyp-Ate5"
      },
      "id": "CtWBUyp-Ate5",
      "execution_count": 54,
      "outputs": []
    },
    {
      "cell_type": "code",
      "source": [
        "kdata = final_data.select(final_data['logqty'],final_data['logtrx'])\n",
        "kdata = kdata.toPandas()\n",
        "kdata.head()"
      ],
      "metadata": {
        "colab": {
          "base_uri": "https://localhost:8080/",
          "height": 206
        },
        "id": "qV0n8aXkBPon",
        "outputId": "fd3179a8-fb0c-43c7-988b-b1a6a96901c6"
      },
      "id": "qV0n8aXkBPon",
      "execution_count": 51,
      "outputs": [
        {
          "output_type": "execute_result",
          "data": {
            "text/plain": [
              "     logqty    logtrx\n",
              "0  0.778151  0.995635\n",
              "1  0.698970  0.628389\n",
              "2  1.255273  1.577492\n",
              "3  1.778151  1.895423\n",
              "4  1.079181  1.176091"
            ],
            "text/html": [
              "\n",
              "  <div id=\"df-dd876852-56f4-4624-9aaa-c133c266bcc5\">\n",
              "    <div class=\"colab-df-container\">\n",
              "      <div>\n",
              "<style scoped>\n",
              "    .dataframe tbody tr th:only-of-type {\n",
              "        vertical-align: middle;\n",
              "    }\n",
              "\n",
              "    .dataframe tbody tr th {\n",
              "        vertical-align: top;\n",
              "    }\n",
              "\n",
              "    .dataframe thead th {\n",
              "        text-align: right;\n",
              "    }\n",
              "</style>\n",
              "<table border=\"1\" class=\"dataframe\">\n",
              "  <thead>\n",
              "    <tr style=\"text-align: right;\">\n",
              "      <th></th>\n",
              "      <th>logqty</th>\n",
              "      <th>logtrx</th>\n",
              "    </tr>\n",
              "  </thead>\n",
              "  <tbody>\n",
              "    <tr>\n",
              "      <th>0</th>\n",
              "      <td>0.778151</td>\n",
              "      <td>0.995635</td>\n",
              "    </tr>\n",
              "    <tr>\n",
              "      <th>1</th>\n",
              "      <td>0.698970</td>\n",
              "      <td>0.628389</td>\n",
              "    </tr>\n",
              "    <tr>\n",
              "      <th>2</th>\n",
              "      <td>1.255273</td>\n",
              "      <td>1.577492</td>\n",
              "    </tr>\n",
              "    <tr>\n",
              "      <th>3</th>\n",
              "      <td>1.778151</td>\n",
              "      <td>1.895423</td>\n",
              "    </tr>\n",
              "    <tr>\n",
              "      <th>4</th>\n",
              "      <td>1.079181</td>\n",
              "      <td>1.176091</td>\n",
              "    </tr>\n",
              "  </tbody>\n",
              "</table>\n",
              "</div>\n",
              "      <button class=\"colab-df-convert\" onclick=\"convertToInteractive('df-dd876852-56f4-4624-9aaa-c133c266bcc5')\"\n",
              "              title=\"Convert this dataframe to an interactive table.\"\n",
              "              style=\"display:none;\">\n",
              "        \n",
              "  <svg xmlns=\"http://www.w3.org/2000/svg\" height=\"24px\"viewBox=\"0 0 24 24\"\n",
              "       width=\"24px\">\n",
              "    <path d=\"M0 0h24v24H0V0z\" fill=\"none\"/>\n",
              "    <path d=\"M18.56 5.44l.94 2.06.94-2.06 2.06-.94-2.06-.94-.94-2.06-.94 2.06-2.06.94zm-11 1L8.5 8.5l.94-2.06 2.06-.94-2.06-.94L8.5 2.5l-.94 2.06-2.06.94zm10 10l.94 2.06.94-2.06 2.06-.94-2.06-.94-.94-2.06-.94 2.06-2.06.94z\"/><path d=\"M17.41 7.96l-1.37-1.37c-.4-.4-.92-.59-1.43-.59-.52 0-1.04.2-1.43.59L10.3 9.45l-7.72 7.72c-.78.78-.78 2.05 0 2.83L4 21.41c.39.39.9.59 1.41.59.51 0 1.02-.2 1.41-.59l7.78-7.78 2.81-2.81c.8-.78.8-2.07 0-2.86zM5.41 20L4 18.59l7.72-7.72 1.47 1.35L5.41 20z\"/>\n",
              "  </svg>\n",
              "      </button>\n",
              "      \n",
              "  <style>\n",
              "    .colab-df-container {\n",
              "      display:flex;\n",
              "      flex-wrap:wrap;\n",
              "      gap: 12px;\n",
              "    }\n",
              "\n",
              "    .colab-df-convert {\n",
              "      background-color: #E8F0FE;\n",
              "      border: none;\n",
              "      border-radius: 50%;\n",
              "      cursor: pointer;\n",
              "      display: none;\n",
              "      fill: #1967D2;\n",
              "      height: 32px;\n",
              "      padding: 0 0 0 0;\n",
              "      width: 32px;\n",
              "    }\n",
              "\n",
              "    .colab-df-convert:hover {\n",
              "      background-color: #E2EBFA;\n",
              "      box-shadow: 0px 1px 2px rgba(60, 64, 67, 0.3), 0px 1px 3px 1px rgba(60, 64, 67, 0.15);\n",
              "      fill: #174EA6;\n",
              "    }\n",
              "\n",
              "    [theme=dark] .colab-df-convert {\n",
              "      background-color: #3B4455;\n",
              "      fill: #D2E3FC;\n",
              "    }\n",
              "\n",
              "    [theme=dark] .colab-df-convert:hover {\n",
              "      background-color: #434B5C;\n",
              "      box-shadow: 0px 1px 3px 1px rgba(0, 0, 0, 0.15);\n",
              "      filter: drop-shadow(0px 1px 2px rgba(0, 0, 0, 0.3));\n",
              "      fill: #FFFFFF;\n",
              "    }\n",
              "  </style>\n",
              "\n",
              "      <script>\n",
              "        const buttonEl =\n",
              "          document.querySelector('#df-dd876852-56f4-4624-9aaa-c133c266bcc5 button.colab-df-convert');\n",
              "        buttonEl.style.display =\n",
              "          google.colab.kernel.accessAllowed ? 'block' : 'none';\n",
              "\n",
              "        async function convertToInteractive(key) {\n",
              "          const element = document.querySelector('#df-dd876852-56f4-4624-9aaa-c133c266bcc5');\n",
              "          const dataTable =\n",
              "            await google.colab.kernel.invokeFunction('convertToInteractive',\n",
              "                                                     [key], {});\n",
              "          if (!dataTable) return;\n",
              "\n",
              "          const docLinkHtml = 'Like what you see? Visit the ' +\n",
              "            '<a target=\"_blank\" href=https://colab.research.google.com/notebooks/data_table.ipynb>data table notebook</a>'\n",
              "            + ' to learn more about interactive tables.';\n",
              "          element.innerHTML = '';\n",
              "          dataTable['output_type'] = 'display_data';\n",
              "          await google.colab.output.renderOutput(dataTable, element);\n",
              "          const docLink = document.createElement('div');\n",
              "          docLink.innerHTML = docLinkHtml;\n",
              "          element.appendChild(docLink);\n",
              "        }\n",
              "      </script>\n",
              "    </div>\n",
              "  </div>\n",
              "  "
            ]
          },
          "metadata": {},
          "execution_count": 51
        }
      ]
    },
    {
      "cell_type": "code",
      "source": [
        "#visualization\n",
        "elbow_graph = KElbowVisualizer(KMeans(), k=10)\n",
        "elbow_graph.fit(kdata)\n",
        "elbow_graph.show()"
      ],
      "metadata": {
        "colab": {
          "base_uri": "https://localhost:8080/",
          "height": 394
        },
        "id": "o0u45RxtAvHk",
        "outputId": "c372989e-e06d-4414-ab1e-a9f45f667649"
      },
      "id": "o0u45RxtAvHk",
      "execution_count": 52,
      "outputs": [
        {
          "output_type": "display_data",
          "data": {
            "text/plain": [
              "<Figure size 576x396 with 2 Axes>"
            ],
            "image/png": "[encoded data removed]"
          },
          "metadata": {}
        },
        {
          "output_type": "execute_result",
          "data": {
            "text/plain": [
              "<matplotlib.axes._subplots.AxesSubplot at 0x7ff32d6e1490>"
            ]
          },
          "metadata": {},
          "execution_count": 52
        }
      ]
    },
    {
      "cell_type": "code",
      "execution_count": 27,
      "id": "beb5bbb7",
      "metadata": {
        "colab": {
          "base_uri": "https://localhost:8080/"
        },
        "id": "beb5bbb7",
        "outputId": "2c9f339f-a5b0-42d7-e12b-cdccfa66e2dc"
      },
      "outputs": [
        {
          "output_type": "stream",
          "name": "stdout",
          "text": [
            "+------+-------+------------------+------------------+--------------------+----------+\n",
            "|encust|encprod|            logqty|            logtrx|            features|prediction|\n",
            "+------+-------+------------------+------------------+--------------------+----------+\n",
            "|  4005|   1473|0.7781512503836436|0.9956351945975499|[0.77815125038364...|         2|\n",
            "|   966|   2155|0.6989700043360189|0.6283889300503115|[0.69897000433601...|         2|\n",
            "|   966|    677| 1.255272505103306|1.5774917998372253|[1.25527250510330...|         3|\n",
            "|  3194|    454|1.7781512503836436|1.8954225460394079|[1.77815125038364...|         0|\n",
            "|   667|     76|1.0791812460476249|1.1760912590556813|[1.07918124604762...|         3|\n",
            "|  3677|    942|1.6989700043360187|2.5282737771670436|[1.69897000433601...|         0|\n",
            "|  1930|   1426|1.6812412373755872| 1.842609239610562|[1.68124123737558...|         0|\n",
            "|  1920|    754|0.9542425094393249|1.1427022457376155|[0.95424250943932...|         3|\n",
            "|   319|    631|               0.0| 1.105510184769974|[0.0,1.1055101847...|         2|\n",
            "|   554|   3236|0.7781512503836436|1.5526682161121932|[0.77815125038364...|         2|\n",
            "|  3092|   1554|0.3010299956639812|1.2304489213782739|[0.30102999566398...|         2|\n",
            "|  4217|   3070|0.9542425094393249|1.0511525224473812|[0.95424250943932...|         3|\n",
            "|   551|   2160|1.6812412373755872|1.0034605321095065|[1.68124123737558...|         3|\n",
            "|   951|   1841|0.3010299956639812|0.7708520116421442|[0.30102999566398...|         1|\n",
            "|  1552|   3360| 1.146128035678238| 1.615950051656401|[1.14612803567823...|         3|\n",
            "|   543|   2521|               2.0|1.6232492903979006|[2.0,1.6232492903...|         0|\n",
            "|   543|     82|1.0791812460476249|1.1760912590556813|[1.07918124604762...|         3|\n",
            "|  3213|   2193|1.0791812460476249|1.7737864449811935|[1.07918124604762...|         3|\n",
            "|  3007|     59|1.0791812460476249|1.4014005407815442|[1.07918124604762...|         3|\n",
            "|  3244|   2440|0.8450980400142568|  1.31492005599242|[0.84509804001425...|         2|\n",
            "+------+-------+------------------+------------------+--------------------+----------+\n",
            "only showing top 20 rows\n",
            "\n"
          ]
        }
      ],
      "source": [
        "# kmeans = KMeans(k=4, seed=1)\n",
        "model = KMeans(featuresCol='features',k=4, seed=1)\n",
        "KMeans_fit=model.fit(final_data)\n",
        "output=KMeans_fit.transform(final_data)\n",
        "output.show()"
      ]
    },
    {
      "cell_type": "code",
      "execution_count": 28,
      "id": "e1c02695",
      "metadata": {
        "colab": {
          "base_uri": "https://localhost:8080/"
        },
        "id": "e1c02695",
        "outputId": "2a7fbfb6-dad0-474c-814b-8630a63d3275"
      },
      "outputs": [
        {
          "output_type": "execute_result",
          "data": {
            "text/plain": [
              "[Row(encust=4005, encprod=1473, logqty=0.7781512503836436, logtrx=0.9956351945975499, features=DenseVector([0.7782, 0.9956]), prediction=2),\n",
              " Row(encust=966, encprod=2155, logqty=0.6989700043360189, logtrx=0.6283889300503115, features=DenseVector([0.699, 0.6284]), prediction=2),\n",
              " Row(encust=966, encprod=677, logqty=1.255272505103306, logtrx=1.5774917998372253, features=DenseVector([1.2553, 1.5775]), prediction=3),\n",
              " Row(encust=3194, encprod=454, logqty=1.7781512503836436, logtrx=1.8954225460394079, features=DenseVector([1.7782, 1.8954]), prediction=0),\n",
              " Row(encust=667, encprod=76, logqty=1.0791812460476249, logtrx=1.1760912590556813, features=DenseVector([1.0792, 1.1761]), prediction=3)]"
            ]
          },
          "metadata": {},
          "execution_count": 28
        }
      ],
      "source": [
        "output.take(5)"
      ]
    },
    {
      "cell_type": "code",
      "execution_count": 29,
      "id": "6c97c98b",
      "metadata": {
        "id": "6c97c98b"
      },
      "outputs": [],
      "source": [
        "nd = output.select(output['encust'],output['encprod'],output['prediction'])"
      ]
    },
    {
      "cell_type": "code",
      "execution_count": 30,
      "id": "c019b6b4",
      "metadata": {
        "colab": {
          "base_uri": "https://localhost:8080/"
        },
        "id": "c019b6b4",
        "outputId": "c0645bfc-42c4-40fb-8326-bc4c6477d9f1"
      },
      "outputs": [
        {
          "output_type": "stream",
          "name": "stdout",
          "text": [
            "+------+-------+----------+\n",
            "|encust|encprod|prediction|\n",
            "+------+-------+----------+\n",
            "|  4005|   1473|         2|\n",
            "|   966|   2155|         2|\n",
            "+------+-------+----------+\n",
            "only showing top 2 rows\n",
            "\n"
          ]
        }
      ],
      "source": [
        "nd.show(2)"
      ]
    },
    {
      "cell_type": "code",
      "execution_count": 31,
      "id": "466825d5",
      "metadata": {
        "colab": {
          "base_uri": "https://localhost:8080/"
        },
        "id": "466825d5",
        "outputId": "94b052fa-a5fe-4f7e-e3c0-79cf5d244d7b"
      },
      "outputs": [
        {
          "output_type": "execute_result",
          "data": {
            "text/plain": [
              "MapPartitionsRDD[1429] at javaToPython at NativeMethodAccessorImpl.java:0"
            ]
          },
          "metadata": {},
          "execution_count": 31
        }
      ],
      "source": [
        "# convert dataframe to rdd\n",
        "rdd = nd.rdd\n",
        "rdd"
      ]
    },
    {
      "cell_type": "code",
      "execution_count": 32,
      "id": "1eb72a4c",
      "metadata": {
        "id": "1eb72a4c"
      },
      "outputs": [],
      "source": [
        "# rd = []\n",
        "# # collect data from the  dataframe\n",
        "# for i in rdd.collect():\n",
        "#    rd.append(tuple(i))\n",
        "   # convert to tuple and append to list"
      ]
    },
    {
      "cell_type": "code",
      "execution_count": 33,
      "id": "477274dc",
      "metadata": {
        "colab": {
          "base_uri": "https://localhost:8080/"
        },
        "id": "477274dc",
        "outputId": "16b0bd7f-053d-4b96-dace-f0dcac835aef"
      },
      "outputs": [
        {
          "output_type": "execute_result",
          "data": {
            "text/plain": [
              "PythonRDD[1430] at RDD at PythonRDD.scala:53"
            ]
          },
          "metadata": {},
          "execution_count": 33
        }
      ],
      "source": [
        "data = rdd.map(tuple)\n",
        "# data.take(2)\n",
        "data"
      ]
    },
    {
      "cell_type": "code",
      "execution_count": 34,
      "id": "d843c540",
      "metadata": {
        "id": "d843c540"
      },
      "outputs": [],
      "source": [
        "#  rdd=spark.sparkContext.parallelize(rd)"
      ]
    },
    {
      "cell_type": "code",
      "execution_count": 35,
      "id": "667bd689",
      "metadata": {
        "id": "667bd689"
      },
      "outputs": [],
      "source": [
        "# dataColl=rdd.collect()"
      ]
    },
    {
      "cell_type": "code",
      "execution_count": 36,
      "id": "01d378b9",
      "metadata": {
        "colab": {
          "base_uri": "https://localhost:8080/"
        },
        "id": "01d378b9",
        "outputId": "101e120f-d1e3-489c-9c53-abc9d9658ac3"
      },
      "outputs": [
        {
          "output_type": "execute_result",
          "data": {
            "text/plain": [
              "[(4005, 1473, 2), (966, 2155, 2)]"
            ]
          },
          "metadata": {},
          "execution_count": 36
        }
      ],
      "source": [
        "data.take(2)"
      ]
    },
    {
      "cell_type": "code",
      "execution_count": 37,
      "id": "206473bd",
      "metadata": {
        "colab": {
          "base_uri": "https://localhost:8080/"
        },
        "id": "206473bd",
        "outputId": "eb6c06b1-d9a3-44a0-a112-835cadb57462"
      },
      "outputs": [
        {
          "output_type": "execute_result",
          "data": {
            "text/plain": [
              "PythonRDD[1434] at RDD at PythonRDD.scala:53"
            ]
          },
          "metadata": {},
          "execution_count": 37
        }
      ],
      "source": [
        "train, validation, test = data.randomSplit([.6, .2, .2], seed=99)\n",
        "# cache data\n",
        "train.cache()\n",
        "validation.cache()\n",
        "test.cache()"
      ]
    },
    {
      "cell_type": "code",
      "execution_count": 37,
      "id": "d5e8392d",
      "metadata": {
        "id": "d5e8392d"
      },
      "outputs": [],
      "source": []
    },
    {
      "cell_type": "code",
      "execution_count": 38,
      "id": "88f354b6",
      "metadata": {
        "id": "88f354b6"
      },
      "outputs": [],
      "source": [
        "def train_ALS(train_data, validation_data, num_iters, reg_param, ranks):\n",
        "    \"\"\"\n",
        "    Grid Search Function to select the best model based on RMSE of hold-out data\n",
        "    \"\"\"\n",
        "    # initial\n",
        "    min_error = float('inf')\n",
        "    best_rank = -1\n",
        "    best_regularization = 0\n",
        "    best_model = None\n",
        "    for rank in ranks:\n",
        "        for reg in reg_param:\n",
        "            # train ALS model\n",
        "            model = ALS.train(\n",
        "                ratings=train_data,    # (encust, enctprod, qtylog) tuple\n",
        "                iterations=num_iters,\n",
        "                rank=rank,\n",
        "                lambda_=reg,           # regularization param\n",
        "                seed=99)\n",
        "            # make prediction\n",
        "            valid_data = validation_data.map(lambda p: (p[0], p[1]))\n",
        "            predictions = model.predictAll(valid_data).map(lambda r: ((r[0], r[1]), r[2]))\n",
        "            # get the rating result\n",
        "            ratesAndPreds = validation_data.map(lambda r: ((r[0], r[1]), r[2])).join(predictions)\n",
        "            # get the RMSE\n",
        "            MSE = ratesAndPreds.map(lambda r: (r[1][0] - r[1][1])**2).mean()\n",
        "            error = math.sqrt(MSE)\n",
        "            print('{} latent factors and regularization = {}: validation RMSE is {}'.format(rank, reg, error))\n",
        "            if error < min_error:\n",
        "                min_error = error\n",
        "                best_rank = rank\n",
        "                best_regularization = reg\n",
        "                best_model = model\n",
        "    print('\\nThe best model has {} latent factors and regularization = {}'.format(best_rank, best_regularization))\n",
        "    return best_model"
      ]
    },
    {
      "cell_type": "code",
      "execution_count": 39,
      "id": "6808f01a",
      "metadata": {
        "colab": {
          "base_uri": "https://localhost:8080/"
        },
        "id": "6808f01a",
        "outputId": "d2e65f24-b7cd-435f-af08-1bf466479c84"
      },
      "outputs": [
        {
          "output_type": "stream",
          "name": "stdout",
          "text": [
            "20 latent factors and regularization = 0.01: validation RMSE is 1.106612668230327\n",
            "20 latent factors and regularization = 0.05: validation RMSE is 0.8884571735723852\n",
            "20 latent factors and regularization = 0.1: validation RMSE is 0.8348978928649736\n",
            "20 latent factors and regularization = 0.2: validation RMSE is 0.8357110913866176\n",
            "50 latent factors and regularization = 0.01: validation RMSE is 1.0103233409673376\n",
            "50 latent factors and regularization = 0.05: validation RMSE is 0.8601728532689794\n",
            "50 latent factors and regularization = 0.1: validation RMSE is 0.829443568380284\n",
            "50 latent factors and regularization = 0.2: validation RMSE is 0.8357865788921208\n",
            "\n",
            "The best model has 50 latent factors and regularization = 0.1\n",
            "Total Runtime: 389.21 seconds\n"
          ]
        }
      ],
      "source": [
        "# hyper-param config\n",
        "num_iterations = 10\n",
        "ranks = [20,50,100]\n",
        "reg_params = [ 0.01, 0.05, 0.1, 0.2]\n",
        "\n",
        "# grid search and select best model\n",
        "start_time = time.time()\n",
        "final_model = train_ALS(train, validation, num_iterations, reg_params, ranks)\n",
        "\n",
        "print ('Total Runtime: {:.2f} seconds'.format(time.time() - start_time))"
      ]
    },
    {
      "cell_type": "code",
      "execution_count": 40,
      "id": "b149fea3",
      "metadata": {
        "id": "b149fea3"
      },
      "outputs": [],
      "source": [
        "def plot_learning_curve(arr_iters, train_data, validation_data, reg, rank):\n",
        "    \"\"\"\n",
        "    Plot function to show learning curve of ALS\n",
        "    \"\"\"\n",
        "    errors = []\n",
        "    for num_iters in arr_iters:\n",
        "        # train ALS model\n",
        "        model = ALS.train(\n",
        "            ratings=train_data,    # (userID, productID, rating) tuple\n",
        "            iterations=num_iters,\n",
        "            rank=rank,\n",
        "            lambda_=reg,           # regularization param\n",
        "            seed=99)\n",
        "        # make prediction\n",
        "        valid_data = validation_data.map(lambda p: (p[0], p[1]))\n",
        "        predictions = model.predictAll(valid_data).map(lambda r: ((r[0], r[1]), r[2]))\n",
        "        # get the rating result\n",
        "        ratesAndPreds = validation_data.map(lambda r: ((r[0], r[1]), r[2])).join(predictions)\n",
        "        # get the RMSE\n",
        "        MSE = ratesAndPreds.map(lambda r: (r[1][0] - r[1][1])**2).mean()\n",
        "        error = math.sqrt(MSE)\n",
        "        # add to errors\n",
        "        errors.append(error)\n",
        "\n",
        "    # plot\n",
        "    plt.figure(figsize=(12, 6))\n",
        "    plt.plot(arr_iters, errors)\n",
        "    plt.xlabel('number of iterations')\n",
        "    plt.ylabel('RMSE')\n",
        "    plt.title('ALS Learning Curve')\n",
        "    plt.grid(True)\n",
        "    plt.show()"
      ]
    },
    {
      "cell_type": "code",
      "execution_count": 41,
      "id": "666e68be",
      "metadata": {
        "colab": {
          "base_uri": "https://localhost:8080/",
          "height": 404
        },
        "id": "666e68be",
        "outputId": "c262dba1-4689-4bb8-dbe1-a4d58a645f29"
      },
      "outputs": [
        {
          "output_type": "display_data",
          "data": {
            "text/plain": [
              "<Figure size 864x432 with 1 Axes>"
            ],
            "image/png": "[encoded data removed]"
          },
          "metadata": {
            "needs_background": "light"
          }
        }
      ],
      "source": [
        "# create an array of num_iters\n",
        "iter_array = list(range(1, 11))\n",
        "# create learning curve plot\n",
        "plot_learning_curve(iter_array, train, validation, 0.1, 50)"
      ]
    },
    {
      "cell_type": "code",
      "execution_count": 42,
      "id": "760b5069",
      "metadata": {
        "colab": {
          "base_uri": "https://localhost:8080/"
        },
        "id": "760b5069",
        "outputId": "15c3fb2c-2d18-4575-84a2-1501e1c1be67"
      },
      "outputs": [
        {
          "output_type": "stream",
          "name": "stdout",
          "text": [
            "The out-of-sample RMSE of rating predictions is 0.8289320259848187\n"
          ]
        }
      ],
      "source": [
        "# make prediction using test data\n",
        "test_data = test.map(lambda p: (p[0], p[1]))\n",
        "predictions = final_model.predictAll(test_data).map(lambda r: ((r[0], r[1]), r[2]))\n",
        "# get the rating result\n",
        "ratesAndPreds = test.map(lambda r: ((r[0], r[1]), r[2])).join(predictions)\n",
        "# get the RMSE\n",
        "MSE = ratesAndPreds.map(lambda r: (r[1][0] - r[1][1])**2).mean()\n",
        "error = math.sqrt(MSE)\n",
        "print('The out-of-sample RMSE of rating predictions is', error)"
      ]
    },
    {
      "cell_type": "code",
      "execution_count": 43,
      "id": "e04c0aec",
      "metadata": {
        "colab": {
          "base_uri": "https://localhost:8080/"
        },
        "id": "e04c0aec",
        "outputId": "5ffd8db5-7a17-4298-82d8-df719406a645"
      },
      "outputs": [
        {
          "output_type": "execute_result",
          "data": {
            "text/plain": [
              "[(554, 3236, 2), (3092, 1554, 2)]"
            ]
          },
          "metadata": {},
          "execution_count": 43
        }
      ],
      "source": [
        "test.take(2)"
      ]
    },
    {
      "cell_type": "code",
      "execution_count": 44,
      "id": "f946a062",
      "metadata": {
        "id": "f946a062"
      },
      "outputs": [],
      "source": [
        "def get_prod(prod_df, fav_prod_list):\n",
        "    \"\"\"\n",
        "    return all product(encprod)(s) of user's favorite product\n",
        "    \n",
        "    Parameters\n",
        "    ----------\n",
        "    prod_df: spark Dataframe, product data\n",
        "    \n",
        "    fav_movie_list: list, user's list of favorite movies\n",
        "    \n",
        "    Return\n",
        "    ------\n",
        "    prod_list: list of productid(encprod)(s)\n",
        "    \"\"\"\n",
        "    prod_list = []\n",
        "    for prod in fav_prod_list:\n",
        "        prodIds = prod_df \\\n",
        "            .filter(prod_df.Description.like('%{}%'.format(prod))) \\\n",
        "            .select('encprod') \\\n",
        "            .rdd \\\n",
        "            .map(lambda r: r[0]) \\\n",
        "            .collect()\n",
        "        prod_list.extend(prodIds)\n",
        "    return list(set(prod_list))\n",
        "\n",
        "\n",
        "def add_new_user_to_data(train_data, prod_list, spark_context):\n",
        "    \"\"\"\n",
        "    add new rows with new user, user's product and ratings(qtylog) to\n",
        "    existing train data\n",
        "\n",
        "    Parameters\n",
        "    ----------\n",
        "    train_data: spark RDD, ratings data\n",
        "    \n",
        "    prod_list: list, list of product id(encprod)(s)\n",
        "\n",
        "    spark_context: Spark Context object\n",
        "    \n",
        "    Return\n",
        "    ------\n",
        "    new train data with the new user's rows\n",
        "    \"\"\"\n",
        "    # get new customer id\n",
        "    new_id = train_data.map(lambda r: r[0]).max() + 1\n",
        "    # get max rating\n",
        "    max_rating = train_data.map(lambda r: r[2]).max()\n",
        "    # create new customer rdd\n",
        "    user_rows = [(new_id, encprod, max_rating) for encprod in prod_list]\n",
        "    new_rdd = spark_context.parallelize(user_rows)\n",
        "    # return new train data\n",
        "    return train_data.union(new_rdd)\n",
        "\n",
        "\n",
        "def get_inference_data(train_data, prod_df, prod_list):\n",
        "    \"\"\"\n",
        "    return a rdd with the encust and all product(except ones in prod_list)\n",
        "\n",
        "    Parameters\n",
        "    ----------\n",
        "    train_data: spark RDD, ratings data\n",
        "\n",
        "    prod_df: spark Dataframe, product data\n",
        "    \n",
        "    prod_list: list, list of product(s)\n",
        "\n",
        "    Return\n",
        "    ------\n",
        "    inference data: Spark RDD\n",
        "    \"\"\"\n",
        "    # get new user id\n",
        "    new_id = train_data.map(lambda r: r[0]).max() + 1\n",
        "    # return inference rdd\n",
        "    return prod_df.rdd \\\n",
        "        .map(lambda r: r[0]) \\\n",
        "        .distinct() \\\n",
        "        .filter(lambda x: x not in prod_list) \\\n",
        "        .map(lambda x: (new_id, x))\n",
        "\n",
        "\n",
        "def make_recommendation(best_model_params, ratings_data, prod_df, \n",
        "                        fav_prod_list, n_recommendations, spark_context):\n",
        "    \"\"\"\n",
        "    return top n product recommendation based on user's input list of product\n",
        "\n",
        "\n",
        "    Parameters\n",
        "    ----------\n",
        "    best_model_params: dict, {'iterations': iter, 'rank': rank, 'lambda_': reg}\n",
        "\n",
        "    ratings_data: spark RDD, ratings data\n",
        "\n",
        "    prod_df: spark Dataframe, product data\n",
        "\n",
        "    fav_prod_list: list, user's list of product\n",
        "\n",
        "    n_recommendations: int, top n recommendations\n",
        "\n",
        "    spark_context: Spark Context object\n",
        "\n",
        "    Return\n",
        "    ------\n",
        "    list of top n product recommendations\n",
        "    \"\"\"\n",
        "    # modify train data by adding new user's rows\n",
        "    prod_list = get_prod(prod_df, fav_prod_list)\n",
        "    train_data = add_new_user_to_data(ratings_data, prod_list, spark_context)\n",
        "    \n",
        "    # train best ALS\n",
        "    model = ALS.train(\n",
        "        ratings=train_data,\n",
        "        iterations=best_model_params.get('iterations', None),\n",
        "        rank=best_model_params.get('rank', None),\n",
        "        lambda_=best_model_params.get('lambda_', None),\n",
        "        seed=99)\n",
        "    \n",
        "    # get inference rdd\n",
        "    inference_rdd = get_inference_data(ratings_data, prod_df, prod_list\n",
        "                                      \n",
        "                                      \n",
        "                                      )\n",
        "    \n",
        "    # inference\n",
        "    predictions = model.predictAll(inference_rdd).map(lambda r: (r[1], r[2]))\n",
        "    \n",
        "    # get top n product(encprod)\n",
        "    topn_rows = predictions.sortBy(lambda r: r[1], ascending=False).take(n_recommendations)\n",
        "    topn_ids = [r[0] for r in topn_rows]\n",
        "    \n",
        "    # return prodcut description\n",
        "    return prod_df.filter(prod_df.encprod.isin(topn_ids)) \\\n",
        "                    .select('Description') \\\n",
        "                    .rdd \\\n",
        "                    .map(lambda r: r[0]) \\\n",
        "                    .collect()"
      ]
    },
    {
      "cell_type": "code",
      "execution_count": 45,
      "id": "e13b0314",
      "metadata": {
        "colab": {
          "base_uri": "https://localhost:8080/"
        },
        "id": "e13b0314",
        "outputId": "5ec82232-24c3-4ab9-a713-e6c7ba500069"
      },
      "outputs": [
        {
          "output_type": "stream",
          "name": "stdout",
          "text": [
            "Recommendations for JUMBO BAG ALPHABET:\n",
            "1: JUMBO BAG PINK VINTAGE PAISLEY\n",
            "2: CRYSTAL STUD EARRINGS ASSORTED COL \n",
            "3: JUMBO BAG SCANDINAVIAN PAISLEY\n",
            "4: JUMBO STORAGE BAG SUKI\n",
            "5: HAIRCLIPS FORTIES FABRIC ASSORTED\n",
            "6: ANTIQUE GLASS PLACE SETTING\n",
            "7: JUMBO BAG APPLES\n",
            "8: JUMBO BAG OWLS\n",
            "9: WHITE FRANGIPANI HAIR CLIP\n",
            "10: JUMBO BAG PINK POLKADOT\n"
          ]
        }
      ],
      "source": [
        "# my product\n",
        "my_prod = ['JUMBO BAG ALPHABET']\n",
        "\n",
        "# get recommends\n",
        "recommends = make_recommendation(\n",
        "    best_model_params={'iterations': 10, 'rank': 50, 'lambda_': 0.1}, \n",
        "    ratings_data=data, \n",
        "    prod_df=prod_df, \n",
        "    fav_prod_list=my_prod, \n",
        "    n_recommendations=10, \n",
        "    spark_context=sc)\n",
        "\n",
        "print('Recommendations for {}:'.format(my_prod[0]))\n",
        "for i, Description in enumerate(recommends):\n",
        "    print('{0}: {1}'.format(i+1, Description))"
      ]
    },
    {
      "cell_type": "code",
      "execution_count": 45,
      "id": "6c41d07e",
      "metadata": {
        "id": "6c41d07e"
      },
      "outputs": [],
      "source": []
    },
    {
      "cell_type": "code",
      "execution_count": 45,
      "id": "32751b80",
      "metadata": {
        "id": "32751b80"
      },
      "outputs": [],
      "source": []
    },
    {
      "cell_type": "code",
      "execution_count": 45,
      "id": "25a1a26b",
      "metadata": {
        "id": "25a1a26b"
      },
      "outputs": [],
      "source": []
    }
  ],
  "metadata": {
    "colab": {
      "collapsed_sections": [],
      "provenance": []
    },
    "kernelspec": {
      "display_name": "Python 3 (ipykernel)",
      "language": "python",
      "name": "python3"
    },
    "language_info": {
      "codemirror_mode": {
        "name": "ipython",
        "version": 3
      },
      "file_extension": ".py",
      "mimetype": "text/x-python",
      "name": "python",
      "nbconvert_exporter": "python",
      "pygments_lexer": "ipython3",
      "version": "3.10.5"
    }
  },
  "nbformat": 4,
  "nbformat_minor": 5
}