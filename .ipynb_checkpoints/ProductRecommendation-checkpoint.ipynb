{
 "cells": [
  {
   "cell_type": "code",
   "execution_count": 2,
   "id": "M3nAsWEIX1d5",
   "metadata": {
    "colab": {
     "base_uri": "https://localhost:8080/"
    },
    "id": "M3nAsWEIX1d5",
    "outputId": "0b99c4c0-ee91-4211-e8e3-387f7ecf7211"
   },
   "outputs": [],
   "source": [
    "#install surprise\n",
    "# !pip install scikit-surprise\n"
   ]
  },
  {
   "cell_type": "code",
   "execution_count": 5,
   "id": "9402d5f1",
   "metadata": {
    "id": "9402d5f1"
   },
   "outputs": [],
   "source": [
    "import pandas as pd\n",
    "import seaborn as sns\n",
    "import matplotlib.pyplot as plt\n",
    "import numpy as np\n",
    "import time, warnings\n",
    "import datetime as dt"
   ]
  },
  {
   "cell_type": "markdown",
   "id": "16086653",
   "metadata": {
    "id": "16086653"
   },
   "source": [
    "# Data Understanding"
   ]
  },
  {
   "cell_type": "markdown",
   "id": "d945a895",
   "metadata": {
    "id": "d945a895"
   },
   "source": [
    "Okay, in this time we will segmentation the customer using RFM analisys and K-Means clustering. First I will tell the data.\n",
    "here I have some data that I found from kaggle.com and here the resources : https://www.kaggle.com/datasets/lakshmi25npathi/online-retail-dataset\n",
    "the data has Atribute InvoceeNo, StockCode, Description, Quantity, UnitPrice, CustomerID, and Country.\n",
    "Data Dictionary : <br>\n",
    "- InvoiceNo : number code of the transacation\n",
    "- StockCode : the code of item\n",
    "- Description : dthe description of item\n",
    "- Quantity : count of item buying.\n",
    "- InvoiceDate : date of customers transcation full with the time.\n",
    "- UnitPrice : the price per item.\n",
    "- Country : country of customers live."
   ]
  },
  {
   "cell_type": "code",
   "execution_count": 6,
   "id": "6b4b2900",
   "metadata": {
    "id": "6b4b2900"
   },
   "outputs": [],
   "source": [
    "#load dataset\n",
    "df = pd.read_csv('cleaned_df.csv')\n",
    "rfmdf = pd.read_csv('cust_seg.csv')"
   ]
  },
  {
   "cell_type": "code",
   "execution_count": 7,
   "id": "c56b5c04",
   "metadata": {
    "colab": {
     "base_uri": "https://localhost:8080/",
     "height": 206
    },
    "id": "c56b5c04",
    "outputId": "544429e2-5a93-4918-ac4b-6892c51e26d6"
   },
   "outputs": [
    {
     "data": {
      "text/html": [
       "<div>\n",
       "<style scoped>\n",
       "    .dataframe tbody tr th:only-of-type {\n",
       "        vertical-align: middle;\n",
       "    }\n",
       "\n",
       "    .dataframe tbody tr th {\n",
       "        vertical-align: top;\n",
       "    }\n",
       "\n",
       "    .dataframe thead th {\n",
       "        text-align: right;\n",
       "    }\n",
       "</style>\n",
       "<table border=\"1\" class=\"dataframe\">\n",
       "  <thead>\n",
       "    <tr style=\"text-align: right;\">\n",
       "      <th></th>\n",
       "      <th>Unnamed: 0</th>\n",
       "      <th>InvoiceNo</th>\n",
       "      <th>StockCode</th>\n",
       "      <th>Description</th>\n",
       "      <th>Quantity</th>\n",
       "      <th>InvoiceDate</th>\n",
       "      <th>UnitPrice</th>\n",
       "      <th>CustomerID</th>\n",
       "      <th>Country</th>\n",
       "      <th>TotalTrx</th>\n",
       "      <th>invDate</th>\n",
       "      <th>year</th>\n",
       "      <th>month</th>\n",
       "      <th>day</th>\n",
       "      <th>hour</th>\n",
       "      <th>cluster</th>\n",
       "      <th>class</th>\n",
       "    </tr>\n",
       "  </thead>\n",
       "  <tbody>\n",
       "    <tr>\n",
       "      <th>0</th>\n",
       "      <td>42481</td>\n",
       "      <td>539993</td>\n",
       "      <td>22386</td>\n",
       "      <td>JUMBO BAG PINK POLKADOT</td>\n",
       "      <td>10</td>\n",
       "      <td>2011-01-04 10:00:00</td>\n",
       "      <td>1.95</td>\n",
       "      <td>13313.0</td>\n",
       "      <td>United Kingdom</td>\n",
       "      <td>19.5</td>\n",
       "      <td>2011-01-04</td>\n",
       "      <td>2011</td>\n",
       "      <td>1</td>\n",
       "      <td>4</td>\n",
       "      <td>10</td>\n",
       "      <td>0</td>\n",
       "      <td>Best Customers</td>\n",
       "    </tr>\n",
       "    <tr>\n",
       "      <th>1</th>\n",
       "      <td>42482</td>\n",
       "      <td>539993</td>\n",
       "      <td>21499</td>\n",
       "      <td>BLUE POLKADOT WRAP</td>\n",
       "      <td>25</td>\n",
       "      <td>2011-01-04 10:00:00</td>\n",
       "      <td>0.42</td>\n",
       "      <td>13313.0</td>\n",
       "      <td>United Kingdom</td>\n",
       "      <td>10.5</td>\n",
       "      <td>2011-01-04</td>\n",
       "      <td>2011</td>\n",
       "      <td>1</td>\n",
       "      <td>4</td>\n",
       "      <td>10</td>\n",
       "      <td>0</td>\n",
       "      <td>Best Customers</td>\n",
       "    </tr>\n",
       "  </tbody>\n",
       "</table>\n",
       "</div>"
      ],
      "text/plain": [
       "   Unnamed: 0  InvoiceNo StockCode              Description  Quantity  \\\n",
       "0       42481     539993     22386  JUMBO BAG PINK POLKADOT        10   \n",
       "1       42482     539993     21499       BLUE POLKADOT WRAP        25   \n",
       "\n",
       "           InvoiceDate  UnitPrice  CustomerID         Country  TotalTrx  \\\n",
       "0  2011-01-04 10:00:00       1.95     13313.0  United Kingdom      19.5   \n",
       "1  2011-01-04 10:00:00       0.42     13313.0  United Kingdom      10.5   \n",
       "\n",
       "      invDate  year  month  day  hour  cluster           class  \n",
       "0  2011-01-04  2011      1    4    10        0  Best Customers  \n",
       "1  2011-01-04  2011      1    4    10        0  Best Customers  "
      ]
     },
     "execution_count": 7,
     "metadata": {},
     "output_type": "execute_result"
    }
   ],
   "source": [
    "df.head(2)"
   ]
  },
  {
   "cell_type": "code",
   "execution_count": 6,
   "id": "5de5b46e",
   "metadata": {
    "colab": {
     "base_uri": "https://localhost:8080/"
    },
    "id": "5de5b46e",
    "outputId": "84384051-1d86-4460-c484-ca7a43708c4a"
   },
   "outputs": [
    {
     "name": "stdout",
     "output_type": "stream",
     "text": [
      "<class 'pandas.core.frame.DataFrame'>\n",
      "RangeIndex: 371727 entries, 0 to 371726\n",
      "Data columns (total 17 columns):\n",
      " #   Column       Non-Null Count   Dtype  \n",
      "---  ------       --------------   -----  \n",
      " 0   Unnamed: 0   371727 non-null  int64  \n",
      " 1   InvoiceNo    371727 non-null  int64  \n",
      " 2   StockCode    371727 non-null  object \n",
      " 3   Description  371727 non-null  object \n",
      " 4   Quantity     371727 non-null  int64  \n",
      " 5   InvoiceDate  371727 non-null  object \n",
      " 6   UnitPrice    371727 non-null  float64\n",
      " 7   CustomerID   371727 non-null  float64\n",
      " 8   Country      371727 non-null  object \n",
      " 9   TotalTrx     371727 non-null  float64\n",
      " 10  invDate      371727 non-null  object \n",
      " 11  year         371727 non-null  int64  \n",
      " 12  month        371727 non-null  int64  \n",
      " 13  day          371727 non-null  int64  \n",
      " 14  hour         371727 non-null  int64  \n",
      " 15  cluster      371727 non-null  int64  \n",
      " 16  class        371727 non-null  object \n",
      "dtypes: float64(3), int64(8), object(6)\n",
      "memory usage: 48.2+ MB\n"
     ]
    }
   ],
   "source": [
    "#data understanding\n",
    "df.info()"
   ]
  },
  {
   "cell_type": "code",
   "execution_count": 8,
   "id": "582666d8",
   "metadata": {},
   "outputs": [
    {
     "data": {
      "text/html": [
       "<div>\n",
       "<style scoped>\n",
       "    .dataframe tbody tr th:only-of-type {\n",
       "        vertical-align: middle;\n",
       "    }\n",
       "\n",
       "    .dataframe tbody tr th {\n",
       "        vertical-align: top;\n",
       "    }\n",
       "\n",
       "    .dataframe thead th {\n",
       "        text-align: right;\n",
       "    }\n",
       "</style>\n",
       "<table border=\"1\" class=\"dataframe\">\n",
       "  <thead>\n",
       "    <tr style=\"text-align: right;\">\n",
       "      <th></th>\n",
       "      <th>Unnamed: 0</th>\n",
       "      <th>CustomerID</th>\n",
       "      <th>recency</th>\n",
       "      <th>frequency</th>\n",
       "      <th>monetary</th>\n",
       "      <th>rscore</th>\n",
       "      <th>fscore</th>\n",
       "      <th>mscore</th>\n",
       "      <th>cluster</th>\n",
       "      <th>class</th>\n",
       "    </tr>\n",
       "  </thead>\n",
       "  <tbody>\n",
       "    <tr>\n",
       "      <th>0</th>\n",
       "      <td>0</td>\n",
       "      <td>12346.0</td>\n",
       "      <td>325</td>\n",
       "      <td>1</td>\n",
       "      <td>77183.60</td>\n",
       "      <td>1</td>\n",
       "      <td>1</td>\n",
       "      <td>6</td>\n",
       "      <td>3</td>\n",
       "      <td>New Customers Low Spending</td>\n",
       "    </tr>\n",
       "    <tr>\n",
       "      <th>1</th>\n",
       "      <td>1</td>\n",
       "      <td>12347.0</td>\n",
       "      <td>2</td>\n",
       "      <td>151</td>\n",
       "      <td>3598.21</td>\n",
       "      <td>6</td>\n",
       "      <td>6</td>\n",
       "      <td>3</td>\n",
       "      <td>2</td>\n",
       "      <td>Midlle Spending Active customers</td>\n",
       "    </tr>\n",
       "    <tr>\n",
       "      <th>2</th>\n",
       "      <td>2</td>\n",
       "      <td>12348.0</td>\n",
       "      <td>75</td>\n",
       "      <td>14</td>\n",
       "      <td>904.44</td>\n",
       "      <td>5</td>\n",
       "      <td>5</td>\n",
       "      <td>1</td>\n",
       "      <td>0</td>\n",
       "      <td>Best Customers</td>\n",
       "    </tr>\n",
       "    <tr>\n",
       "      <th>3</th>\n",
       "      <td>3</td>\n",
       "      <td>12349.0</td>\n",
       "      <td>18</td>\n",
       "      <td>73</td>\n",
       "      <td>1757.55</td>\n",
       "      <td>6</td>\n",
       "      <td>6</td>\n",
       "      <td>2</td>\n",
       "      <td>0</td>\n",
       "      <td>Best Customers</td>\n",
       "    </tr>\n",
       "    <tr>\n",
       "      <th>4</th>\n",
       "      <td>4</td>\n",
       "      <td>12350.0</td>\n",
       "      <td>310</td>\n",
       "      <td>17</td>\n",
       "      <td>334.40</td>\n",
       "      <td>1</td>\n",
       "      <td>6</td>\n",
       "      <td>1</td>\n",
       "      <td>1</td>\n",
       "      <td>Low Spending Pasif customers</td>\n",
       "    </tr>\n",
       "  </tbody>\n",
       "</table>\n",
       "</div>"
      ],
      "text/plain": [
       "   Unnamed: 0  CustomerID  recency  frequency  monetary  rscore  fscore  \\\n",
       "0           0     12346.0      325          1  77183.60       1       1   \n",
       "1           1     12347.0        2        151   3598.21       6       6   \n",
       "2           2     12348.0       75         14    904.44       5       5   \n",
       "3           3     12349.0       18         73   1757.55       6       6   \n",
       "4           4     12350.0      310         17    334.40       1       6   \n",
       "\n",
       "   mscore  cluster                             class  \n",
       "0       6        3        New Customers Low Spending  \n",
       "1       3        2  Midlle Spending Active customers  \n",
       "2       1        0                    Best Customers  \n",
       "3       2        0                    Best Customers  \n",
       "4       1        1      Low Spending Pasif customers  "
      ]
     },
     "execution_count": 8,
     "metadata": {},
     "output_type": "execute_result"
    }
   ],
   "source": [
    "rfmdf.head()"
   ]
  },
  {
   "cell_type": "code",
   "execution_count": 9,
   "id": "3cbb3410",
   "metadata": {
    "colab": {
     "base_uri": "https://localhost:8080/"
    },
    "id": "3cbb3410",
    "outputId": "36eea68e-cf4b-4b24-8b80-91dc2ad26f8d"
   },
   "outputs": [
    {
     "data": {
      "text/plain": [
       "(371727, 17)"
      ]
     },
     "execution_count": 9,
     "metadata": {},
     "output_type": "execute_result"
    }
   ],
   "source": [
    "#total rows and columns\n",
    "df.shape\n"
   ]
  },
  {
   "cell_type": "code",
   "execution_count": 10,
   "id": "b1b4d6e3",
   "metadata": {
    "colab": {
     "base_uri": "https://localhost:8080/"
    },
    "id": "b1b4d6e3",
    "outputId": "4ce593e1-9e38-47d1-cbb5-732888b0ff35"
   },
   "outputs": [
    {
     "data": {
      "text/plain": [
       "Unnamed: 0     371727\n",
       "InvoiceNo       17132\n",
       "StockCode        3596\n",
       "Description      3572\n",
       "Quantity          294\n",
       "InvoiceDate     15989\n",
       "UnitPrice         428\n",
       "CustomerID       4219\n",
       "Country            36\n",
       "TotalTrx         2735\n",
       "invDate           285\n",
       "year                1\n",
       "month              12\n",
       "day                31\n",
       "hour               15\n",
       "cluster             4\n",
       "class               4\n",
       "dtype: int64"
      ]
     },
     "execution_count": 10,
     "metadata": {},
     "output_type": "execute_result"
    }
   ],
   "source": [
    "#check unique value for each columns\n",
    "df.nunique()"
   ]
  },
  {
   "cell_type": "code",
   "execution_count": 9,
   "id": "53380b01",
   "metadata": {
    "colab": {
     "base_uri": "https://localhost:8080/"
    },
    "id": "53380b01",
    "outputId": "70e1854c-ec9c-4a78-8856-547706003685"
   },
   "outputs": [
    {
     "data": {
      "text/plain": [
       "United Kingdom          330379\n",
       "Germany                   8528\n",
       "France                    7907\n",
       "EIRE                      6903\n",
       "Spain                     2409\n",
       "Netherlands               2287\n",
       "Belgium                   1936\n",
       "Switzerland               1792\n",
       "Portugal                  1346\n",
       "Australia                 1150\n",
       "Norway                     924\n",
       "Channel Islands            731\n",
       "Italy                      718\n",
       "Finland                    668\n",
       "Cyprus                     531\n",
       "Sweden                     425\n",
       "Austria                    390\n",
       "Denmark                    360\n",
       "Poland                     322\n",
       "Japan                      256\n",
       "Israel                     248\n",
       "Unspecified                244\n",
       "Singapore                  222\n",
       "USA                        179\n",
       "Iceland                    151\n",
       "Canada                     151\n",
       "Greece                     145\n",
       "Malta                      112\n",
       "United Arab Emirates        68\n",
       "European Community          60\n",
       "RSA                         57\n",
       "Lebanon                     45\n",
       "Brazil                      32\n",
       "Czech Republic              25\n",
       "Bahrain                     17\n",
       "Saudi Arabia                 9\n",
       "Name: Country, dtype: int64"
      ]
     },
     "execution_count": 9,
     "metadata": {},
     "output_type": "execute_result"
    }
   ],
   "source": [
    "#check value counts in country columns\n",
    "df['Country'].value_counts()"
   ]
  },
  {
   "cell_type": "code",
   "execution_count": 11,
   "id": "9b362c63",
   "metadata": {
    "colab": {
     "base_uri": "https://localhost:8080/"
    },
    "id": "9b362c63",
    "outputId": "3ac40b79-b901-4d7e-b5ee-eab64748538f"
   },
   "outputs": [
    {
     "data": {
      "text/plain": [
       "Unnamed: 0     0\n",
       "InvoiceNo      0\n",
       "StockCode      0\n",
       "Description    0\n",
       "Quantity       0\n",
       "InvoiceDate    0\n",
       "UnitPrice      0\n",
       "CustomerID     0\n",
       "Country        0\n",
       "TotalTrx       0\n",
       "invDate        0\n",
       "year           0\n",
       "month          0\n",
       "day            0\n",
       "hour           0\n",
       "cluster        0\n",
       "class          0\n",
       "dtype: int64"
      ]
     },
     "execution_count": 11,
     "metadata": {},
     "output_type": "execute_result"
    }
   ],
   "source": [
    "#check total of missing value\n",
    "df.isna().sum()"
   ]
  },
  {
   "cell_type": "code",
   "execution_count": 12,
   "id": "88e249a7",
   "metadata": {},
   "outputs": [
    {
     "data": {
      "text/plain": [
       "3"
      ]
     },
     "execution_count": 12,
     "metadata": {},
     "output_type": "execute_result"
    }
   ],
   "source": [
    "val = ['recency','frequency','monetary']\n",
    "len(val)"
   ]
  },
  {
   "cell_type": "code",
   "execution_count": 13,
   "id": "fad06e9f",
   "metadata": {
    "id": "fad06e9f"
   },
   "outputs": [
    {
     "data": {
      "image/png": "[encoded data removed]",
      "text/plain": [
       "<Figure size 720x432 with 3 Axes>"
      ]
     },
     "metadata": {
      "needs_background": "light"
     },
     "output_type": "display_data"
    }
   ],
   "source": [
    "val = ['recency','frequency','monetary']\n",
    "# adjust the figure size for better readability\n",
    "plt.figure(figsize=(10,6))\n",
    "# plotting\n",
    "for i in range(0, len(val)):\n",
    "    plt.subplot(1, len(val), i+1)\n",
    "    sns.boxplot(y=rfmdf[val[i]], color='yellow')\n",
    "    plt.tight_layout()\n"
   ]
  },
  {
   "cell_type": "code",
   "execution_count": 44,
   "id": "13b1b791",
   "metadata": {
    "id": "13b1b791"
   },
   "outputs": [],
   "source": [
    "# # def check_outlier(data, column):\n",
    "# def check_outlier(data, column):\n",
    "#     q1 = data[column].quantile(0.25)\n",
    "#     q3 = data[column].quantile(0.75)\n",
    "#     iqr = q3 - q1\n",
    "    \n",
    "#     return ['outlier' if (x<q1-1.5*iqr or x>q3+1.5*iqr) \n",
    "#                                  else 'not-outlier' for x in data[column].values]\n"
   ]
  },
  {
   "cell_type": "code",
   "execution_count": null,
   "id": "0a736f04",
   "metadata": {},
   "outputs": [],
   "source": []
  },
  {
   "cell_type": "code",
   "execution_count": 15,
   "id": "8db26dd0",
   "metadata": {
    "id": "8db26dd0"
   },
   "outputs": [
    {
     "data": {
      "image/png": "[encoded data removed]",
      "text/plain": [
       "<Figure size 720x360 with 3 Axes>"
      ]
     },
     "metadata": {
      "needs_background": "light"
     },
     "output_type": "display_data"
    }
   ],
   "source": [
    "fig, axes = plt.subplots(1,3, figsize=(10,5))\n",
    "sns.scatterplot(ax=axes[0],data=rfmdf,x='recency', y='monetary')\n",
    "sns.scatterplot(ax=axes[1],data=rfmdf,x='frequency', y='monetary')\n",
    "sns.scatterplot(ax=axes[2],data=rfmdf,y='recency', x='monetary')\n",
    "plt.tight_layout()"
   ]
  },
  {
   "cell_type": "code",
   "execution_count": 20,
   "id": "06af5b07",
   "metadata": {},
   "outputs": [],
   "source": [
    "\n",
    "df['rating'] = [0.5 if (x>0 and x < 3 and y > 0 and y <=1) else\n",
    "                1 if (x>=3 and x<=5 and y > 0 and y <= 1) else\n",
    "                1.5 if (x>5 and  x<=7 and y >0 and y <= 1) else\n",
    "                2 if (x>0 and x < 3 and y > 1 and y <= 3) else\n",
    "                2.5 if (x>0 and x < 3 and y > 3 and y <= 5) else\n",
    "                3 if (x>5 and x<=7 and y > 3 and y <= 5) else\n",
    "                3.5 if (x>0 and x <= 10  and y >0 ) else\n",
    "                4 if (x>10 and x <= 20 and y > 0 and y <= 10) else \n",
    "                4.5 if (x>10 and x<=20 and y >10 )else\n",
    "                5 if (x>20  and y > 0) else 'none' for x,y in zip(df['Quantity'], df['UnitPrice'])]"
   ]
  },
  {
   "cell_type": "code",
   "execution_count": 22,
   "id": "11445f50",
   "metadata": {},
   "outputs": [
    {
     "data": {
      "text/plain": [
       "3.5    144830\n",
       "4.0     67158\n",
       "2.0     52573\n",
       "5.0     51140\n",
       "2.5     19096\n",
       "0.5     17436\n",
       "1.0      9555\n",
       "3.0      5428\n",
       "1.5      4163\n",
       "4.5       348\n",
       "Name: rating, dtype: int64"
      ]
     },
     "execution_count": 22,
     "metadata": {},
     "output_type": "execute_result"
    }
   ],
   "source": [
    "df.rating.value_counts()"
   ]
  },
  {
   "cell_type": "code",
   "execution_count": 24,
   "id": "7bd0d86b",
   "metadata": {},
   "outputs": [
    {
     "name": "stdout",
     "output_type": "stream",
     "text": [
      "Min Transaction in Rating 0.5 is 0.001\n",
      "Max Transaction in Rating 0.5 is 2.0 \n",
      "\n",
      "Min Transaction in Rating 1.0 is 0.3\n",
      "Max Transaction in Rating 1.0 is 5.0 \n",
      "\n",
      "Min Transaction in Rating 1.5 is 0.36\n",
      "Max Transaction in Rating 1.5 is 6.0 \n",
      "\n",
      "Min Transaction in Rating 2.0 is 1.05\n",
      "Max Transaction in Rating 2.0 is 5.9 \n",
      "\n",
      "Min Transaction in Rating 2.5 is 3.25\n",
      "Max Transaction in Rating 2.5 is 9.92 \n",
      "\n",
      "Min Transaction in Rating 3.0 is 19.44\n",
      "Max Transaction in Rating 3.0 is 34.65 \n",
      "\n",
      "Min Transaction in Rating 3.5 is 0.6\n",
      "Max Transaction in Rating 3.5 is 8142.75 \n",
      "\n",
      "Min Transaction in Rating 4.0 is 0.78\n",
      "Max Transaction in Rating 4.0 is 199.0 \n",
      "\n",
      "Min Transaction in Rating 4.5 is 120.45\n",
      "Max Transaction in Rating 4.5 is 699.0 \n",
      "\n",
      "Min Transaction in Rating 5.0 is 1.26\n",
      "Max Transaction in Rating 5.0 is 168469.6 \n",
      "\n"
     ]
    }
   ],
   "source": [
    "af = np.arange(0.5,5.5,0.5)\n",
    "\n",
    "for z in af:\n",
    "    dd = df[df['rating']==z]\n",
    "    print('Min Transaction in Rating',z,'is',dd.TotalTrx.min())\n",
    "    print('Max Transaction in Rating',z,'is',dd.TotalTrx.max(),'\\n')"
   ]
  },
  {
   "cell_type": "code",
   "execution_count": 29,
   "id": "cbbc68f0",
   "metadata": {},
   "outputs": [
    {
     "data": {
      "text/html": [
       "<div>\n",
       "<style scoped>\n",
       "    .dataframe tbody tr th:only-of-type {\n",
       "        vertical-align: middle;\n",
       "    }\n",
       "\n",
       "    .dataframe tbody tr th {\n",
       "        vertical-align: top;\n",
       "    }\n",
       "\n",
       "    .dataframe thead th {\n",
       "        text-align: right;\n",
       "    }\n",
       "</style>\n",
       "<table border=\"1\" class=\"dataframe\">\n",
       "  <thead>\n",
       "    <tr style=\"text-align: right;\">\n",
       "      <th></th>\n",
       "      <th>StockCode</th>\n",
       "      <th>Description</th>\n",
       "      <th>number_of_ratings</th>\n",
       "    </tr>\n",
       "  </thead>\n",
       "  <tbody>\n",
       "    <tr>\n",
       "      <th>3179</th>\n",
       "      <td>85123A</td>\n",
       "      <td>WHITE HANGING HEART T-LIGHT HOLDER</td>\n",
       "      <td>6556.0</td>\n",
       "    </tr>\n",
       "    <tr>\n",
       "      <th>1265</th>\n",
       "      <td>22423</td>\n",
       "      <td>REGENCY CAKESTAND 3 TIER</td>\n",
       "      <td>5880.5</td>\n",
       "    </tr>\n",
       "    <tr>\n",
       "      <th>3166</th>\n",
       "      <td>85099B</td>\n",
       "      <td>JUMBO BAG RED RETROSPOT</td>\n",
       "      <td>5540.5</td>\n",
       "    </tr>\n",
       "    <tr>\n",
       "      <th>3011</th>\n",
       "      <td>84879</td>\n",
       "      <td>ASSORTED COLOUR BIRD ORNAMENT</td>\n",
       "      <td>5257.5</td>\n",
       "    </tr>\n",
       "    <tr>\n",
       "      <th>2554</th>\n",
       "      <td>47566</td>\n",
       "      <td>PARTY BUNTING</td>\n",
       "      <td>4800.0</td>\n",
       "    </tr>\n",
       "  </tbody>\n",
       "</table>\n",
       "</div>"
      ],
      "text/plain": [
       "     StockCode                         Description  number_of_ratings\n",
       "3179    85123A  WHITE HANGING HEART T-LIGHT HOLDER             6556.0\n",
       "1265     22423            REGENCY CAKESTAND 3 TIER             5880.5\n",
       "3166    85099B             JUMBO BAG RED RETROSPOT             5540.5\n",
       "3011     84879       ASSORTED COLOUR BIRD ORNAMENT             5257.5\n",
       "2554     47566                       PARTY BUNTING             4800.0"
      ]
     },
     "execution_count": 29,
     "metadata": {},
     "output_type": "execute_result"
    }
   ],
   "source": [
    "#grouping StockCode \n",
    "product_code = df.groupby(['StockCode','Description']).agg(number_of_ratings = ('rating', 'sum')).reset_index()\n",
    "#sorted by counts \n",
    "product_code = product_code.sort_values(by=['number_of_ratings'],ascending=False)\n",
    "\n",
    "product_code.head()"
   ]
  },
  {
   "cell_type": "code",
   "execution_count": 31,
   "id": "32d616f5",
   "metadata": {},
   "outputs": [
    {
     "data": {
      "text/html": [
       "<div>\n",
       "<style scoped>\n",
       "    .dataframe tbody tr th:only-of-type {\n",
       "        vertical-align: middle;\n",
       "    }\n",
       "\n",
       "    .dataframe tbody tr th {\n",
       "        vertical-align: top;\n",
       "    }\n",
       "\n",
       "    .dataframe thead th {\n",
       "        text-align: right;\n",
       "    }\n",
       "</style>\n",
       "<table border=\"1\" class=\"dataframe\">\n",
       "  <thead>\n",
       "    <tr style=\"text-align: right;\">\n",
       "      <th></th>\n",
       "      <th>StockCode</th>\n",
       "      <th>Description</th>\n",
       "      <th>number_of_ratings</th>\n",
       "    </tr>\n",
       "  </thead>\n",
       "  <tbody>\n",
       "    <tr>\n",
       "      <th>3179</th>\n",
       "      <td>85123A</td>\n",
       "      <td>WHITE HANGING HEART T-LIGHT HOLDER</td>\n",
       "      <td>6556.0</td>\n",
       "    </tr>\n",
       "    <tr>\n",
       "      <th>1265</th>\n",
       "      <td>22423</td>\n",
       "      <td>REGENCY CAKESTAND 3 TIER</td>\n",
       "      <td>5880.5</td>\n",
       "    </tr>\n",
       "    <tr>\n",
       "      <th>3166</th>\n",
       "      <td>85099B</td>\n",
       "      <td>JUMBO BAG RED RETROSPOT</td>\n",
       "      <td>5540.5</td>\n",
       "    </tr>\n",
       "    <tr>\n",
       "      <th>3011</th>\n",
       "      <td>84879</td>\n",
       "      <td>ASSORTED COLOUR BIRD ORNAMENT</td>\n",
       "      <td>5257.5</td>\n",
       "    </tr>\n",
       "    <tr>\n",
       "      <th>2554</th>\n",
       "      <td>47566</td>\n",
       "      <td>PARTY BUNTING</td>\n",
       "      <td>4800.0</td>\n",
       "    </tr>\n",
       "    <tr>\n",
       "      <th>...</th>\n",
       "      <td>...</td>\n",
       "      <td>...</td>\n",
       "      <td>...</td>\n",
       "    </tr>\n",
       "    <tr>\n",
       "      <th>3079</th>\n",
       "      <td>84990</td>\n",
       "      <td>60 GOLD AND SILVER FAIRY CAKE CASES</td>\n",
       "      <td>1.0</td>\n",
       "    </tr>\n",
       "    <tr>\n",
       "      <th>2769</th>\n",
       "      <td>84201C</td>\n",
       "      <td>HAPPY BIRTHDAY CARD TEDDY/CAKE</td>\n",
       "      <td>1.0</td>\n",
       "    </tr>\n",
       "    <tr>\n",
       "      <th>2840</th>\n",
       "      <td>84534B</td>\n",
       "      <td>FAIRY CAKE NOTEBOOK A5 SIZE</td>\n",
       "      <td>0.5</td>\n",
       "    </tr>\n",
       "    <tr>\n",
       "      <th>2776</th>\n",
       "      <td>84227</td>\n",
       "      <td>HEN HOUSE W CHICK IN NEST</td>\n",
       "      <td>0.5</td>\n",
       "    </tr>\n",
       "    <tr>\n",
       "      <th>3393</th>\n",
       "      <td>90084</td>\n",
       "      <td>PINK CRYSTAL GUITAR PHONE CHARM</td>\n",
       "      <td>0.5</td>\n",
       "    </tr>\n",
       "  </tbody>\n",
       "</table>\n",
       "<p>3596 rows × 3 columns</p>\n",
       "</div>"
      ],
      "text/plain": [
       "     StockCode                          Description  number_of_ratings\n",
       "3179    85123A   WHITE HANGING HEART T-LIGHT HOLDER             6556.0\n",
       "1265     22423             REGENCY CAKESTAND 3 TIER             5880.5\n",
       "3166    85099B              JUMBO BAG RED RETROSPOT             5540.5\n",
       "3011     84879        ASSORTED COLOUR BIRD ORNAMENT             5257.5\n",
       "2554     47566                        PARTY BUNTING             4800.0\n",
       "...        ...                                  ...                ...\n",
       "3079     84990  60 GOLD AND SILVER FAIRY CAKE CASES                1.0\n",
       "2769    84201C       HAPPY BIRTHDAY CARD TEDDY/CAKE                1.0\n",
       "2840    84534B          FAIRY CAKE NOTEBOOK A5 SIZE                0.5\n",
       "2776     84227            HEN HOUSE W CHICK IN NEST                0.5\n",
       "3393     90084      PINK CRYSTAL GUITAR PHONE CHARM                0.5\n",
       "\n",
       "[3596 rows x 3 columns]"
      ]
     },
     "execution_count": 31,
     "metadata": {},
     "output_type": "execute_result"
    }
   ],
   "source": [
    "product_code.sort_values(by='number_of_ratings',ascending=False)"
   ]
  },
  {
   "cell_type": "code",
   "execution_count": 32,
   "id": "d0116c2c",
   "metadata": {},
   "outputs": [
    {
     "data": {
      "text/html": [
       "<div>\n",
       "<style scoped>\n",
       "    .dataframe tbody tr th:only-of-type {\n",
       "        vertical-align: middle;\n",
       "    }\n",
       "\n",
       "    .dataframe tbody tr th {\n",
       "        vertical-align: top;\n",
       "    }\n",
       "\n",
       "    .dataframe thead th {\n",
       "        text-align: right;\n",
       "    }\n",
       "</style>\n",
       "<table border=\"1\" class=\"dataframe\">\n",
       "  <thead>\n",
       "    <tr style=\"text-align: right;\">\n",
       "      <th></th>\n",
       "      <th>InvoiceNo</th>\n",
       "      <th>StockCode</th>\n",
       "      <th>Description</th>\n",
       "      <th>Quantity</th>\n",
       "    </tr>\n",
       "  </thead>\n",
       "  <tbody>\n",
       "    <tr>\n",
       "      <th>0</th>\n",
       "      <td>539993</td>\n",
       "      <td>22386</td>\n",
       "      <td>JUMBO BAG PINK POLKADOT</td>\n",
       "      <td>10</td>\n",
       "    </tr>\n",
       "    <tr>\n",
       "      <th>1</th>\n",
       "      <td>539993</td>\n",
       "      <td>21499</td>\n",
       "      <td>BLUE POLKADOT WRAP</td>\n",
       "      <td>25</td>\n",
       "    </tr>\n",
       "    <tr>\n",
       "      <th>2</th>\n",
       "      <td>539993</td>\n",
       "      <td>21498</td>\n",
       "      <td>RED RETROSPOT WRAP</td>\n",
       "      <td>25</td>\n",
       "    </tr>\n",
       "    <tr>\n",
       "      <th>3</th>\n",
       "      <td>539993</td>\n",
       "      <td>22379</td>\n",
       "      <td>RECYCLING BAG RETROSPOT</td>\n",
       "      <td>5</td>\n",
       "    </tr>\n",
       "    <tr>\n",
       "      <th>4</th>\n",
       "      <td>539993</td>\n",
       "      <td>20718</td>\n",
       "      <td>RED RETROSPOT SHOPPER BAG</td>\n",
       "      <td>10</td>\n",
       "    </tr>\n",
       "  </tbody>\n",
       "</table>\n",
       "</div>"
      ],
      "text/plain": [
       "   InvoiceNo StockCode                Description  Quantity\n",
       "0     539993     22386    JUMBO BAG PINK POLKADOT        10\n",
       "1     539993     21499         BLUE POLKADOT WRAP        25\n",
       "2     539993     21498        RED RETROSPOT WRAP         25\n",
       "3     539993     22379   RECYCLING BAG RETROSPOT          5\n",
       "4     539993     20718  RED RETROSPOT SHOPPER BAG        10"
      ]
     },
     "execution_count": 32,
     "metadata": {},
     "output_type": "execute_result"
    }
   ],
   "source": [
    "df_baskets = df[['InvoiceNo', 'StockCode', 'Description', 'Quantity']]\n",
    "df_baskets.head()"
   ]
  },
  {
   "cell_type": "code",
   "execution_count": 33,
   "id": "67d4c1bf",
   "metadata": {},
   "outputs": [
    {
     "data": {
      "text/html": [
       "<div>\n",
       "<style scoped>\n",
       "    .dataframe tbody tr th:only-of-type {\n",
       "        vertical-align: middle;\n",
       "    }\n",
       "\n",
       "    .dataframe tbody tr th {\n",
       "        vertical-align: top;\n",
       "    }\n",
       "\n",
       "    .dataframe thead th {\n",
       "        text-align: right;\n",
       "    }\n",
       "</style>\n",
       "<table border=\"1\" class=\"dataframe\">\n",
       "  <thead>\n",
       "    <tr style=\"text-align: right;\">\n",
       "      <th></th>\n",
       "      <th>orders</th>\n",
       "      <th>quantity</th>\n",
       "    </tr>\n",
       "    <tr>\n",
       "      <th>Description</th>\n",
       "      <th></th>\n",
       "      <th></th>\n",
       "    </tr>\n",
       "  </thead>\n",
       "  <tbody>\n",
       "    <tr>\n",
       "      <th>mailout</th>\n",
       "      <td>1945</td>\n",
       "      <td>43236</td>\n",
       "    </tr>\n",
       "    <tr>\n",
       "      <th>WHITE HANGING HEART T-LIGHT HOLDER</th>\n",
       "      <td>1777</td>\n",
       "      <td>33171</td>\n",
       "    </tr>\n",
       "    <tr>\n",
       "      <th>REGENCY CAKESTAND 3 TIER</th>\n",
       "      <td>1566</td>\n",
       "      <td>10832</td>\n",
       "    </tr>\n",
       "    <tr>\n",
       "      <th>JUMBO BAG RED RETROSPOT</th>\n",
       "      <td>1517</td>\n",
       "      <td>44125</td>\n",
       "    </tr>\n",
       "    <tr>\n",
       "      <th>PARTY BUNTING</th>\n",
       "      <td>1356</td>\n",
       "      <td>15101</td>\n",
       "    </tr>\n",
       "    <tr>\n",
       "      <th>ASSORTED COLOUR BIRD ORNAMENT</th>\n",
       "      <td>1284</td>\n",
       "      <td>33095</td>\n",
       "    </tr>\n",
       "    <tr>\n",
       "      <th>LUNCH BAG RED RETROSPOT</th>\n",
       "      <td>1235</td>\n",
       "      <td>17249</td>\n",
       "    </tr>\n",
       "    <tr>\n",
       "      <th>SET OF 3 CAKE TINS PANTRY DESIGN</th>\n",
       "      <td>1099</td>\n",
       "      <td>6808</td>\n",
       "    </tr>\n",
       "    <tr>\n",
       "      <th>POSTAGE</th>\n",
       "      <td>1035</td>\n",
       "      <td>2900</td>\n",
       "    </tr>\n",
       "    <tr>\n",
       "      <th>SPOTTY BUNTING</th>\n",
       "      <td>1009</td>\n",
       "      <td>7785</td>\n",
       "    </tr>\n",
       "  </tbody>\n",
       "</table>\n",
       "</div>"
      ],
      "text/plain": [
       "                                    orders  quantity\n",
       "Description                                         \n",
       "mailout                               1945     43236\n",
       "WHITE HANGING HEART T-LIGHT HOLDER    1777     33171\n",
       "REGENCY CAKESTAND 3 TIER              1566     10832\n",
       "JUMBO BAG RED RETROSPOT               1517     44125\n",
       "PARTY BUNTING                         1356     15101\n",
       "ASSORTED COLOUR BIRD ORNAMENT         1284     33095\n",
       "LUNCH BAG RED RETROSPOT               1235     17249\n",
       "SET OF 3 CAKE TINS PANTRY DESIGN      1099      6808\n",
       "POSTAGE                               1035      2900\n",
       "SPOTTY BUNTING                        1009      7785"
      ]
     },
     "execution_count": 33,
     "metadata": {},
     "output_type": "execute_result"
    }
   ],
   "source": [
    "df.groupby('Description').agg(\n",
    "    orders=('InvoiceNo', 'nunique'),\n",
    "    quantity=('Quantity', 'sum')\n",
    ").sort_values(by='orders', ascending=False).head(10)"
   ]
  },
  {
   "cell_type": "code",
   "execution_count": 34,
   "id": "9b88ba33",
   "metadata": {},
   "outputs": [
    {
     "data": {
      "text/html": [
       "<div>\n",
       "<style scoped>\n",
       "    .dataframe tbody tr th:only-of-type {\n",
       "        vertical-align: middle;\n",
       "    }\n",
       "\n",
       "    .dataframe tbody tr th {\n",
       "        vertical-align: top;\n",
       "    }\n",
       "\n",
       "    .dataframe thead th {\n",
       "        text-align: right;\n",
       "    }\n",
       "</style>\n",
       "<table border=\"1\" class=\"dataframe\">\n",
       "  <thead>\n",
       "    <tr style=\"text-align: right;\">\n",
       "      <th>Description</th>\n",
       "      <th>4 PURPLE FLOCK DINNER CANDLES</th>\n",
       "      <th>50'S CHRISTMAS GIFT BAG LARGE</th>\n",
       "      <th>DOLLY GIRL BEAKER</th>\n",
       "      <th>I LOVE LONDON MINI BACKPACK</th>\n",
       "      <th>NINE DRAWER OFFICE TIDY</th>\n",
       "      <th>OVAL WALL MIRROR DIAMANTE</th>\n",
       "      <th>RED SPOT GIFT BAG LARGE</th>\n",
       "      <th>SET 2 TEA TOWELS I LOVE LONDON</th>\n",
       "      <th>SPACEBOY BABY GIFT SET</th>\n",
       "      <th>TRELLIS COAT RACK</th>\n",
       "      <th>...</th>\n",
       "      <th>ZINC T-LIGHT HOLDER STARS SMALL</th>\n",
       "      <th>ZINC WILLIE WINKIE  CANDLE STICK</th>\n",
       "      <th>ZINC WIRE KITCHEN ORGANISER</th>\n",
       "      <th>ZINC WIRE SWEETHEART LETTER TRAY</th>\n",
       "      <th>alan hodge cant mamage this section</th>\n",
       "      <th>check</th>\n",
       "      <th>found</th>\n",
       "      <th>mailout</th>\n",
       "      <th>mailout</th>\n",
       "      <th>wet damaged</th>\n",
       "    </tr>\n",
       "    <tr>\n",
       "      <th>InvoiceNo</th>\n",
       "      <th></th>\n",
       "      <th></th>\n",
       "      <th></th>\n",
       "      <th></th>\n",
       "      <th></th>\n",
       "      <th></th>\n",
       "      <th></th>\n",
       "      <th></th>\n",
       "      <th></th>\n",
       "      <th></th>\n",
       "      <th></th>\n",
       "      <th></th>\n",
       "      <th></th>\n",
       "      <th></th>\n",
       "      <th></th>\n",
       "      <th></th>\n",
       "      <th></th>\n",
       "      <th></th>\n",
       "      <th></th>\n",
       "      <th></th>\n",
       "      <th></th>\n",
       "    </tr>\n",
       "  </thead>\n",
       "  <tbody>\n",
       "    <tr>\n",
       "      <th>539993</th>\n",
       "      <td>0.0</td>\n",
       "      <td>0.0</td>\n",
       "      <td>0.0</td>\n",
       "      <td>0.0</td>\n",
       "      <td>0.0</td>\n",
       "      <td>0.0</td>\n",
       "      <td>0.0</td>\n",
       "      <td>0.0</td>\n",
       "      <td>0.0</td>\n",
       "      <td>0.0</td>\n",
       "      <td>...</td>\n",
       "      <td>0.0</td>\n",
       "      <td>0.0</td>\n",
       "      <td>0.0</td>\n",
       "      <td>0.0</td>\n",
       "      <td>0.0</td>\n",
       "      <td>0.0</td>\n",
       "      <td>0.0</td>\n",
       "      <td>0.0</td>\n",
       "      <td>0.0</td>\n",
       "      <td>0.0</td>\n",
       "    </tr>\n",
       "    <tr>\n",
       "      <th>540001</th>\n",
       "      <td>0.0</td>\n",
       "      <td>0.0</td>\n",
       "      <td>0.0</td>\n",
       "      <td>0.0</td>\n",
       "      <td>0.0</td>\n",
       "      <td>0.0</td>\n",
       "      <td>0.0</td>\n",
       "      <td>0.0</td>\n",
       "      <td>0.0</td>\n",
       "      <td>0.0</td>\n",
       "      <td>...</td>\n",
       "      <td>0.0</td>\n",
       "      <td>0.0</td>\n",
       "      <td>0.0</td>\n",
       "      <td>0.0</td>\n",
       "      <td>0.0</td>\n",
       "      <td>0.0</td>\n",
       "      <td>0.0</td>\n",
       "      <td>0.0</td>\n",
       "      <td>0.0</td>\n",
       "      <td>0.0</td>\n",
       "    </tr>\n",
       "    <tr>\n",
       "      <th>540002</th>\n",
       "      <td>0.0</td>\n",
       "      <td>0.0</td>\n",
       "      <td>0.0</td>\n",
       "      <td>0.0</td>\n",
       "      <td>0.0</td>\n",
       "      <td>0.0</td>\n",
       "      <td>0.0</td>\n",
       "      <td>0.0</td>\n",
       "      <td>0.0</td>\n",
       "      <td>0.0</td>\n",
       "      <td>...</td>\n",
       "      <td>0.0</td>\n",
       "      <td>0.0</td>\n",
       "      <td>0.0</td>\n",
       "      <td>0.0</td>\n",
       "      <td>0.0</td>\n",
       "      <td>0.0</td>\n",
       "      <td>0.0</td>\n",
       "      <td>0.0</td>\n",
       "      <td>0.0</td>\n",
       "      <td>0.0</td>\n",
       "    </tr>\n",
       "  </tbody>\n",
       "</table>\n",
       "<p>3 rows × 3572 columns</p>\n",
       "</div>"
      ],
      "text/plain": [
       "Description   4 PURPLE FLOCK DINNER CANDLES   50'S CHRISTMAS GIFT BAG LARGE  \\\n",
       "InvoiceNo                                                                     \n",
       "539993                                  0.0                             0.0   \n",
       "540001                                  0.0                             0.0   \n",
       "540002                                  0.0                             0.0   \n",
       "\n",
       "Description   DOLLY GIRL BEAKER   I LOVE LONDON MINI BACKPACK  \\\n",
       "InvoiceNo                                                       \n",
       "539993                      0.0                           0.0   \n",
       "540001                      0.0                           0.0   \n",
       "540002                      0.0                           0.0   \n",
       "\n",
       "Description   NINE DRAWER OFFICE TIDY   OVAL WALL MIRROR DIAMANTE   \\\n",
       "InvoiceNo                                                            \n",
       "539993                            0.0                          0.0   \n",
       "540001                            0.0                          0.0   \n",
       "540002                            0.0                          0.0   \n",
       "\n",
       "Description   RED SPOT GIFT BAG LARGE   SET 2 TEA TOWELS I LOVE LONDON   \\\n",
       "InvoiceNo                                                                 \n",
       "539993                            0.0                               0.0   \n",
       "540001                            0.0                               0.0   \n",
       "540002                            0.0                               0.0   \n",
       "\n",
       "Description   SPACEBOY BABY GIFT SET   TRELLIS COAT RACK  ...  \\\n",
       "InvoiceNo                                                 ...   \n",
       "539993                           0.0                 0.0  ...   \n",
       "540001                           0.0                 0.0  ...   \n",
       "540002                           0.0                 0.0  ...   \n",
       "\n",
       "Description  ZINC T-LIGHT HOLDER STARS SMALL  \\\n",
       "InvoiceNo                                      \n",
       "539993                                   0.0   \n",
       "540001                                   0.0   \n",
       "540002                                   0.0   \n",
       "\n",
       "Description  ZINC WILLIE WINKIE  CANDLE STICK  ZINC WIRE KITCHEN ORGANISER  \\\n",
       "InvoiceNo                                                                    \n",
       "539993                                    0.0                          0.0   \n",
       "540001                                    0.0                          0.0   \n",
       "540002                                    0.0                          0.0   \n",
       "\n",
       "Description  ZINC WIRE SWEETHEART LETTER TRAY  \\\n",
       "InvoiceNo                                       \n",
       "539993                                    0.0   \n",
       "540001                                    0.0   \n",
       "540002                                    0.0   \n",
       "\n",
       "Description  alan hodge cant mamage this section  check  found  mailout  \\\n",
       "InvoiceNo                                                                 \n",
       "539993                                       0.0    0.0    0.0      0.0   \n",
       "540001                                       0.0    0.0    0.0      0.0   \n",
       "540002                                       0.0    0.0    0.0      0.0   \n",
       "\n",
       "Description  mailout   wet damaged  \n",
       "InvoiceNo                           \n",
       "539993            0.0          0.0  \n",
       "540001            0.0          0.0  \n",
       "540002            0.0          0.0  \n",
       "\n",
       "[3 rows x 3572 columns]"
      ]
     },
     "execution_count": 34,
     "metadata": {},
     "output_type": "execute_result"
    }
   ],
   "source": [
    "df_items = df_baskets.pivot_table(index='InvoiceNo', columns=['Description'], values='Quantity').fillna(0)\n",
    "df_items.head(3)"
   ]
  },
  {
   "cell_type": "code",
   "execution_count": 53,
   "id": "9599d988",
   "metadata": {},
   "outputs": [],
   "source": [
    "def get_recommendations(df, item):\n",
    "    \"\"\"Generate a set of product recommendations using item-based collaborative filtering.\n",
    "    \n",
    "    Args:\n",
    "        df (dataframe): Pandas dataframe containing matrix of items purchased.\n",
    "        item (string): Column name for target item. \n",
    "        \n",
    "    Returns: \n",
    "        recommendations (dataframe): Pandas dataframe containing product recommendations. \n",
    "    \"\"\"\n",
    "    \n",
    "    recommendations = df.corrwith(df[item])\n",
    "    recommendations.dropna(inplace=True)\n",
    "    recommendations = pd.DataFrame(recommendations, columns=['correlation']).reset_index()\n",
    "    recommendations = recommendations.sort_values(by='correlation', ascending=False)\n",
    "    recommendations = recommendations.iloc[1:]\n",
    "    \n",
    "    return recommendations"
   ]
  },
  {
   "cell_type": "code",
   "execution_count": 54,
   "id": "cff5a78c",
   "metadata": {},
   "outputs": [
    {
     "data": {
      "text/html": [
       "<div>\n",
       "<style scoped>\n",
       "    .dataframe tbody tr th:only-of-type {\n",
       "        vertical-align: middle;\n",
       "    }\n",
       "\n",
       "    .dataframe tbody tr th {\n",
       "        vertical-align: top;\n",
       "    }\n",
       "\n",
       "    .dataframe thead th {\n",
       "        text-align: right;\n",
       "    }\n",
       "</style>\n",
       "<table border=\"1\" class=\"dataframe\">\n",
       "  <thead>\n",
       "    <tr style=\"text-align: right;\">\n",
       "      <th></th>\n",
       "      <th>Description</th>\n",
       "      <th>correlation</th>\n",
       "    </tr>\n",
       "  </thead>\n",
       "  <tbody>\n",
       "    <tr>\n",
       "      <th>3175</th>\n",
       "      <td>TEA TIME TEA TOWELS</td>\n",
       "      <td>0.831210</td>\n",
       "    </tr>\n",
       "    <tr>\n",
       "      <th>956</th>\n",
       "      <td>DOORMAT UNION FLAG</td>\n",
       "      <td>0.530680</td>\n",
       "    </tr>\n",
       "    <tr>\n",
       "      <th>943</th>\n",
       "      <td>DOORMAT HEARTS</td>\n",
       "      <td>0.476284</td>\n",
       "    </tr>\n",
       "    <tr>\n",
       "      <th>950</th>\n",
       "      <td>DOORMAT NEW ENGLAND</td>\n",
       "      <td>0.470975</td>\n",
       "    </tr>\n",
       "    <tr>\n",
       "      <th>955</th>\n",
       "      <td>DOORMAT TOPIARY</td>\n",
       "      <td>0.428955</td>\n",
       "    </tr>\n",
       "  </tbody>\n",
       "</table>\n",
       "</div>"
      ],
      "text/plain": [
       "               Description  correlation\n",
       "3175  TEA TIME TEA TOWELS      0.831210\n",
       "956     DOORMAT UNION FLAG     0.530680\n",
       "943         DOORMAT HEARTS     0.476284\n",
       "950    DOORMAT NEW ENGLAND     0.470975\n",
       "955        DOORMAT TOPIARY     0.428955"
      ]
     },
     "execution_count": 54,
     "metadata": {},
     "output_type": "execute_result"
    }
   ],
   "source": [
    "recommendations = get_recommendations(df_items, 'DOORMAT FAIRY CAKE')\n",
    "recommendations.head()"
   ]
  },
  {
   "cell_type": "code",
   "execution_count": null,
   "id": "9eecff34",
   "metadata": {},
   "outputs": [],
   "source": []
  }
 ],
 "metadata": {
  "colab": {
   "collapsed_sections": [],
   "provenance": []
  },
  "kernelspec": {
   "display_name": "Python 3 (ipykernel)",
   "language": "python",
   "name": "python3"
  },
  "language_info": {
   "codemirror_mode": {
    "name": "ipython",
    "version": 3
   },
   "file_extension": ".py",
   "mimetype": "text/x-python",
   "name": "python",
   "nbconvert_exporter": "python",
   "pygments_lexer": "ipython3",
   "version": "3.10.5"
  }
 },
 "nbformat": 4,
 "nbformat_minor": 5
}
